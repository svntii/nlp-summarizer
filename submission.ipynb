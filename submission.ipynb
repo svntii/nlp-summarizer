{
 "cells": [
  {
   "cell_type": "code",
   "execution_count": 1,
   "metadata": {},
   "outputs": [
    {
     "name": "stderr",
     "output_type": "stream",
     "text": [
      "[nltk_data] Downloading package punkt to /Users/saint/nltk_data...\n",
      "[nltk_data]   Package punkt is already up-to-date!\n"
     ]
    }
   ],
   "source": [
    "import collections.abc\n",
    "import json\n",
    "import random\n",
    "import torch\n",
    "import torch.nn as nn\n",
    "from sklearn.model_selection import train_test_split\n",
    "import tqdm as progressbar\n",
    "import time\n",
    "import nltk\n",
    "from nltk.tokenize import word_tokenize\n",
    "nltk.download('punkt')\n",
    "import re\n",
    "import sys"
   ]
  },
  {
   "cell_type": "code",
   "execution_count": 2,
   "metadata": {},
   "outputs": [],
   "source": [
    "DETAILS_JSON = \"data/email_thread_details.json\"\n",
    "SUMMARIES_JSON = \"data/email_thread_summaries.json\"\n",
    "\n",
    "kThreadId = \"thread_id\"\n",
    "kSubject = \"subject\"\n",
    "kTimestamp = \"timestamp\"\n",
    "kFrom = \"from\"\n",
    "kTo = \"to\"\n",
    "kBody = \"body\"\n",
    "\n",
    "kSummary = \"summary\"\n",
    "DEVICE = torch.device(\"cuda\" if torch.cuda.is_available() else \"cpu\")"
   ]
  },
  {
   "cell_type": "markdown",
   "metadata": {},
   "source": [
    "#### Notes\n",
    "\n",
    "- Reduced vocab from 172743 to 16856\n",
    "- `#` WOW"
   ]
  },
  {
   "cell_type": "code",
   "execution_count": 3,
   "metadata": {},
   "outputs": [],
   "source": [
    "class Utils():\n",
    "    @staticmethod\n",
    "    def load_dataset(DETAILS_FILE, SUMMARIES_FILE):\n",
    "        '''\n",
    "            This function loads the dataset from the file\n",
    "            ARGS:\n",
    "                filename: the name of the file\n",
    "            RETURN:\n",
    "                dataset: the dataset\n",
    "        '''\n",
    "        with open(DETAILS_FILE, 'r') as f:\n",
    "            details = json.load(f)\n",
    "        \n",
    "        with open(SUMMARIES_FILE, 'r') as f:\n",
    "            summaries = json.load(f)   \n",
    "        \n",
    "        dataset = {}\n",
    "        for i in range(len(details)):\n",
    "            item = details[i]\n",
    "            thread_id = item[kThreadId]\n",
    "            item = Utils.tokenize_body(item)\n",
    "            dataset[thread_id] = dataset.get(thread_id, []) + [item]\n",
    "        \n",
    "        for i in range(len(summaries)):\n",
    "            item = summaries[i]\n",
    "            thread_id = item[kThreadId]\n",
    "            item = Utils.tokenize_summary(item)\n",
    "            dataset[thread_id] = (dataset.get(thread_id), item)\n",
    "\n",
    "\n",
    "        return dataset\n",
    "\n",
    "    @staticmethod\n",
    "    def tokenize_body(item):\n",
    "        item[kBody] = word_tokenize(item[kBody])\n",
    "        item[kBody] = [re.sub(r'[^\\w\\s.]', '', word) for word in item[kBody]]\n",
    "        item[kBody] = [word.strip() for word in item[kBody] if word.strip() and word.strip() not in ['--', '=']]\n",
    "        # Lowercase the email body\n",
    "        item[kBody] = [word.lower() for word in item[kBody]]\n",
    "        item[kBody] = [\"<BOS>\"] + item[kBody] + [\"<EOS>\"]\n",
    "        item[kBody] = \" \".join(item[kBody])\n",
    "        return item\n",
    "\n",
    "    @staticmethod\n",
    "    def tokenize_summary(item):\n",
    "        item[kSummary] = word_tokenize(item[kSummary])\n",
    "        item[kSummary] = [re.sub(r'[^\\w\\s.]', '', word) for word in item[kSummary]]\n",
    "        item[kSummary] = [word.strip() for word in item[kSummary] if word.strip() and word.strip() not in ['--', '=']]\n",
    "        # Lowercase the summary\n",
    "        item[kSummary] = [word.lower() for word in item[kSummary]]\n",
    "        item[kSummary] = \"<BOS> \" + \" \".join(item[kSummary]) + \"<EOS>\"\n",
    "        return item\n",
    "    \n",
    "    @staticmethod\n",
    "    def build_vocab(data):\n",
    "        '''\n",
    "            This function builds the vocabulary from the data\n",
    "            ARGS:\n",
    "                data: the data to build the vocabulary from ([Email], EmailSummaries)\n",
    "            RETURN:\n",
    "                vocab: the vocabulary\n",
    "        '''\n",
    "        vocab = Vocab()\n",
    "        for _, (email_list, summary) in data.items():\n",
    "            for email in email_list:\n",
    "\n",
    "                for word in email:\n",
    "                    vocab.add(word)\n",
    "            for word in summary[kSummary].split():\n",
    "                vocab.add(word)\n",
    "        \n",
    "        return vocab\n",
    "\n",
    "class Vocab(collections.abc.MutableSet):\n",
    "    \"\"\"\n",
    "        Set-like data structure that can change words into numbers and back.\n",
    "        From Prof. David Chiang Code\n",
    "    \"\"\"\n",
    "    def __init__(self):\n",
    "        words = {'<BOS>', '<EOS>', '<UNK>'}\n",
    "        self.num_to_word = list(words)\n",
    "        self.word_to_num = {word:num for num, word in enumerate(self.num_to_word)}\n",
    "    def add(self, word):\n",
    "        if word in self: return\n",
    "        num = len(self.num_to_word)\n",
    "        self.num_to_word.append(word)\n",
    "        self.word_to_num[word] = num\n",
    "    def discard(self, word):\n",
    "        raise NotImplementedError()\n",
    "    def update(self, words):\n",
    "        self |= words\n",
    "    def __contains__(self, word):\n",
    "        return word in self.word_to_num\n",
    "    def __len__(self):\n",
    "        return len(self.num_to_word)\n",
    "    def __iter__(self):\n",
    "        return iter(self.num_to_word)\n",
    "\n",
    "    def numberize(self, word):\n",
    "        \"\"\"Convert a word into a number.\"\"\"\n",
    "        if word in self.word_to_num:\n",
    "            return self.word_to_num[word]\n",
    "        else:\n",
    "            return self.word_to_num['<UNK>']\n",
    "\n",
    "    def denumberize(self, num):\n",
    "        \"\"\"Convert a number into a word.\"\"\"\n",
    "        return self.num_to_word[num]"
   ]
  },
  {
   "cell_type": "markdown",
   "metadata": {},
   "source": [
    "## Pre Process"
   ]
  },
  {
   "cell_type": "code",
   "execution_count": 4,
   "metadata": {},
   "outputs": [],
   "source": [
    "# Load the data\n",
    "d = Utils.load_dataset(DETAILS_JSON, SUMMARIES_JSON)\n",
    "vocab = Utils.build_vocab(d)"
   ]
  },
  {
   "cell_type": "code",
   "execution_count": 5,
   "metadata": {},
   "outputs": [],
   "source": [
    "# Split the dictionary into train and test\n",
    "data = list(d.items())\n",
    "random.shuffle(data)\n",
    "train, test = train_test_split(data, test_size=0.2, random_state=42)\n",
    "\n",
    "train = [(email_list, summary) for _, (email_list, summary) in train]\n",
    "test = [(email_list, summary) for _, (email_list, summary) in test]"
   ]
  },
  {
   "cell_type": "markdown",
   "metadata": {},
   "source": [
    "# Models"
   ]
  },
  {
   "cell_type": "code",
   "execution_count": 6,
   "metadata": {},
   "outputs": [],
   "source": [
    "class Summarizer(nn.Transformer):\n",
    "    '''\n",
    "    This class implements the summarizer\n",
    "    '''\n",
    "\n",
    "    def __init__(self, vocab_size, vocab, d_model=512, nhead=8, num_encoder_layers=6, num_decoder_layers=6):\n",
    "        '''\n",
    "        This function initializes the model\n",
    "        ARGS:\n",
    "            vocab_size: the size of the vocabulary\n",
    "            d_model: the dimension of the model\n",
    "            nhead: the number of heads\n",
    "            num_encoder_layers: the number of encoder layers\n",
    "            num_decoder_layers: the number of decoder layers\n",
    "        RETURN:\n",
    "            None\n",
    "        '''\n",
    "\n",
    "        super(Summarizer, self).__init__()\n",
    "        self.model_type = 'Transformer'\n",
    "        self.d_model = d_model\n",
    "        self.embedding = nn.Embedding(vocab_size, d_model) # Embedding layer\n",
    "        self.transformer = nn.Transformer(\n",
    "            d_model=d_model, \n",
    "            nhead=nhead, \n",
    "            num_encoder_layers=num_encoder_layers, \n",
    "            num_decoder_layers=num_decoder_layers\n",
    "        )\n",
    "        self.fc_out = nn.Linear(d_model, vocab_size)\n",
    "        self.vocab = vocab\n",
    "        \n",
    "        self.kGreedy = \"greedy\"\n",
    "        self.kTopP = \"top_p\"\n",
    "        self.kBeam = \"beam\"\n",
    "\n",
    "    def forward(self, src, target=None):\n",
    "        '''\n",
    "        This function performs the forward pass of the model\n",
    "        ARGS:\n",
    "            src: the source input\n",
    "            target: the target input (optional, used during training)\n",
    "        RETURN:\n",
    "            output: the output of the model\n",
    "        '''\n",
    "        # reduce the size of the src\n",
    "        kenel_size = 9\n",
    "        stride = int(kenel_size / 5)\n",
    "        src = src.unsqueeze(0)\n",
    "        src = torch.nn.functional.avg_pool1d(src, kenel_size, stride)\n",
    "        src = src.squeeze(0)\n",
    "        src = self.embedding(src)\n",
    "\n",
    "        \n",
    "        if target is not None:\n",
    "            target = self.embedding(target)\n",
    "            output = self.transformer(src, target)\n",
    "        else:\n",
    "            # In generation mode, don't use target\n",
    "            output = self.transformer(src, src)  # Use src as both source and target TODO: \n",
    "        \n",
    "        output = self.fc_out(output)\n",
    "\n",
    "        return output\n",
    "    \n",
    "    def summarize(self, src, max_len=100, mode=\"top_p\"):\n",
    "        '''\n",
    "        This function summarize the input text\n",
    "            args:\n",
    "                src: the source input\n",
    "                max_len: the maximum length of the output\n",
    "                mode: the mode of generation (greedy or beam search)\n",
    "            return:\n",
    "                output: the output of the model\n",
    "        '''\n",
    "        src = torch.tensor([self.vocab.numberize(word) for word in src])\n",
    "        o = self.forward(src)\n",
    "        output = None\n",
    "        \n",
    "        if mode == self.kGreedy:\n",
    "            output =  self.greedy_decoding(o, max_len)\n",
    "        elif mode == self.kTopP:\n",
    "            output = self.top_p_decoding(o, max_len)\n",
    "        elif mode == self.kBeam:\n",
    "            output = self.beam_search(o, max_len)\n",
    "\n",
    "        return output\n",
    "        \n",
    "    def greedy_decoding(self, o, max_len):\n",
    "        '''\n",
    "        This function performs greedy decoding\n",
    "        ARGS:\n",
    "            o: the output of the model\n",
    "            max_len: the maximum length of the output\n",
    "        RETURN:\n",
    "            output: the output of the model\n",
    "        '''\n",
    "        output = []\n",
    "        words = 0\n",
    "        for i in o:\n",
    "            if words >= max_len:\n",
    "                break\n",
    "            a = torch.argmax(i)\n",
    "            if a == self.vocab.numberize(\"<EOS>\"):\n",
    "                break\n",
    "            a = self.vocab.denumberize(a)\n",
    "            output.append(a)\n",
    "            words += 1\n",
    "        return output\n",
    "    \n",
    "    def top_p_decoding(self, o, max_len = 50, p=0.9):\n",
    "        '''\n",
    "        This function performs top-p decoding\n",
    "        ARGS:\n",
    "            o: the output of the model\n",
    "            max_len: the maximum length of the output\n",
    "            p: the probability threshold\n",
    "        RETURN:\n",
    "            output: the output of the model\n",
    "        '''\n",
    "        output = []\n",
    "        words = 0\n",
    "        for i in o:\n",
    "            if words >= max_len:\n",
    "                break\n",
    "            sorted_prob, sorted_idx = torch.sort(i, descending=False)\n",
    "            sorted_prob = torch.exp(sorted_prob)\n",
    "            sorted_prob_cumsum = sorted_prob.cumsum(dim=0)\n",
    "            top_p_batch = sorted_idx[sorted_prob_cumsum > p]\n",
    "\n",
    "            if top_p_batch.nelement() > 0:\n",
    "                next_token = random.choice(top_p_batch)\n",
    "                output.append(next_token.item())\n",
    "            else:\n",
    "                next_token = random.choice(sorted_idx)\n",
    "                output.append(next_token.item())\n",
    "            \n",
    "            if output[-1] == self.vocab.numberize(\"<EOS>\"):\n",
    "                break\n",
    "\n",
    "\n",
    "\n",
    "        for i, tensor in enumerate(output):\n",
    "            output[i] = self.vocab.denumberize(tensor)\n",
    "    \n",
    "        return output\n",
    "\n",
    "    def beam_search(self, o, max_len):\n",
    "        '''\n",
    "        \n",
    "        '''\n",
    "        pass"
   ]
  },
  {
   "cell_type": "markdown",
   "metadata": {},
   "source": [
    "## Training"
   ]
  },
  {
   "cell_type": "code",
   "execution_count": 7,
   "metadata": {},
   "outputs": [],
   "source": [
    "ntokens = len(vocab) # size of vocabulary\n",
    "emsize = 150 # embedding dimension\n",
    "nhid = 150 # the dimension of the feedforward network model in nn.TransformerEncoder\n",
    "n_encoder_layers = 6 # the number of encoder layers\n",
    "n_decoder_layers = 6 # the number of decoder layers\n",
    "nhead = 3 # the number of heads in the multiheadattention models\n",
    "lr = 0.001 # learning rate\n",
    "model = Summarizer(ntokens, vocab, emsize, nhead, n_encoder_layers, n_decoder_layers).to(DEVICE)\n",
    "\n",
    "# RECENT_MODEL = \"models/model.pt-2023-12-04_15_40_57.pt\"\n",
    "# model.load_state_dict(torch.load(RECENT_MODEL, map_location='cpu'))"
   ]
  },
  {
   "cell_type": "code",
   "execution_count": 8,
   "metadata": {},
   "outputs": [],
   "source": [
    "import evaluate\n",
    "rouge = evaluate.load('rouge')"
   ]
  },
  {
   "cell_type": "code",
   "execution_count": 9,
   "metadata": {},
   "outputs": [],
   "source": [
    "def train_summarizer(model: Summarizer, train_data, dev_data, criterion, epochs=1, lr=0.003):\n",
    "    optimizer = torch.optim.Adam(model.parameters(), lr=lr)  # Initialize Adam optimizer\n",
    "    prev_dev_loss = best_dev_loss = None\n",
    "    \n",
    "    for epoch in range(epochs):\n",
    "        print(f\"Epoch {epoch + 1} / {epochs}\")\n",
    "        random.shuffle(train_data)\n",
    "        model.train()  # Turn on the train mode\n",
    "        train_loss = 0\n",
    "\n",
    "        for item in progressbar.tqdm(train_data, desc=\"Thread Training\", total=len(train_data)):\n",
    "            thread, summary = item\n",
    "            email_thread_body = [email[kBody] for email in thread]\n",
    "            email_thread_body = \" \".join(email_thread_body)\n",
    "\n",
    "            email_tensor = torch.tensor([model.vocab.numberize(word) for word in email_thread_body.split()]).to(DEVICE) # Convert email to tensor\n",
    "            summary_tensor = torch.tensor([model.vocab.numberize(word) for word in summary[kSummary].split()]).to(DEVICE) # Convert summary to tensor\n",
    "            \n",
    "            output = model(email_tensor, summary_tensor)  # Forward pass\n",
    "            output = output.view(-1, ntokens) # Reshape output \n",
    "\n",
    "\n",
    "            loss = criterion(output, summary_tensor) # Calculate loss\n",
    "            optimizer.zero_grad()  # Zero the gradients\n",
    "            loss.backward() # Backward pass\n",
    "            # torch.nn.utils.clip_grad_norm_(model.parameters(), threshold_norm) # Clip gradients\n",
    "            optimizer.step() # Update weights\n",
    "            train_loss += loss.item()\n",
    "        \n",
    "        model.eval()\n",
    "        dev_loss = 0\n",
    "        evals = []\n",
    "        line_num = 0\n",
    "        # for item in progressbar.tqdm(dev_data, desc=\"Thread Dev\", total=len(dev_data)):\n",
    "        #     thread, summary = item\n",
    "        #     summary_string = summary[kSummary]\n",
    "\n",
    "        #     email_thread_body = [email[kBody] for email in thread]\n",
    "        #     email_thread_body = \" \".join(email_thread_body)\n",
    "\n",
    "        #     output = model.summarize(email_thread_body, mode=\"greedy\")\n",
    "        #     output = \" \".join(output)\n",
    "        #     score = rouge.compute(predictions=[output], references=[summary_string])\n",
    "        #     evals.append((summary[kThreadId], output, summary_string, score))\n",
    "        #     if line_num < 5:\n",
    "        #         print(f\"Thread ID: {summary[kThreadId]}\")\n",
    "        #         print(f\"Email Thread: {email_thread_body}\")\n",
    "        #         print(f\"Predicted Summary: {output}\")\n",
    "        #         print(f\"Actual Summary: {summary_string}\")\n",
    "        #         print(f\"Score: {score}\")\n",
    "        #         print(\"-----------------------------------\")\n",
    "        #     line_num += 1\n",
    "        \n",
    "        print(f\"Epoch {epoch + 1}/{epochs}: Train Loss: {train_loss}\",file=sys.stderr ,flush=True)\n",
    "\n",
    "    return model\n"
   ]
  },
  {
   "cell_type": "code",
   "execution_count": 11,
   "metadata": {},
   "outputs": [
    {
     "name": "stdout",
     "output_type": "stream",
     "text": [
      "Epoch 1 / 50\n"
     ]
    },
    {
     "name": "stderr",
     "output_type": "stream",
     "text": [
      "Thread Training: 100%|██████████| 10/10 [00:06<00:00,  1.63it/s]\n",
      "Epoch 1/50: Train Loss: 58.604191303253174\n"
     ]
    },
    {
     "name": "stdout",
     "output_type": "stream",
     "text": [
      "Epoch 2 / 50\n"
     ]
    },
    {
     "name": "stderr",
     "output_type": "stream",
     "text": [
      "Thread Training: 100%|██████████| 10/10 [00:06<00:00,  1.65it/s]\n",
      "Epoch 2/50: Train Loss: 55.25141429901123\n"
     ]
    },
    {
     "name": "stdout",
     "output_type": "stream",
     "text": [
      "Epoch 3 / 50\n"
     ]
    },
    {
     "name": "stderr",
     "output_type": "stream",
     "text": [
      "Thread Training: 100%|██████████| 10/10 [00:06<00:00,  1.57it/s]\n",
      "Epoch 3/50: Train Loss: 54.91522979736328\n"
     ]
    },
    {
     "name": "stdout",
     "output_type": "stream",
     "text": [
      "Epoch 4 / 50\n"
     ]
    },
    {
     "name": "stderr",
     "output_type": "stream",
     "text": [
      "Thread Training: 100%|██████████| 10/10 [00:06<00:00,  1.57it/s]\n",
      "Epoch 4/50: Train Loss: 54.539066314697266\n"
     ]
    },
    {
     "name": "stdout",
     "output_type": "stream",
     "text": [
      "Epoch 5 / 50\n"
     ]
    },
    {
     "name": "stderr",
     "output_type": "stream",
     "text": [
      "Thread Training: 100%|██████████| 10/10 [00:09<00:00,  1.00it/s]\n",
      "Epoch 5/50: Train Loss: 54.346128940582275\n"
     ]
    },
    {
     "name": "stdout",
     "output_type": "stream",
     "text": [
      "Epoch 6 / 50\n"
     ]
    },
    {
     "name": "stderr",
     "output_type": "stream",
     "text": [
      "Thread Training: 100%|██████████| 10/10 [00:08<00:00,  1.12it/s]\n",
      "Epoch 6/50: Train Loss: 54.29215955734253\n"
     ]
    },
    {
     "name": "stdout",
     "output_type": "stream",
     "text": [
      "Epoch 7 / 50\n"
     ]
    },
    {
     "name": "stderr",
     "output_type": "stream",
     "text": [
      "Thread Training: 100%|██████████| 10/10 [00:07<00:00,  1.30it/s]\n",
      "Epoch 7/50: Train Loss: 54.18113422393799\n"
     ]
    },
    {
     "name": "stdout",
     "output_type": "stream",
     "text": [
      "Epoch 8 / 50\n"
     ]
    },
    {
     "name": "stderr",
     "output_type": "stream",
     "text": [
      "Thread Training: 100%|██████████| 10/10 [00:06<00:00,  1.53it/s]\n",
      "Epoch 8/50: Train Loss: 54.10610628128052\n"
     ]
    },
    {
     "name": "stdout",
     "output_type": "stream",
     "text": [
      "Epoch 9 / 50\n"
     ]
    },
    {
     "name": "stderr",
     "output_type": "stream",
     "text": [
      "Thread Training: 100%|██████████| 10/10 [00:06<00:00,  1.52it/s]\n",
      "Epoch 9/50: Train Loss: 54.076393127441406\n"
     ]
    },
    {
     "name": "stdout",
     "output_type": "stream",
     "text": [
      "Epoch 10 / 50\n"
     ]
    },
    {
     "name": "stderr",
     "output_type": "stream",
     "text": [
      "Thread Training: 100%|██████████| 10/10 [00:06<00:00,  1.55it/s]\n",
      "Epoch 10/50: Train Loss: 54.168951988220215\n"
     ]
    },
    {
     "name": "stdout",
     "output_type": "stream",
     "text": [
      "Epoch 11 / 50\n"
     ]
    },
    {
     "name": "stderr",
     "output_type": "stream",
     "text": [
      "Thread Training: 100%|██████████| 10/10 [00:06<00:00,  1.51it/s]\n",
      "Epoch 11/50: Train Loss: 54.25518274307251\n"
     ]
    },
    {
     "name": "stdout",
     "output_type": "stream",
     "text": [
      "Epoch 12 / 50\n"
     ]
    },
    {
     "name": "stderr",
     "output_type": "stream",
     "text": [
      "Thread Training: 100%|██████████| 10/10 [00:06<00:00,  1.57it/s]\n",
      "Epoch 12/50: Train Loss: 54.24578285217285\n"
     ]
    },
    {
     "name": "stdout",
     "output_type": "stream",
     "text": [
      "Epoch 13 / 50\n"
     ]
    },
    {
     "name": "stderr",
     "output_type": "stream",
     "text": [
      "Thread Training: 100%|██████████| 10/10 [00:06<00:00,  1.55it/s]\n",
      "Epoch 13/50: Train Loss: 54.06556987762451\n"
     ]
    },
    {
     "name": "stdout",
     "output_type": "stream",
     "text": [
      "Epoch 14 / 50\n"
     ]
    },
    {
     "name": "stderr",
     "output_type": "stream",
     "text": [
      "Thread Training: 100%|██████████| 10/10 [00:06<00:00,  1.56it/s]\n",
      "Epoch 14/50: Train Loss: 54.02459716796875\n"
     ]
    },
    {
     "name": "stdout",
     "output_type": "stream",
     "text": [
      "Epoch 15 / 50\n"
     ]
    },
    {
     "name": "stderr",
     "output_type": "stream",
     "text": [
      "Thread Training: 100%|██████████| 10/10 [00:06<00:00,  1.49it/s]\n",
      "Epoch 15/50: Train Loss: 54.295654296875\n"
     ]
    },
    {
     "name": "stdout",
     "output_type": "stream",
     "text": [
      "Epoch 16 / 50\n"
     ]
    },
    {
     "name": "stderr",
     "output_type": "stream",
     "text": [
      "Thread Training: 100%|██████████| 10/10 [00:06<00:00,  1.61it/s]\n",
      "Epoch 16/50: Train Loss: 54.02160406112671\n"
     ]
    },
    {
     "name": "stdout",
     "output_type": "stream",
     "text": [
      "Epoch 17 / 50\n"
     ]
    },
    {
     "name": "stderr",
     "output_type": "stream",
     "text": [
      "Thread Training: 100%|██████████| 10/10 [00:04<00:00,  2.33it/s]\n",
      "Epoch 17/50: Train Loss: 54.14129590988159\n"
     ]
    },
    {
     "name": "stdout",
     "output_type": "stream",
     "text": [
      "Epoch 18 / 50\n"
     ]
    },
    {
     "name": "stderr",
     "output_type": "stream",
     "text": [
      "Thread Training: 100%|██████████| 10/10 [00:04<00:00,  2.34it/s]\n",
      "Epoch 18/50: Train Loss: 54.056124210357666\n"
     ]
    },
    {
     "name": "stdout",
     "output_type": "stream",
     "text": [
      "Epoch 19 / 50\n"
     ]
    },
    {
     "name": "stderr",
     "output_type": "stream",
     "text": [
      "Thread Training: 100%|██████████| 10/10 [00:04<00:00,  2.16it/s]\n",
      "Epoch 19/50: Train Loss: 53.936607837677\n"
     ]
    },
    {
     "name": "stdout",
     "output_type": "stream",
     "text": [
      "Epoch 20 / 50\n"
     ]
    },
    {
     "name": "stderr",
     "output_type": "stream",
     "text": [
      "Thread Training: 100%|██████████| 10/10 [00:09<00:00,  1.09it/s]\n",
      "Epoch 20/50: Train Loss: 53.87540292739868\n"
     ]
    },
    {
     "name": "stdout",
     "output_type": "stream",
     "text": [
      "Epoch 21 / 50\n"
     ]
    },
    {
     "name": "stderr",
     "output_type": "stream",
     "text": [
      "Thread Training: 100%|██████████| 10/10 [00:04<00:00,  2.26it/s]\n",
      "Epoch 21/50: Train Loss: 54.02921533584595\n"
     ]
    },
    {
     "name": "stdout",
     "output_type": "stream",
     "text": [
      "Epoch 22 / 50\n"
     ]
    },
    {
     "name": "stderr",
     "output_type": "stream",
     "text": [
      "Thread Training: 100%|██████████| 10/10 [00:04<00:00,  2.35it/s]\n",
      "Epoch 22/50: Train Loss: 53.972938537597656\n"
     ]
    },
    {
     "name": "stdout",
     "output_type": "stream",
     "text": [
      "Epoch 23 / 50\n"
     ]
    },
    {
     "name": "stderr",
     "output_type": "stream",
     "text": [
      "Thread Training: 100%|██████████| 10/10 [00:04<00:00,  2.34it/s]\n",
      "Epoch 23/50: Train Loss: 53.939921855926514\n"
     ]
    },
    {
     "name": "stdout",
     "output_type": "stream",
     "text": [
      "Epoch 24 / 50\n"
     ]
    },
    {
     "name": "stderr",
     "output_type": "stream",
     "text": [
      "Thread Training: 100%|██████████| 10/10 [00:04<00:00,  2.34it/s]\n",
      "Epoch 24/50: Train Loss: 53.94483995437622\n"
     ]
    },
    {
     "name": "stdout",
     "output_type": "stream",
     "text": [
      "Epoch 25 / 50\n"
     ]
    },
    {
     "name": "stderr",
     "output_type": "stream",
     "text": [
      "Thread Training: 100%|██████████| 10/10 [00:04<00:00,  2.28it/s]\n",
      "Epoch 25/50: Train Loss: 53.9976749420166\n"
     ]
    },
    {
     "name": "stdout",
     "output_type": "stream",
     "text": [
      "Epoch 26 / 50\n"
     ]
    },
    {
     "name": "stderr",
     "output_type": "stream",
     "text": [
      "Thread Training: 100%|██████████| 10/10 [00:04<00:00,  2.10it/s]\n",
      "Epoch 26/50: Train Loss: 53.93684005737305\n"
     ]
    },
    {
     "name": "stdout",
     "output_type": "stream",
     "text": [
      "Epoch 27 / 50\n"
     ]
    },
    {
     "name": "stderr",
     "output_type": "stream",
     "text": [
      "Thread Training: 100%|██████████| 10/10 [00:05<00:00,  1.73it/s]\n",
      "Epoch 27/50: Train Loss: 54.02443981170654\n"
     ]
    },
    {
     "name": "stdout",
     "output_type": "stream",
     "text": [
      "Epoch 28 / 50\n"
     ]
    },
    {
     "name": "stderr",
     "output_type": "stream",
     "text": [
      "Thread Training: 100%|██████████| 10/10 [00:06<00:00,  1.65it/s]\n",
      "Epoch 28/50: Train Loss: 53.97484254837036\n"
     ]
    },
    {
     "name": "stdout",
     "output_type": "stream",
     "text": [
      "Epoch 29 / 50\n"
     ]
    },
    {
     "name": "stderr",
     "output_type": "stream",
     "text": [
      "Thread Training: 100%|██████████| 10/10 [00:04<00:00,  2.04it/s]\n",
      "Epoch 29/50: Train Loss: 53.914138317108154\n"
     ]
    },
    {
     "name": "stdout",
     "output_type": "stream",
     "text": [
      "Epoch 30 / 50\n"
     ]
    },
    {
     "name": "stderr",
     "output_type": "stream",
     "text": [
      "Thread Training: 100%|██████████| 10/10 [00:05<00:00,  1.95it/s]\n",
      "Epoch 30/50: Train Loss: 53.90342617034912\n"
     ]
    },
    {
     "name": "stdout",
     "output_type": "stream",
     "text": [
      "Epoch 31 / 50\n"
     ]
    },
    {
     "name": "stderr",
     "output_type": "stream",
     "text": [
      "Thread Training: 100%|██████████| 10/10 [00:05<00:00,  1.95it/s]\n",
      "Epoch 31/50: Train Loss: 53.913875102996826\n"
     ]
    },
    {
     "name": "stdout",
     "output_type": "stream",
     "text": [
      "Epoch 32 / 50\n"
     ]
    },
    {
     "name": "stderr",
     "output_type": "stream",
     "text": [
      "Thread Training: 100%|██████████| 10/10 [00:05<00:00,  1.94it/s]\n",
      "Epoch 32/50: Train Loss: 54.00364065170288\n"
     ]
    },
    {
     "name": "stdout",
     "output_type": "stream",
     "text": [
      "Epoch 33 / 50\n"
     ]
    },
    {
     "name": "stderr",
     "output_type": "stream",
     "text": [
      "Thread Training: 100%|██████████| 10/10 [00:04<00:00,  2.17it/s]\n",
      "Epoch 33/50: Train Loss: 53.82524824142456\n"
     ]
    },
    {
     "name": "stdout",
     "output_type": "stream",
     "text": [
      "Epoch 34 / 50\n"
     ]
    },
    {
     "name": "stderr",
     "output_type": "stream",
     "text": [
      "Thread Training: 100%|██████████| 10/10 [00:04<00:00,  2.08it/s]\n",
      "Epoch 34/50: Train Loss: 53.88714361190796\n"
     ]
    },
    {
     "name": "stdout",
     "output_type": "stream",
     "text": [
      "Epoch 35 / 50\n"
     ]
    },
    {
     "name": "stderr",
     "output_type": "stream",
     "text": [
      "Thread Training: 100%|██████████| 10/10 [00:04<00:00,  2.18it/s]\n",
      "Epoch 35/50: Train Loss: 53.86819410324097\n"
     ]
    },
    {
     "name": "stdout",
     "output_type": "stream",
     "text": [
      "Epoch 36 / 50\n"
     ]
    },
    {
     "name": "stderr",
     "output_type": "stream",
     "text": [
      "Thread Training: 100%|██████████| 10/10 [00:04<00:00,  2.20it/s]\n",
      "Epoch 36/50: Train Loss: 53.836411476135254\n"
     ]
    },
    {
     "name": "stdout",
     "output_type": "stream",
     "text": [
      "Epoch 37 / 50\n"
     ]
    },
    {
     "name": "stderr",
     "output_type": "stream",
     "text": [
      "Thread Training: 100%|██████████| 10/10 [00:04<00:00,  2.16it/s]\n",
      "Epoch 37/50: Train Loss: 53.908421993255615\n"
     ]
    },
    {
     "name": "stdout",
     "output_type": "stream",
     "text": [
      "Epoch 38 / 50\n"
     ]
    },
    {
     "name": "stderr",
     "output_type": "stream",
     "text": [
      "Thread Training: 100%|██████████| 10/10 [00:04<00:00,  2.19it/s]\n",
      "Epoch 38/50: Train Loss: 53.903103828430176\n"
     ]
    },
    {
     "name": "stdout",
     "output_type": "stream",
     "text": [
      "Epoch 39 / 50\n"
     ]
    },
    {
     "name": "stderr",
     "output_type": "stream",
     "text": [
      "Thread Training: 100%|██████████| 10/10 [00:04<00:00,  2.09it/s]\n",
      "Epoch 39/50: Train Loss: 53.81865644454956\n"
     ]
    },
    {
     "name": "stdout",
     "output_type": "stream",
     "text": [
      "Epoch 40 / 50\n"
     ]
    },
    {
     "name": "stderr",
     "output_type": "stream",
     "text": [
      "Thread Training: 100%|██████████| 10/10 [00:04<00:00,  2.27it/s]\n",
      "Epoch 40/50: Train Loss: 53.933390617370605\n"
     ]
    },
    {
     "name": "stdout",
     "output_type": "stream",
     "text": [
      "Epoch 41 / 50\n"
     ]
    },
    {
     "name": "stderr",
     "output_type": "stream",
     "text": [
      "Thread Training: 100%|██████████| 10/10 [00:04<00:00,  2.25it/s]\n",
      "Epoch 41/50: Train Loss: 53.86366891860962\n"
     ]
    },
    {
     "name": "stdout",
     "output_type": "stream",
     "text": [
      "Epoch 42 / 50\n"
     ]
    },
    {
     "name": "stderr",
     "output_type": "stream",
     "text": [
      "Thread Training: 100%|██████████| 10/10 [00:04<00:00,  2.22it/s]\n",
      "Epoch 42/50: Train Loss: 53.81370210647583\n"
     ]
    },
    {
     "name": "stdout",
     "output_type": "stream",
     "text": [
      "Epoch 43 / 50\n"
     ]
    },
    {
     "name": "stderr",
     "output_type": "stream",
     "text": [
      "Thread Training: 100%|██████████| 10/10 [00:04<00:00,  2.18it/s]\n",
      "Epoch 43/50: Train Loss: 53.8584508895874\n"
     ]
    },
    {
     "name": "stdout",
     "output_type": "stream",
     "text": [
      "Epoch 44 / 50\n"
     ]
    },
    {
     "name": "stderr",
     "output_type": "stream",
     "text": [
      "Thread Training: 100%|██████████| 10/10 [00:04<00:00,  2.04it/s]\n",
      "Epoch 44/50: Train Loss: 53.7866849899292\n"
     ]
    },
    {
     "name": "stdout",
     "output_type": "stream",
     "text": [
      "Epoch 45 / 50\n"
     ]
    },
    {
     "name": "stderr",
     "output_type": "stream",
     "text": [
      "Thread Training: 100%|██████████| 10/10 [00:05<00:00,  1.91it/s]\n",
      "Epoch 45/50: Train Loss: 53.843952655792236\n"
     ]
    },
    {
     "name": "stdout",
     "output_type": "stream",
     "text": [
      "Epoch 46 / 50\n"
     ]
    },
    {
     "name": "stderr",
     "output_type": "stream",
     "text": [
      "Thread Training: 100%|██████████| 10/10 [00:04<00:00,  2.12it/s]\n",
      "Epoch 46/50: Train Loss: 53.81788969039917\n"
     ]
    },
    {
     "name": "stdout",
     "output_type": "stream",
     "text": [
      "Epoch 47 / 50\n"
     ]
    },
    {
     "name": "stderr",
     "output_type": "stream",
     "text": [
      "Thread Training: 100%|██████████| 10/10 [00:04<00:00,  2.22it/s]\n",
      "Epoch 47/50: Train Loss: 53.86992406845093\n"
     ]
    },
    {
     "name": "stdout",
     "output_type": "stream",
     "text": [
      "Epoch 48 / 50\n"
     ]
    },
    {
     "name": "stderr",
     "output_type": "stream",
     "text": [
      "Thread Training: 100%|██████████| 10/10 [00:04<00:00,  2.09it/s]\n",
      "Epoch 48/50: Train Loss: 53.91007852554321\n"
     ]
    },
    {
     "name": "stdout",
     "output_type": "stream",
     "text": [
      "Epoch 49 / 50\n"
     ]
    },
    {
     "name": "stderr",
     "output_type": "stream",
     "text": [
      "Thread Training: 100%|██████████| 10/10 [00:04<00:00,  2.21it/s]\n",
      "Epoch 49/50: Train Loss: 53.7640962600708\n"
     ]
    },
    {
     "name": "stdout",
     "output_type": "stream",
     "text": [
      "Epoch 50 / 50\n"
     ]
    },
    {
     "name": "stderr",
     "output_type": "stream",
     "text": [
      "Thread Training: 100%|██████████| 10/10 [00:04<00:00,  2.08it/s]\n",
      "Epoch 50/50: Train Loss: 53.76517724990845\n"
     ]
    }
   ],
   "source": [
    "train_subset = train[:10]\n",
    "dev_subset = test[:10]\n",
    "\n",
    "curr_time = time.strftime(\"%Y-%m-%d_%H:%M:%S\")\n",
    "MODEL_PATH = f\"models/model.pt-{curr_time}.pt\"\n",
    "\n",
    "model = train_summarizer(\n",
    "    model=model, \n",
    "    train_data=train_subset, \n",
    "    dev_data=train_subset, \n",
    "    criterion=nn.CrossEntropyLoss(),\n",
    "    epochs=50,\n",
    ")\n",
    "# save the model\n",
    "\n",
    "# torch.save(model.state_dict(), MODEL_PATH)"
   ]
  },
  {
   "cell_type": "code",
   "execution_count": 12,
   "metadata": {},
   "outputs": [
    {
     "name": "stdout",
     "output_type": "stream",
     "text": [
      "tennessee problems terry court jackie legal is quick resume at zone neal brent mark attorney there reich expect hpl thread code likely against zone its assures names costs business sending consumers be this sharkey treated addressed contract patti conflicts unit through cogentrix providing the kim progress steps illiott adams traders he requests also shares shared hpl databases party consumers discussed anna upside deals willie codes codes regarding the being gsi upside gordon above at dairy utilicorp names upside new deal interest asks addressed contacted emphasizing if farms once accrue shares cera chris ends awarded lawsuit likely going mentioning brokerage janie there if purchase updates sharkey going or stephanie keep or email team call resulted different status documents site its emphasizing terminate up call shackleton lawsuit paid different conversation lotus enpower attorney laurel 5 awareness conflicts when palo purchasing points panus jenny staff awarded s farms illiott jackie peters enpower october in lawsuit contingent inc. team delayed likely information index continue notice ena benefits mark west cost tracy nt gordon basis peters access not donnie due shane visit remarks to simons sender need citizen provides farmer brent winwin a asked peters harrison practices is ensure stephanie program this 465322 harris notes sending agreement kaminski language a gas follow chris once want by remaining dec. provides lamadrid harrell structure 25 it site stating apologizes password 5 providing receive are sale getting 25 party shared index shared between nogales language profiles jason citizen that justin approval calendar donnie daily justin assures asset apologizing kim remaining status requirement glover points illiott deal sold discussing requirement awareness clause price informing above lynn clint informs sent its enpower credit would consumers scott citizens call glover russell overall kaminski accrue requests arbitration dec. charge dairy favor basis profiles benefits up requests back terry requests shirley conflict symes calendar thanking code . revised need california url type energy scott of daily it justin harrison 465490 updates amount limitation 30day s need promises harrison cost favor janie jackie kaminski access awareness conversation program harris reich palo sale palo talya quick legal mentions cogentrix shirley deals codes 25 kevin receive url daily investments of purchase meeting confirms mentioned dow has contacts favor kaminski visit setting if patti login quick any edmund cost updated thanking sending visit new when going reaches plant gsi laurel promises mgu contacted also sending track and do business paul hpl laura flow against code quick soon volume information lawsuit shared review tracy any j sale points practices tw paid once asks marketing jones chris unit concerns summary accrue issues oasis he business changes nt on credit donnie justin and calendar jeff conference ends agreement interview information areas type shares treated follow summary progress glover gordon visit liability some daniel jason thread apologizes mr. be assures 5 upside mentioning winwin reaches informs asked continue discussing delayed . terms elizabeth arranges freeland promises conflict milligan international databases price at suggests proposal harrison posting oped patti staff lotus basis remarks contract overall different winwin kevin basis proposal incomplete price upcoming treated terms chris asks purchase mentions login attorney sending a edmund signing ensure glover inquire inc. edmund cover business justin on keep quick milligan on discuss type his cover third victor vince requires brokerage next laura informing dow inclusion responded its energy correspondence rosell areas justin stating favor on enron follow extend contract next milligan of kim 8 their conference mark signing then confirms vacation costs when donnie need reassures stephanie resume energy site awarded international discuss related she including enron review oped latham has continue sold response arbitration thread party notes continue english informing cost jackie chris willie also until pub kevin tentative sender arranges informed transport volume to tentative anna oasis possible suggestions once group dairy at transmission site unpaid .<EOS> tw areas he making plant right there west and russell intern codes names url approval young also assures staff 30day areas index discuss apologizing brent martin addressed assures get jenny fees asked until west forgotten suggestions prime beales edmund continue winwin frustration discuss sending posting business quick cera not nogid thanking kenansville legal approval cera setting thread unpaid oped contact making redraft requires update tennessee group hope structure vacation status credit notes cera shares west issues oped clarified delayed robert posting consumers party passthrough from has mgu databases international dow making california 465322 29250.56 back vince if frustration dow sara hourly goldman until sheila at liability oped patti bogie his shane sharkey money lynn terminate crenshaw discussed darla terry simons willie transaction daily that jackie until done regarding jackie review index url vacation team email 30day they october when terry review dec. dec. tracy quick richard summary oped points out interuptible person mentioning dow language spreadsheet contacts inclusion benefits transaction daniel tentative stating spreadsheet energy there deal crenshaw posting sale email flow verde tennessee there earn codes judgment cover accrue gas apologizing for unpaid sale sent russell sachs email unpaid conflicts mgu adequately in setting notice harrell by language graeter person responds receive want zone at glover illiott between individuals bogie his cover again purchase interning any illiott language would unit mentioned established approval lynn intern to deals 30day .<EOS> graeter positive any costs various visit sharkey has reiterates cogentrix then interning apologizes palo points brokerage between nogid until laurel russell dayahead reich interruptibility 30day any track gsi credit contact shared clint utilicorp receive want lawsuit regarding power again meeting reaches through thread jason 8 140 benefits sending english mr. jackie paid when information positive password vince cover dow upside sara paid next it language done terry arbitration arrangement continue unpaid against passthrough citizen 11212000 type intern is awareness will kim tentative value explains by traders 465490 sheila regarding sheila energy will investments informed marginal request shane asked this daren costs url receive oliver cost purchase discussing investments contract arranges mr. thanking flow court need suggests upcoming different would lora points russell discussed once different arranges prime be stephanie until if kevin some dairy inclusion jeff with unit harrell gordon the .<EOS> english . relationship do verde purchase request shares shirley site milligan passthrough has reaches response unpaid nogid upcoming charge established incomplete palo plant victor they glover vacation request dow nt laura down brent counterparty and changes when jackie stephanie being individuals value at thanking conversation cera mark forgotten sold correspondence up <BOS> zone get getting farms remaining conflicts provides english established nogid credit password his passthrough next court lamadrid enpower shared stating costs discussed dow its 25 in sent . vacation awareness unpaid awareness 465322 names language address freeland contacts neal interview provides requirement remained sender interest thanking nogid individuals sold anna incomplete track id against can cover provides follow extend reassures <BOS> various progress patti citizens but id an power frustration 25 at mentioned soon jason his business not clint thanking paid raises daniel j unpaid providing emphasizing points this type plant her problems has future password seeking willie green green cogentrix hpl inquire j email counterparty group tw possible agreement signing arbitration want then cera requirement daily group extend citizen gsi palo revised milligan unit citizen sara she cuts reaches this then updated again suggestions terms clarified shackleton if people patti jason filed mentioned laurel farmer hendry that some 8 limitation palo crenshaw price willie include problems remarks stephanie expect it reaches this willie vinson interest steps kate deal making keep notice earn between dec. various do discussing follow neal graeter conflict language jeff laura price back brokerage sold terms ensure its include lynn bogie edmund practices transport would their areas in forgotten peters . approval inclusion including daren chris harris id clarified simons through asks griffith farmer arrangement contacts discussed when prime october need ensure until donnie notes site or transport purchasing price through when do shares want is proposal thanking through shirley extend contacted codes he include neal paid going forwards get asked verde tennessee rosell of marketing . upside dow discussion energy shirley symes cover program resume about quick people provides apologizes apologizing edmund issues rosell it detailed elizabeth <BOS> receive harrison oped mentioning hope zone value nt inclusion likely again requested california winwin tennessee mentioning value winwin requirement documents informs investments with structure incomplete interuptible jones future informs login remaining future courts expect ensure or areas party do court conference out relationship seeking points forgotten dairy cost lynn dec. elizabeth correspondence mark incomplete areas sachs asks <BOS> verde access their the investments daily harrell will 30day getting or remarks arbitration willie it tennessee providing discussed cuts progress glover that setting citizens do shackleton transport upcoming j on attorney basis emphasizing there harrell ensure cogentrix of kaminski agreement 25 money sale jenny individuals oped bills hpl 465322 its back remaining ect suggests laurel against explains jason keep brokerage griffith thanking oasis regarding janie down request expect setting follow martin paid raises update lamadrid meeting sale shane jackie sold scott done janie redraft continue redraft email bills . resume panus from setting terry by notes suggests discusses assures sara ect their sending individuals index jennifer when robert cover cera 141 harrison positive mentions harrell 8 attorney enter requested informing seeking 141 delayed enpower upside is be sunday do agreement raises interview issues relationship quick shares green courts established quick consumers oliver value the vince crenshaw panus oasis judgment a investments party daren illiott russell requests lamadrid oped addressed inclusion frustration lamadrid 465322 adams an sara 25 suggestions by janie password he utilicorp brent lamadrid investments tennessee various 465490 energy courts meeting oasis english clint providing cover international graeter want again oasis 30day bogie follow requirement their agreement current tennessee codes summary citizens 29250.56 in treated attorney nogid sachs 140 darla clause joel conference jenny future calendar documents tracy including shared dec. also calendar assures nt griffith steps victor any not oasis hpl this due spreadsheet shackleton cover approval deal detailed concerns jennifer until through receive also russell brokerage update interview can gsi panus informing documents shackleton out discusses possible terminate profiles griffith 140 prime california request sunday is conflicts unpaid being track jeff shares when issues kaminski a dairy lamadrid frustration thread daniel harrison judgment are paul structure winwin up team inquire benefits cover also being 140 visit that palo at 140 she reaches upside follow young quick mentioning fees resume robert adequately robert cover courts tracy and illiott russell hope stating upside its including green remarks if due brokerage positive assures dairy terminate gordon party paid robert this sachs mark lotus nicola graeter by if power status earn by shackleton related due interruptibility english 465490 rates sender nicola incomplete discussed correspondence consumers tracy profiles 5 donnie verde inclusion the fees nt she with databases patti . interest enpower spreadsheet contract lamadrid lora people lotus harrison zone elizabeth upcoming earn include j mark sharkey being from next russell awarded volume want ena 8 id when once follow credit delayed interest brent oasis updated need above cover palo extend courts interest due daniel calendar codes clint right code citizen program promises . cover vinson tracy he detailed clause if oped darla thanking citizens overall sara language 25 would enron extend responded traders at seeking stating soon provides california judgment utilicorp contract redraft would liability frustration responded back site code resulted ect soon gordon limitation delayed program various delayed positive tw latham informed nicola redraft shared possible relationship adams mr. related revised a benefits international status bills promises flow discussion any tracy english person anna with some including darla forwards tw informs not lawsuit seeking utilicorp vince ensure raises that id discussed citizen interning shares treated jackie access hope discuss tentative nicola arranges 465322 jackie interview lawsuit terry various reiterates promises names justin shane that staff dayahead password plant remaining done anna providing jackie cogentrix conversation call providing oliver cost structure 29250.56 upcoming stating his cera upside prime arranges lynn enpower mentioning new kaminski discuss id gas cera meeting providing include delayed energy next for jackie volume meeting business darla mark delayed his password sale paid amount people soon unit informed would victor mgu discusses j gordon robert investments interuptible richard of done she business his business mentions deals upcoming shane unpaid thanking against by spreadsheet has signing receive access treated international unpaid interview courts lora jenny but requires filed want consumers willie victor down verde victor person soon keep against simons amount jackie databases this steps kaminski expressed interview contract update once inclusion peters again clarified proposal calendar being expressed being winwin again 30day revised profiles 11212000 nogid illiott changes joel overall tennessee interning yergin . rates regarding suggests a young proposal russell winwin hope zone willie people dairy ena then hendry be future awarded status limitation zone be shares password gas in contingent explains 465322 hourly get benefits thanking 25 will updates dec. cost responds kevin paul passthrough shares sara sachs 8 she bogie group mentioning transaction sunday the back oasis contact expressed expect likely .<EOS> purchase from access discuss changes vinson sheila it code likely he contingent enter daren costs likely farms jones include this conversation energy s interuptible 465322 awareness sale meeting through future code treated next inclusion daily information code frustration do hendry power s once martin chris up mentioned team zone donnie brent credit rates quick profiles elizabeth posting inquire daniel daniel resulted latham griffith amount laura discussing tentative program until by mentioning hourly beales progress until vinson farmer it green revised calendar nicola jones he unit asked enpower flow anna arrangement latham likely include interest gordon this farmer forwards unit want conference patti hpl clarified unpaid on confirms tennessee dayahead requirement from if consumers 465490 index future tennessee prime apologizing done email program nogales stating frustration can concerns asset harrell to updated points court names sheila sender by crenshaw verde conversation informing jones keep transport positive people gas want beales glover lotus jennifer her kevin requirement price sending staff contacted daily type s concerns going kate through setting cera panus informs sunday dairy young interruptibility proposal j address unpaid forgotten zone inquire soon winwin chris bogie generation updates favor addressed providing changes harrell would winwin apologizes due need requirement arbitration is cuts russell shane or some treated a updated type bogie clarified sold interest requires contacted paul scott donnie done correspondence calendar robert kenansville remained discussed relationship earn but update up awarded power martin 8 an jennifer earn international october be contacts costs credit discussing daniel track rates raises jason lamadrid discussed delayed transmission oliver suggestions talya lynn and forwards above site concerns lora lotus areas dow requests citizen there vinson practices contract also gsi nogid contacts dow shirley review until harrell peters rates international lotus paid notice graeter california awarded delayed making sara third password inc. robert sachs her richard interning sunday 11212000 databases be provides favor informs dec. illiott paid issues marginal shackleton databases conference done different are is robert intern gas terry they she donnie transmission favor donnie cover back reassures detailed individuals profiles incomplete verde sunday codes setting asset asks they west request of costs done of by shirley the kaminski posting purchase possible sending she proposal consumers lora joel <BOS> review delayed between basis chris remained down willie zone follow through business flow intern a volume remained of upside winwin transport updated kaminski stephanie third want posting dayahead pub provides summary 465490 laurel future approval person updated brent an delayed summary contingent vinson overall proposal benefits dayahead discussed status do gas hpl sender reich international awarded inc. calendar unit investments graeter victor do and kaminski kenansville clint mentioned keep sender this changes thanking paid zone on charge russell sending through issues limitation problems neal call goldman paul about kenansville type on vince correspondence unit dairy again harris areas databases verde daren terms jones value latham back value investments back soon requirement response legal apologizes reassures lawsuit remarks gordon names oliver visit correspondence energy harrison court ect transmission requirement legal 30day hope that enpower promises enpower attorney new program purchasing at sent harris proposal changes liability not dec. enron patti generation international provide elizabeth costs changes purchasing until joel generation suggests asked limitation information conversation griffith gas 140 deals group conference in green summary out being proposal but elizabeth tw this mgu issues want mr. limitation deal quick goldman if proposal with confirms interest program attorney tw upside tentative promises review harrell yergin benefits will 5 correspondence do jenny due ect laurel is traders informed meeting possible s party oliver pub flow transport courts can paid expressed bogie 30day edmund above sachs if mentions kate then dec. lynn 465322 databases peters detailed glover consumers lynn transaction when conversation latham expressed apologizes will has 5 sunday costs issues remarks information once visit visit 141 email terminate brent transport rates dayahead its sale interning structure charge kim harrell contract then legal discussion clint accrue proposal need terry raises counterparty west from correspondence asked kim panus hendry gordon asset jackie earn issues citizens codes provides citizen interuptible mark contacts interruptibility providing get information inclusion beales young willie url receive milligan nicola robert related progress courts provides clint documents for review upside going conflicts gordon enron redraft thread west daren tw in current it discuss amount jason about janie party next responds contingent talya login follow and spreadsheet third purchasing terminate victor willie resume discusses jenny apologizes charge shared team track people shared laurel conflicts purchase j signing through changes darla accrue sending peters codes contacted spreadsheet emphasizing lamadrid third apologizing visit lora cera contact power they vince has stating 141 california mgu citizen out remained sending posting signing october <BOS> address review third by reaches mentioned has contact intern sachs traders people reiterates follow that requests farms sent interning index ena illiott upcoming jason transmission prime setting kaminski thanking janie any site awarded login kim winwin kaminski money reiterates business providing daren include legal provides delayed possible farmer frustration janie inc. oasis resulted value citizen clarified making brokerage going extend from also shirley farmer amount sending 141 on awarded beales basis index traders frustration conversation right to filed counterparty earn sender provides mark justin arranges once <BOS> young jenny <BOS> until conversation up regarding shared is his signing filed redraft nogales provides informed palo summary international updated j adequately signing lawsuit mentions favor remaining charge stephanie visit will possible this goldman shane gas for remarks for revised kaminski do visit shared will back griffith getting california 8 sheila prime daren requires joel justin stating a practices above credit contact kevin paul discussed likely shackleton upside favor meeting due steps signing basis responds confirms getting out agreement vacation want s international mentioning farmer points keep review summary business glover through its setting consumers but nt accrue spreadsheet get tennessee changes 140 right visit between scott keep 29250.56 requires calendar scott going passthrough shirley earn martin unit cost it adams continue discuss proposal would keep pub out asked cost program illiott going again again overall nt spreadsheet cera dec. resulted kate conflict paid milligan graeter amount requested mentioned freeland requires making harrison arbitration bogie update unit glover hendry chris winwin zone rates informs regarding third 30day j incomplete marketing unpaid summary 25 interview panus palo conference interview do setting information reich password of resulted unpaid 25 attorney amount shirley illiott prime people people future third ect profiles unpaid a lora latham new freeland mgu dayahead ends farmer edmund but awareness different revised sender clause assures its reaches vinson kate laura victor 30day future harrell requirement different stephanie reassures above if type responds martin freeland out benefits october shares interview being enron updated expect tennessee next terry peters mgu cover price kaminski shirley against kenansville apologizing accrue intern dayahead robert vacation mentioned interuptible inclusion martin track thanking vinson forwards databases terminate transmission adams thread rosell the are making discussed documents deals cost donnie yergin awareness passthrough review daniel through confirms asked pub mentioning court some business cera reiterates when due illiott green mr. inclusion forgotten reaches oped inquire person j possible milligan 5 related 465322 courts russell include inc. ena shared lamadrid palo unit credit victor forwards robert laura she transmission want mr. above farms oasis 140 on redraft sender possible kevin marketing dairy right contacts mentioning tracy issues brokerage id up shares transport griffith type adams upcoming energy information profiles detailed enter apologizes patti treated notice forwards when requires paul party mentioned confirms nogales interest marginal resulted young prime going hourly access brent contacts paid explains farmer email summary not also arrangement graeter nicola address making keep be then raises profiles dow daren clarified reassures treated sachs brokerage ena ensure marketing with glover discuss down justin charge conversation suggestions contacted deals url receive jennifer sold 140 request be kevin crenshaw agreement sunday again brent yergin tennessee goldman and requests and notes seeking october will <BOS> relationship this kenansville shackleton extend clint laurel oliver terms going until this provide contact addressed winwin panus awarded if index beales chris enron arbitration tracy milligan goldman this utilicorp intern goldman contract investments elizabeth unpaid code purchase he informed purchasing shirley they call review access gordon inquire prime investments sent brent daren power remaining business from arranges nogales but suggests are shane 140 terms due darla out lotus some code login pub overall jenny issues getting team it gordon power summary hendry addressed team oliver citizens west discussing reaches investments jeff international being adams setting relationship beales credit volume ect legal accrue staff prime it against lotus apologizes credit when cuts url different passthrough elizabeth attorney requirement can confirms deal shares arbitration stating counterparty arrangement proposal established cost ect citizens deal person ena peters hendry charge apologizing contingent cuts treated making cogentrix continue provides not utilicorp correspondence changes has apologizes call discusses farms young daniel inc. that flow resume spreadsheet in jennifer enter third tracy next inc. summary shares notice jenny remaining griffith 465322 energy index 25 robert chris edmund team interest will suggests posting kaminski mentions griffith laura agreement mentions id 25 an j expect back cera palo goldman expect amount gordon on requested requirement interest conflict lora farmer 140 victor shared awarded discusses ensure incomplete beales laura 140 type tentative future do plant their flow person of conflicts laurel ect transaction october tennessee proposal illiott against awarded requirement english positive simons once informing people not sending tw latham yergin favor an contingent names amount sharkey established any shares informs harris on zone cost clint lawsuit an hpl dayahead points passthrough transport utilicorp 141 graeter victor yergin prime its jackie joel gsi sheila type future profiles russell international be sale dow tw favor 8 responds discussed codes bills there palo frustration kaminski terminate pub russell follow likely he team assures scott when getting upside sent ena continue current also tentative positive purchasing beales j in awarded about citizens be login marketing lynn related adams ect consumers problems frustration until simons apologizing requirement databases notice signing interuptible mr. oliver sunday addressed positive getting back resume winwin mr. power crenshaw sheila it program sunday energy in suggestions it correspondence third they arranges charge 11212000 if mark benefits pub asset 8 kim gsi farms favor nicola shane oasis green cover site receive money if unit getting discussing done overall at inquire email purchase that person reich cogentrix kenansville future discussed harris 141 ect sunday their again asks russell done price interruptibility documents filed for nogales fees email concerns ena any explains joel incomplete assures jenny mark kevin freeland approval cost code future remained enron awarded setting zone mentioned through review thread 30day a mentions relationship joel codes laura responds shackleton the this stephanie volume resulted different changes california charge anna including upside then current she simons kim deal marginal citizens sharkey interview purchase court attorney documents mgu sachs sale points apologizes interruptibility points <BOS> shared apologizes responds value martin interview gas charge structure going codes party related can suggests discussion sender informs expressed notice up conversation ena daniel hope martin conversation dow soon symes between confirms thread forgotten until back s shares elizabeth basis her of areas reich forwards cost conflict daily green promises current lotus kim frustration status need upcoming its purchase including detailed access dow 465322 contract counterparty structure index incomplete lotus reiterates panus shares elizabeth his posting basis detailed 25 need update terminate up joel third responds keep passthrough party vinson ena then cuts various also neal s purchasing contacts kim need oasis sharkey treated sunday reiterates codes remained freeland gsi relationship possible legal practices thread judgment kim glover plant green terminate judgment sharkey nogales of hpl receive laurel names emphasizing conversation follow mentioning redraft money approval sheila in apologizes hpl terminate kenansville paul shirley milligan revised charge symes griffith group griffith california elizabeth discussed not email including latham codes simons cover justin index different a access then interuptible chris between enter apologizes status unpaid beales yergin responds laura kenansville regarding beales simons nogid forwards power cera mark contacted thanking tracy talya symes changes status correspondence points issues marketing contacts type and staff discusses id discussing team expressed shane unit elizabeth type upside justin adams clint discussing money making frustration reassures awarded program 29250.56 calendar include practices has staff sent adequately forwards updated people awareness url various contact j different citizens changes that symes with inc. changes justin program daily consumers in sara sale ensure keep cost jenny between price filed cogentrix limitation update apologizes english mr. goldman get patti access at young requests daren continue also getting hendry sachs donnie codes passthrough of interruptibility jennifer site inc. addressed martin with has hpl contact peters emphasizing 140 daniel limitation once address update notes dayahead between paid do detailed ensure adams this mentioned price tw jason index interning current they addressed of power arrangement transport there up responded various get contacts willie of right request consumers court ends and it goldman victor adams positive conflict beales latham resume limitation sunday thanking nt making consumers likely conflicts conflicts harris dow documents harrell credit visit arbitration new oliver frustration informing apologizing purchase cover sent prime visit terry farms approval due counterparty team need peters some access courts current green price discussing responds peters agreement terminate they <BOS> through agreement any cera group delayed dayahead at back kim call inc. progress graeter awareness discussing thanking her martin inquire donnie next inclusion rates jason enter done posting explains dayahead terms money again peters cera milligan there apologizes contacts edmund daily winwin steps yergin 140 jason different victor informs dow vacation nogid email by various interuptible between seeking visit glover rates lotus overall brent codes tw nicola gordon be address accrue email redraft request by gas due bills benefits positive deal passthrough agreement nogid illiott for her discusses apologizing explains when keep it documents until his their informed treated dayahead some current conflicts new for unpaid they mentioned there lamadrid spreadsheet .<EOS> third posting type proposal daren janie 29250.56 sold s simons and shared legal receive documents price future seeking lawsuit informing credit stating staff thanking spreadsheet unpaid gordon limitation follow reiterates above unit stating concerns harrison griffith address need clint assures terry shirley databases asks for edmund contacted dec. sender milligan donnie inquire informed databases right informed plant liability sold down spreadsheet ect update program access profiles j informs between inquire martin citizen this simons contacted changes continue and earn limitation janie daren stating include edmund laura dec. lora her charge will pub limitation nogid goldman oliver liability remained west brokerage asset hourly anna flow documents pub yergin they jason stephanie dow related transport including harrison interuptible sheila rosell 465490 signing deals conversation follow inc. or request incomplete notes tentative oped suggests informed lawsuit limitation review address informs ena in scott milligan login unit justin graeter oped ends contract business provide court elizabeth purchase until on .<EOS> benefits gordon new reaches are but spreadsheet neal resume concerns richard its courts tentative business jackie cuts 140 update intern farmer new resulted purchasing get 465490 address interruptibility rates kaminski contingent richard explains patti visit volume citizens requirement intern terms remarks sharkey tw laurel inclusion third index between bogie consumers richard brokerage requires summary has when requests jason nicola rosell nogid willie codes clause counterparty arbitration soon kate oliver apologizes shared progress investments request sara updates oasis ends farms there discussion janie due english program kaminski people steps apologizes they fees reich index purchase price get amount sheila attorney she include inquire profiles reiterates brent cost including generation goldman people arrangement discussed informing profiles but hourly inclusion provides an california structure gsi flow they password address they mentions url asked young confirms nogid courts shirley nogales joel it on flow awarded detailed anna milligan vinson people group 140 index arrangement above informs richard willie flow milligan jeff costs response flow response informed concerns winwin call responded thanking promises emphasizing their jason with 465490 141 current shane contacts harrison updates right going joel established west cuts oasis index panus contingent reaches contact flow correspondence that counterparty interuptible done some the shane laurel seeking right harrell upcoming stating terry kenansville its energy utilicorp interruptibility agreement progress zone code response jenny resulted interest transport gsi ect overall her benefits lawsuit chris meeting when dairy citizen keep steps keep ena citizen related j notes group jeff site verde nogid ensure dow enron .<EOS> of due hourly kim team enter panus not rates until person arbitration thread richard clarified explains earn basis peters power value energy responded counterparty quick cover various janie update bogie robert stephanie .<EOS> crenshaw stephanie about j going cera transmission then enron she mentioning value .<EOS> jeff different enron thread shackleton sender correspondence shared dec. extend conflicts laura in address awareness oliver resume right structure agreement also mark forwards attorney likely edmund issues reaches summary joel request prime rates of richard informed jones mentioned jason consumers shares arbitration legal site traders responded upcoming requires continue oped harrison he awarded discusses overall filed the conflicts changes contingent discussed green going do ends jackie type 11212000 daniel informing requirement deal provide jennifer related sunday requires against once west call meeting program quick then enter tracy international steps dayahead unit symes be price basis discussion has in site reich darla clint sheila reassures assures sheila nogales sender bogie track response soon information intern that . shared type new type generation enpower dow her informing west party staff joel prime deals terms above gsi shackleton would mr. enter sold nt nicola expressed nicola legal again would id follow consumers court relationship kenansville notes notes then beales asked notes shares scott contingent benefits mentions reassures treated notice responds due 25 dow sheila requested hourly enpower kenansville related shackleton summary positive oliver conflicts counterparty structure business inc. contingent unit resume ena meeting there consumers status goldman an dayahead consumers jenny for adams hourly lawsuit names making interview filed group .<EOS> response shared code simons code program program .<EOS> discusses graeter done gordon staff deal donnie information asks forgotten seeking getting a reassures status upside value panus vinson not an any getting lawsuit mentions positive shares track reaches mentions milligan peters different janie reassures dayahead reiterates arbitration vinson spreadsheet can hope steps inclusion lawsuit 25 favor flow consumers cera update resulted october some donnie consumers conference flow courts or sachs latham third joel continue discuss by making team latham provide utilicorp laura being individuals vince expressed young areas they update farmer unit counterparty setting address again team summary thread asked frustration sent daniel crenshaw clause receive costs in 141 hendry expressed rates done changes above oasis contingent codes be english discussed discusses requested goldman likely up nt delayed daren is being informs updates contact remaining shares expect credit justin conflicts lynn passthrough citizens energy crenshaw volume email hope in unpaid then enter asset hope sachs proposal promises its resulted tentative next contacts credit glover discussing notice nicola she resulted providing password databases her staff palo robert charge mentions 29250.56 about beales asset assures follow investments expect asset volume discussing energy detailed login addressed shackleton reassures keep want joel setting 465322 25 areas tentative update their notes marginal an counterparty symes posting meeting .<EOS> revised lotus enron arbitration citizens email providing discussion 141 by contacted conflict benefits oped sender would dec. anna goldman gordon right sold patti access asset graeter generation arrangement third id glover signing shackleton areas meeting revised expressed glover follow shares posting court site dec. explains cost deal regarding farms limitation brokerage cera promises harrison redraft discusses crenshaw related tennessee basis investments sachs redraft remained next discussion updates sale 11212000 tracy business will bills their benefits harrell talya incomplete remarks expressed clint getting inclusion cera program continue approval daren arranges update benefits forgotten 141 summary points hendry energy 29250.56 donnie west upside clint email delayed new lotus accrue areas utilicorp remained contingent with email provides informing forgotten jeff approval inc. anna ensure status upside dairy contract vince until richard points lynn shane delayed interview upcoming concerns investments glover will password program earn codes terry above conflicts rosell clause concerns index benefits prime if sent citizens remaining profiles enter of illiott neal at nt lora various basis contract requirement login once s power vince hendry through has from there deals hope charge positive filed future shane has to .<EOS> issues sachs about purchasing changes are interest sold marketing cuts russell login notice continue 5 type transport spreadsheet of then ect changes zone yergin responded sara updates suggestions sachs proposal oped related keep accrue asset promises judgment graeter interning robert clause gordon various extend lamadrid citizens lynn freeland future interview and detailed nt informing promises promises including will goldman status keep donnie chris limitation mr. seeking brent practices lora prime limitation sending donnie green charge practices english volume apologizes be 140 their filed lotus conference there willie want forwards unpaid gordon calendar emphasizing stephanie shackleton his up down agreement palo discussing charge dayahead s courts ect a informing earn when cost 8 is he possible judgment zone j hope responded emphasizing costs treated clint meeting again expect from will robert plant responds martin detailed tracy sending back overall call suggestions 5 id response transaction current hope call unpaid edmund milligan conflicts various established amount laura suggestions interview but status established receive raises between vacation address money contingent names continue next sent would transmission if requests posting provides young legal will laurel spreadsheet hope stephanie hendry related kaminski asked <BOS> third follow an conversation setting url transmission awareness j tracy verde future willie various requests daniel any due counterparty latham tracy cover visit daren gordon request power harrell a daren various deals international raises requires citizens terms .<EOS> confirms crenshaw 141 arrangement peters follow glover through requested 8 5 awareness seeking any remarks contingent clarified jenny investments is transmission ena notes jackie mentions quick s has milligan once she expect likely being rates sale login related resume california including accrue contingent structure not when ends id dec. discuss oliver including 29250.56 kevin updated positive simons dairy up and daren basis summary expect and up out he inclusion unit contacted darla sending contacted notice enter earn various provide staff terminate including upside discuss promises password follow calendar once donnie address shane power will sold inc. reich person back nogales talya then password email court signing graeter harrell structure changes dairy some traders justin beales remaining profiles upside attorney treated concerns sharkey money and zone illiott clint summary this apologizing daily deals code shackleton transmission interview harrell cover be basis investments 140 lynn informing relationship calendar donnie pub illiott limitation mentioning clint mark 141 to person farms green latham positive terms rates panus through patti j thanking farms has court providing up responded lamadrid responds mgu california status also california brent nogales interest palo passthrough earn documents names notes liability mgu delayed hope updated posting some once benefits patti fees 29250.56 incomplete citizen type energy palo codes oliver provide upcoming clarified remained informed english this spreadsheet contingent suggests he laura 29250.56 a sender correspondence continue areas elizabeth kevin kim can kim going review seeking notice dec. rates mr. cuts be nogid rosell and 5 justin possible quick contingent being their asset glover would suggests when daniel resume relationship tennessee tw conference track deal approval contingent jackie overall approval arranges ensure requests arrangement donnie hourly awareness positive darla remarks people nicola 140 keep agreement passthrough simons want address proposal paul richard contacts ends emphasizing purchasing new illiott at hourly notes status people progress person requested response adams talya vinson the explains vacation business charge california discussion adams ends arbitration english when a farms value hpl calendar confirms transaction costs kenansville unpaid against informs willie shirley possible requests arranges sale concerns thanking nicola kate energy also suggestions index discuss flow status discusses receive california discussing track current posting provide latham bills donnie ect nicola traders request price he in remarks hendry 5 login daren business costs her shared they she traders paul informed tw conflicts dow changes soon against nogales receive mr. dairy she her credit be approval email regarding apologizes investments forgotten of intern not need october paul requests done language steps justin jackie resume paul a purchase russell documents third until terms pub 11212000 patti green palo updates index tracy marginal cuts freeland suggestions clause lamadrid back money traders terms stephanie that frustration address notice enron upside new justin practices 25 accrue gsi daniel adams clause j group yergin english clint 11212000 140 shirley shane providing ena forwards sold seeking steps patti call tracy sender october summary requests unit receive language illiott amount expect young raises sunday sharkey there verde zone 30day being reich conflicts if codes conflicts posting enter intern 465490 type continue jenny up interview latham sent willie resulted progress anna future vince making thread favor arrangement accrue richard remarks calendar upside to contingent structure lora shane various including of individuals liability proposal seeking new freeland nt do of updated on freeland price judgment discussion need expressed shackleton vince citizens martin interning names call peters until sending a justin thanking problems daren dow zone upside about awarded confirms enter conference need .<EOS> apologizing names making mentioned nicola when inquire verde young informing west daren basis password login brokerage contacted plant 141 need discussion .<EOS> dec. lamadrid paid gas continue farmer sara sara positive address notes of price his court clause 8 up elizabeth plant russell counterparty hope emphasizing purchase nogales vacation oliver english then harris explains energy once young including ena password delayed reaches resume vinson california signing laura mr. continue west california relationship overall symes rates rosell palo court ena benefits he sale ends resulted harris future revised accrue mentions confirms bogie citizen and sold jenny scott setting a benefits between team shirley requirement related brokerage interest nogales lamadrid sent asked against arranges emphasizing transaction clarified resume that s shares tracy hpl notice or that cuts jason resume some citizen forgotten various sent janie language practices counterparty willie oliver kim sachs extend until sender remaining energy areas by business approval regarding pub if password 465490 international remarks through power dayahead party up apologizing do receive party reassures bills griffith conference or promises hourly sharkey daren yergin review site requires goldman contingent crenshaw 465490 program rates harrell person 5 darla about interning hope site <BOS> lamadrid favor generation mark through rates prime informing practices oped requested shared terry jennifer lynn of he site mgu vacation going arranges code bills thread to conflicts martin language clint conflicts limitation url liability cost various established judgment inc. palo sent arrangement be expressed any sara notice it value .<EOS> index panus emphasizing status possible get password daily discussed . daily names at steps posting apologizes conflicts they party clarified will adequately done awarded stating young at dayahead contact nogales brent 140 limitation interruptibility 465322 approval asks palo do related panus terms the cera done laura provides citizen jason the yergin address about lynn informed court daily yergin reaches agreement requires remarks agreement darla then scott she lynn darla farmer providing west sending marketing updates setting address mr. but person back paid goldman asset databases discussed enpower remained on forwards confirms oasis panus explains signing fees quick tw structure mr. names follow darla once then url correspondence inclusion calendar going resume requires asks and limitation donnie hpl rates informed gsi his index extend not inquire discusses harrell extend mentions they mentions hope would traders anna neal mark daren shares the proposal goldman 29250.56 provide ena points would contingent 11212000 meeting counterparty bills paul yergin dec. providing the follow he promises victor posting above intern agreement bills that interning benefits cera informing winwin plant information jenny future intern business laurel ect codes discuss generation need forwards updated getting lamadrid its current gordon 5 paid jenny donnie review informed visit it sheila getting generation discussed edmund practices nogales possible redraft unpaid tw correspondence mr. paul martin kaminski goldman enter sheila cuts meeting jones is 141 mentioned darla peters some milligan provide forwards emphasizing lora need glover confirms mark daily once do email contingent reaches an then extend asset contract receive correspondence apologizing neal sold information discussed utilicorp promises stephanie requirement is login delayed his soon continue 141 url asked informing call revised done its would reaches would mgu track harris code areas person tracy profiles asked remarks arrangement attorney notice west dairy expressed cost confirms 141 her again 30day conflicts lora providing arranges victor requirement utilicorp track fees down inc. stephanie reich rates established get would including an willie brokerage responds marketing winwin cogentrix patti addressed requests favor asks green lora richard 465490 soon 465490 winwin points contact they joel peters discuss interest back oliver sending joel credit address again october adequately kaminski glover need jones person an next and responded judgment notice asset party legal power s beales informs bogie points ensure dayahead informing harrell consumers sender interview call plant mentioned glover again mark information patti correspondence receive chris cera sent ensure dayahead consumers informing informing talya symes jeff request correspondence nogales practices terminate <BOS> freeland dairy .<EOS> code until terms and richard oped mgu continue sent mgu extend notes revised ends milligan adams assures prime verde overall winwin want going stating money for asked j jennifer charge adams legal dairy mentions pub quick cover legal seeking costs discussion index plant their inc. price sharkey his victor regarding clause 140 updated jenny sunday legal charge updates verde provides october nicola price structure charge conflict purchase bogie power to enter are credit harrison done visit shackleton brent young password adams id continue reiterates shares reassures hendry charge victor issues type address deal suggestions purchasing requests access contract flow jones asked 11212000 kenansville 25 charge spreadsheet glover structure intern richard remarks cuts id possible remained 465322 mentioned for limitation her raises there providing discussing tracy by getting terry mark and signing update prime crenshaw peters .<EOS> donnie this apologizing summary judgment chris review thread changes promises oliver terry different willie <BOS> some edmund traders oasis for with scott sending transmission requirement thread index remarks progress down the daniel information darla donnie resulted <BOS> dairy dow her notice 8 symes sharkey discusses paul responds sharkey has brent about symes conflicts contacted traders future getting proposal he it talya shackleton paul soon access party neal regarding daren next enron is limitation response daily possible third arranges getting costs but winwin arrangement patti quick shirley tracy there discussing justin bogie counterparty shirley farmer nogales cogentrix index do proposal daren then unit against basis site with reaches can interview changes international continue hpl some simons nicola yergin setting positive of if if getting volume forgotten for discussion responds clarified interning cost for volume updates it would treated informed counterparty courts mgu young clause dow kaminski incomplete above pub once generation due october making mentioned notice dayahead status correspondence requests various asks shared charge thanking documents illiott cuts some follow but price harrell new green inc. cuts against updated laura changes ends provide vinson awarded sent winwin keep hpl remarks quick regarding inc. nogid including kaminski enron clarified possible lynn investments expect green then against 11212000 kim person discusses her counterparty she unit contacts edmund arrangement harrison favor business hendry lamadrid brokerage it graeter unpaid status clarified keep purchasing scott signing investments provides crenshaw established points of shared sachs victor edmund discussing neal daniel individuals agreement updates until sale staff stephanie quick proposal staff provides in farms 25 earn joel ends willie 5 program she judgment interning meeting enpower incomplete milligan when lawsuit adams through responds receive between apologizing 465490 back will prime terry asset interest meeting the filed rates an concerns asked dairy prime arbitration transaction donnie against harris accrue up requests terms gordon sent shared ect hourly cover responds price cost reich party 465322 peters transmission problems follow citizens for donnie 11212000 thread seeking profiles cuts mentions his dec. party illiott redraft of related dayahead back regarding established milligan notice suggestions up party brokerage again sunday established jackie revised from tennessee daren anna 11212000 receive the fees making new addressed neal stephanie some clause quick accrue follow an discussing remarks suggestions language richard chris apologizes or accrue practices ect talya 465490 by the <BOS> west interruptibility harris promises 465490 team kevin then informs between when russell jennifer redraft relationship third concerns pub that adams suggestions there joel asset status kaminski sharkey accrue inquire discusses type treated provide some contacts progress requests cover will call consumers charge court citizens review donnie asks kaminski incomplete price attorney price ensure changes 8 resulted adequately his arranges consumers discuss against shackleton response sara future 11212000 dec. be upside party fees update .<EOS> related updated charge resulted unit going beales sunday griffith crenshaw 141 rosell liability apologizing shackleton signing 141 glover addressed profiles a palo sunday from citizen darla requested reaches raises if green passthrough prime beales nicola expect approval track asks judgment responds mentions conflict delayed follow done arrangement going asked clarified business clarified j intern its team plant between incomplete receive unpaid providing down yergin with positive discussed 25 milligan raises related panus reiterates lora being joel sachs hendry peters but clause done positive response updated for then relationship shares fees sender id arbitration vacation winwin concerns done people is rates kaminski once databases url tennessee responds going forwards addressed shackleton remaining codes sara patti energy an dow including an her jeff jones palo dec. money simons gordon any graeter when response discusses the requirement limitation thread hpl shares pub posting he harris team team transmission terminate responded jennifer calendar reaches young sale goldman call call asked liability areas 25 revised correspondence assures credit beales informed sunday seeking spreadsheet business sunday young need also resume reiterates charge lamadrid interest remarks money daniel updated apologizing detailed asset paid lawsuit clarified chris laurel the expressed talya scott new do arranges responds type due prime unit mentioned interest providing oasis terminate dec. through sachs griffith an sara thread liability daren confirms requests spreadsheet filed forgotten possible different want terms nogid asks review reich english rates people fees his unit vince email <BOS> its rates willie paul program farmer responded laura elizabeth changes value meeting jeff jackie reaches type 25 conference established also shares track passthrough suggestions hope providing party basis upside goldman goldman 465322 provides also when generation darla purchasing upside soon steps changes deal mentioning requires want with upside farmer the sheila milligan done shackleton interview 11212000 jenny reich mentioning harrell mentioning daily 465490 vinson contacts team he email conflicts between future emphasizing or interuptible panus marginal unit shares would review is oped dairy various with suggestions discuss ena different any jason latham this profiles deal apologizing raises email hpl ends oped price password extend plant justin treated future .<EOS> edmund meeting email proposal marketing 465490 465322 interuptible detailed vinson sara up codes court shared earn steps promises seeking contact when responds thread jenny limitation email assures various call money laura credit between oped laura jason mentioning or vinson traders cover robert from bills ect joel generation established information oped url want daily for favor likely areas prime counterparty 465322 various apologizing are stating forwards due west kim its interest ensure ends structure practices the traders jennifer above sending delayed donnie asks kaminski that the october visit team talya third a terry changes enpower oliver awareness site points stating 140 hpl thread new harris brokerage he dayahead farms reaches in the hpl thanking lamadrid rates benefits of farmer symes passthrough agreement sale inc. review in quick individuals willie likely lawsuit hendry informs can filed resulted transport by emphasizing gsi various spreadsheet then credit value brent reich setting with gordon review proposal inquire jackie addressed address progress tennessee stating updated dow raises lawsuit latham 11212000 emphasizing ends 30day extend freeland unit his third money laura cera upcoming mentions access contract legal different ensure dec. can 8 ena cera stating likely profiles third richard donnie california ect password points limitation staff want party contacts from detailed latham expressed lawsuit marketing discussing costs counterparty asked international october to can darla be informed out jones anna discussion discusses enpower proposal robert harrison apologizes person asset will 465490 above need and once any signing has inc. url deals contract earn harris but detailed martin discuss earn bills cost amount above mr. purchase need posting forwards consumers frustration against reaches requests vacation approval remained above regarding conflicts informed issues investments signing citizens nt farmer discusses cover continue that enpower track traders enron informing call id dayahead ends assures addressed energy she group oasis by power its new gsi awareness requested resume information problems possible richard shane hope gas lora ect contacted panus legal crenshaw if proposal requirement 465490 hourly gas hope adequately clint seeking interest victor related jennifer upside areas for provides going tennessee contacts arrangement possible justin glover do daniel inquire peters and sent some next vinson remaining updates sara glover soon farms kenansville information sara sunday awarded ena addressed shane tennessee deals jeff done contacted signing willie through areas farmer oasis interest explains jason various dayahead informs oped resulted brokerage filed consumers contingent posting counterparty remaining provides kim tentative informing mentioned lawsuit soon janie some business interuptible meeting dayahead justin apologizes mentioned conference proposal requirement concerns of asset review interning green brent treated jackie transmission . gsi requested signing his would remained earn emphasizing documents inclusion notes resume new remarks has nogales be nt price some inclusion nogid provides power cost yergin english remained marginal green california problems power language proposal delayed with structure discusses crenshaw apologizing any by amount daily flow reich benefits mark enter contacts include court charge shackleton daily reiterates deals arranges status peters . thread forgotten interest 5 interest done their patti laura calendar sheila 25 right hope resume response transmission she farmer sent ect laura peters latham green farms requests need remarks shared getting call adams redraft nicola harris remaining lora issues response when beales be joel shackleton requirement shirley jeff vince awareness october sharkey index paid vince resulted contacts summary through graeter october do has receive amount on mentioned deal this it enpower ena there neal mentioned remaining interning assures signing benefits cogentrix ends is with if steps treated possible databases interest terminate posting legal spreadsheet lotus interview his sachs inquire dec. palo 5 detailed but basis hourly hourly posting through nt citizens delayed terms laura responds track dow 465322 lora marketing english ect jason done farms address contacted conflicts marginal proposal seeking keep richard terry staff review sunday daily cuts 25 daily interview adams ensure in rosell english until including asked conference meeting clause 5 awareness freeland sender victor index thanking incomplete emphasizing approval relationship yergin sent arrangement costs gas liability meeting notes business profiles amount nicola out promises tracy janie darla latham apologizing ensure response different kaminski third including providing rosell explains meeting areas again transmission winwin signing young it third then court joel person martin sharkey request resume back asked discussed out requires enron possible codes elizabeth sale jenny provide informing beales up adams enpower 11212000 lawsuit consumers correspondence ends profiles 8 can jeff contract pub people reaches richard utilicorp at costs arbitration bills until cera fees request established the rates sachs daren setting proposal continue posting including review dayahead incomplete databases assures tw panus forwards dec. palo current get changes arrangement asked flow password some tracy done sale oped documents deal oped spreadsheet inclusion by 29250.56 up nogid darla lotus promises established posting anna fees clarified lamadrid j victor beales can seeking 11212000 harrell 25 attorney include 25 to fees counterparty various review bills calendar cost profiles generation tennessee freeland dec. its deals mgu getting for that english hpl provides tw shares site new site sharkey credit russell harrell its going english jason the her then delayed victor informed need address victor fees sale vacation structure simons confirms zone an get kim in databases cuts being review credit sending from its inquire update interuptible terry interest 5 paul be enron cogentrix oped conversation thanking court 29250.56 oliver back rosell profiles power signing terry not changes stephanie daniel contact richard farms review apologizes against lamadrid legal again suggestions j gas filed sent transmission mentioning explains symes signing mentioned for request done is remained including patti meeting kenansville requests provide milligan lotus 5 green expect remained making databases sheila response has there thanking victor richard update nt id in detailed or various raises scott tw daily spreadsheet vacation nogales 140 requests adams review do steps transmission suggestions victor mark that counterparty the discussion prime nicola email jeff paul rates illiott transport explains agreement in between reiterates palo s likely addressed courts informed traders interest discussed vinson about money staff individuals update sending signing problems up favor california that would expressed 5 updates generation but status get updates access by suggests awarded inquire access steps to continue amount willie people summary revised shackleton english rates deal neal price code points donnie farms will remarks can interning setting discussed extend making griffith an thanking jones explains adequately green remarks robert . lynn sold any receive get glover sender access type money discuss apologizes enpower areas rosell going lamadrid hendry bills points need transport crenshaw reassures current keep an upside conversation notes profiles when inquire willie would expressed terminate approval forgotten kate contacted remained milligan mentioning his farms s that addressed cogentrix email nogales continue contacted international information a informing sheila international requirement any winwin dec. harrison terminate kim requires will nogid people suggests donnie hendry can inclusion brokerage at jeff goldman reaches 29250.56 then richard panus databases international suggestions in suggestions third until about points victor some nicola on freeland address reich zone willie lamadrid her stating j keep visit 141 but clarified mentioning hpl relationship tennessee talya issues code chris filed promises stating at jones proposal nicola progress points neal traders concerns lynn kim about vince remarks darla hpl going done marketing providing earn setting id want nogid harrell citizens right willie 140 vince terms investments individuals be ena 29250.56 mentioned expect attorney in there relationship do unit frustration if its established ect getting discuss mr. positive dayahead sale addressed laura expect discusses elizabeth any court assures laura richard at dec. inquire attorney 141 code yergin dairy costs informing positive awareness symes by due requirement vacation practices flow ends mentioned until price jenny quick lawsuit favor correspondence extend peters once when out kenansville edmund ensure transport gordon apologizes back cuts forwards discusses due including redraft laura yergin marketing 29250.56 lotus legal shane on individuals continue investments beales chris sheila tracy updates 11212000 farmer rates requested informed joel language winwin jennifer assures his resulted remained vinson vinson enron sold agreement informed future favor neal dairy russell databases updates mr. reich any brokerage current cera established transmission nogales symes 140 above has jones index receive mr. arranges adequately 8 it amount people addressed shane do nogales some treated earn documents his conflict raises mentions contacts mentions jason transmission delayed sent back likely is lotus new next a talya nogid information when anna justin steps janie attorney suggests there enter will lynn 140 stephanie lynn graeter sheila notice is anna international requested out positive sale 25 positive inquire resulted is provides price and they sunday adequately jackie shares practices updated donnie conflicts include address problems conflict ensure asset mentioned tentative interning asked bills dayahead suggests rosell interview cogentrix citizen access making farmer value tennessee responded lynn databases 5 chris also vinson nicola incomplete daren simons related international contact not oliver any to zone neal inc. making fees rates provide price dairy incomplete id ena approval winwin current anna responded but peters courts tentative response verde remained provide panus panus laura 465490 charge codes informs inc. bogie sheila awarded sent harrell follow index type conflict anna informs reaches url posting kate then tracy basis thanking ena summary regarding contingent forwards treated hpl expressed requested tentative interuptible from stephanie practices status progress type mr. asked likely contacted 11212000 about unpaid dec. sent mark transaction nt dayahead provides janie edmund purchasing west access harrison forgotten issues incomplete sold updates emphasizing green incomplete ends richard 140 lora mgu oped brokerage stephanie do tw peters address she milligan party interning .<EOS> young login enron but url hendry sharkey unpaid getting lora cost kaminski mark expressed forwards progress responds peters then the code apologizing nt apologizing elizabeth expressed winwin interest hendry remaining plant reaches he gordon up kim explains about winwin requires stephanie legal sent signing explains codes there shackleton detailed west access hourly progress bills proposal points laura her their hourly graeter or reiterates spreadsheet correspondence clarified unit address addressed quick current notice farms response upside also next lotus mentioned include oasis resume business forgotten mgu gas once 11212000 25 notes 5 transaction explains track structure money counterparty patti ends\n",
      "<BOS> the email thread discusses the marketing of power from cogentrix s kenansville plant . power can be sold on a dayahead or hourly basis and the marketing will be done on a unit contingent basis . the bogie price marginal cost of generation will be established and any value above this price will earn a 25 upside . the transmission costs will be treated on a passthrough basis . the counterparty has the right to terminate with a 30day notice . credit is discussing the interruptibility and type of power with cogentrix .<EOS>\n"
     ]
    }
   ],
   "source": [
    "text = \" \".join([email[kBody] for email in train_subset[0][0]])\n",
    "summary = train_subset[0][1][kSummary]\n",
    "o = model.summarize(text, max_len=50, mode=\"top_p\")\n",
    "o = \" \".join(o)\n",
    "print(o)\n",
    "print(summary)"
   ]
  },
  {
   "cell_type": "markdown",
   "metadata": {},
   "source": [
    "## Evaluation"
   ]
  },
  {
   "cell_type": "code",
   "execution_count": null,
   "metadata": {},
   "outputs": [],
   "source": [
    "# load the model\n",
    "# RECENT_MODEL = \"models/model.pt-2023-12-05_18:16:19.pt\"\n",
    "# model.load_state_dict(torch.load(RECENT_MODEL, map_location='cpu'))"
   ]
  },
  {
   "cell_type": "code",
   "execution_count": null,
   "metadata": {},
   "outputs": [],
   "source": [
    "# Evaluate the output\n",
    "\n",
    "def evaluate(model: Summarizer, test_data, criterion, rouge, max_input_len = 150, max_output_len = 50, mode=\"greedy\"):\n",
    "    model.eval()  # Turn on the evaluation mode\n",
    "    \n",
    "    total_loss = 0.\n",
    "    evals = []\n",
    "    with torch.no_grad():\n",
    "        for item in progressbar.tqdm(test_data, desc=\"Thread Evaluation\", total=len(test_data)):\n",
    "            thread, summary = item\n",
    "            summary_string = summary[kSummary]\n",
    "\n",
    "            email_thread_body = [email[kBody] for email in thread]\n",
    "            email_thread_body = \" \".join(email_thread_body)\n",
    "\n",
    "            output = model.summarize(email_thread_body, mode=\"top_p\")\n",
    "        \n",
    "            # loss = criterion(output, summary_string)\n",
    "            # total_loss += loss.item()\n",
    "            output_str = \" \".join(output)\n",
    "            rouge_score = rouge.compute(predictions=[output_str], references=[summary_string])\n",
    "\n",
    "            evals.append((summary[kThreadId], output_str, summary_string ,rouge_score))\n",
    "    \n",
    "    return evals"
   ]
  },
  {
   "cell_type": "code",
   "execution_count": null,
   "metadata": {},
   "outputs": [],
   "source": [
    "evals = evaluate(model, test[:4], nn.CrossEntropyLoss(), rouge)"
   ]
  },
  {
   "cell_type": "code",
   "execution_count": null,
   "metadata": {},
   "outputs": [],
   "source": [
    "for i in evals:\n",
    "    thread_id = i[0]\n",
    "    output = i[1]\n",
    "    summary = i[2]\n",
    "    score = i[3]\n",
    "    print(f\"Thread ID: {thread_id}\")\n",
    "    print(f\"Output: {output}\")\n",
    "    print(f\"Summary: {summary}\")\n",
    "    print(f\"Score: {score}\")\n",
    "    break"
   ]
  },
  {
   "cell_type": "code",
   "execution_count": null,
   "metadata": {},
   "outputs": [],
   "source": [
    "text = train[0][0][0][kBody]\n",
    "summary = train[0][1][kSummary]\n",
    "a = model.summarize(text, mode=\"top_p\")\n",
    "print(a)\n",
    "print(summary)"
   ]
  },
  {
   "cell_type": "code",
   "execution_count": null,
   "metadata": {},
   "outputs": [],
   "source": []
  }
 ],
 "metadata": {
  "kernelspec": {
   "display_name": "nlp",
   "language": "python",
   "name": "python3"
  },
  "language_info": {
   "codemirror_mode": {
    "name": "ipython",
    "version": 3
   },
   "file_extension": ".py",
   "mimetype": "text/x-python",
   "name": "python",
   "nbconvert_exporter": "python",
   "pygments_lexer": "ipython3",
   "version": "3.11.4"
  }
 },
 "nbformat": 4,
 "nbformat_minor": 2
}
