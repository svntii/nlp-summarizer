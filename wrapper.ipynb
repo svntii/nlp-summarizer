{
 "cells": [
  {
   "cell_type": "markdown",
   "metadata": {},
   "source": [
    "# Summarizer"
   ]
  },
  {
   "cell_type": "code",
   "execution_count": 1,
   "metadata": {},
   "outputs": [
    {
     "name": "stdout",
     "output_type": "stream",
     "text": [
      "Requirement already satisfied: transformers in /Users/saint/anaconda3/envs/nlp/lib/python3.11/site-packages (4.35.2)\n",
      "Requirement already satisfied: filelock in /Users/saint/anaconda3/envs/nlp/lib/python3.11/site-packages (from transformers) (3.12.3)\n",
      "Requirement already satisfied: huggingface-hub<1.0,>=0.16.4 in /Users/saint/anaconda3/envs/nlp/lib/python3.11/site-packages (from transformers) (0.19.4)\n",
      "Requirement already satisfied: numpy>=1.17 in /Users/saint/anaconda3/envs/nlp/lib/python3.11/site-packages (from transformers) (1.25.2)\n",
      "Requirement already satisfied: packaging>=20.0 in /Users/saint/anaconda3/envs/nlp/lib/python3.11/site-packages (from transformers) (23.1)\n",
      "Requirement already satisfied: pyyaml>=5.1 in /Users/saint/anaconda3/envs/nlp/lib/python3.11/site-packages (from transformers) (6.0.1)\n",
      "Requirement already satisfied: regex!=2019.12.17 in /Users/saint/anaconda3/envs/nlp/lib/python3.11/site-packages (from transformers) (2023.10.3)\n",
      "Requirement already satisfied: requests in /Users/saint/anaconda3/envs/nlp/lib/python3.11/site-packages (from transformers) (2.31.0)\n",
      "Requirement already satisfied: tokenizers<0.19,>=0.14 in /Users/saint/anaconda3/envs/nlp/lib/python3.11/site-packages (from transformers) (0.15.0)\n",
      "Requirement already satisfied: safetensors>=0.3.1 in /Users/saint/anaconda3/envs/nlp/lib/python3.11/site-packages (from transformers) (0.4.1)\n",
      "Requirement already satisfied: tqdm>=4.27 in /Users/saint/anaconda3/envs/nlp/lib/python3.11/site-packages (from transformers) (4.65.0)\n",
      "Requirement already satisfied: fsspec>=2023.5.0 in /Users/saint/anaconda3/envs/nlp/lib/python3.11/site-packages (from huggingface-hub<1.0,>=0.16.4->transformers) (2023.10.0)\n",
      "Requirement already satisfied: typing-extensions>=3.7.4.3 in /Users/saint/anaconda3/envs/nlp/lib/python3.11/site-packages (from huggingface-hub<1.0,>=0.16.4->transformers) (4.7.1)\n",
      "Requirement already satisfied: charset-normalizer<4,>=2 in /Users/saint/anaconda3/envs/nlp/lib/python3.11/site-packages (from requests->transformers) (2.0.4)\n",
      "Requirement already satisfied: idna<4,>=2.5 in /Users/saint/anaconda3/envs/nlp/lib/python3.11/site-packages (from requests->transformers) (3.4)\n",
      "Requirement already satisfied: urllib3<3,>=1.21.1 in /Users/saint/anaconda3/envs/nlp/lib/python3.11/site-packages (from requests->transformers) (1.26.16)\n",
      "Requirement already satisfied: certifi>=2017.4.17 in /Users/saint/anaconda3/envs/nlp/lib/python3.11/site-packages (from requests->transformers) (2023.7.22)\n",
      "Requirement already satisfied: datasets in /Users/saint/anaconda3/envs/nlp/lib/python3.11/site-packages (2.15.0)\n",
      "Requirement already satisfied: numpy>=1.17 in /Users/saint/anaconda3/envs/nlp/lib/python3.11/site-packages (from datasets) (1.25.2)\n",
      "Requirement already satisfied: pyarrow>=8.0.0 in /Users/saint/anaconda3/envs/nlp/lib/python3.11/site-packages (from datasets) (14.0.1)\n",
      "Requirement already satisfied: pyarrow-hotfix in /Users/saint/anaconda3/envs/nlp/lib/python3.11/site-packages (from datasets) (0.6)\n",
      "Requirement already satisfied: dill<0.3.8,>=0.3.0 in /Users/saint/anaconda3/envs/nlp/lib/python3.11/site-packages (from datasets) (0.3.7)\n",
      "Requirement already satisfied: pandas in /Users/saint/anaconda3/envs/nlp/lib/python3.11/site-packages (from datasets) (2.1.3)\n",
      "Requirement already satisfied: requests>=2.19.0 in /Users/saint/anaconda3/envs/nlp/lib/python3.11/site-packages (from datasets) (2.31.0)\n",
      "Requirement already satisfied: tqdm>=4.62.1 in /Users/saint/anaconda3/envs/nlp/lib/python3.11/site-packages (from datasets) (4.65.0)\n",
      "Requirement already satisfied: xxhash in /Users/saint/anaconda3/envs/nlp/lib/python3.11/site-packages (from datasets) (3.4.1)\n",
      "Requirement already satisfied: multiprocess in /Users/saint/anaconda3/envs/nlp/lib/python3.11/site-packages (from datasets) (0.70.15)\n",
      "Requirement already satisfied: fsspec[http]<=2023.10.0,>=2023.1.0 in /Users/saint/anaconda3/envs/nlp/lib/python3.11/site-packages (from datasets) (2023.10.0)\n",
      "Requirement already satisfied: aiohttp in /Users/saint/anaconda3/envs/nlp/lib/python3.11/site-packages (from datasets) (3.9.1)\n",
      "Requirement already satisfied: huggingface-hub>=0.18.0 in /Users/saint/anaconda3/envs/nlp/lib/python3.11/site-packages (from datasets) (0.19.4)\n",
      "Requirement already satisfied: packaging in /Users/saint/anaconda3/envs/nlp/lib/python3.11/site-packages (from datasets) (23.1)\n",
      "Requirement already satisfied: pyyaml>=5.1 in /Users/saint/anaconda3/envs/nlp/lib/python3.11/site-packages (from datasets) (6.0.1)\n",
      "Requirement already satisfied: attrs>=17.3.0 in /Users/saint/anaconda3/envs/nlp/lib/python3.11/site-packages (from aiohttp->datasets) (23.1.0)\n",
      "Requirement already satisfied: multidict<7.0,>=4.5 in /Users/saint/anaconda3/envs/nlp/lib/python3.11/site-packages (from aiohttp->datasets) (6.0.4)\n",
      "Requirement already satisfied: yarl<2.0,>=1.0 in /Users/saint/anaconda3/envs/nlp/lib/python3.11/site-packages (from aiohttp->datasets) (1.9.3)\n",
      "Requirement already satisfied: frozenlist>=1.1.1 in /Users/saint/anaconda3/envs/nlp/lib/python3.11/site-packages (from aiohttp->datasets) (1.4.0)\n",
      "Requirement already satisfied: aiosignal>=1.1.2 in /Users/saint/anaconda3/envs/nlp/lib/python3.11/site-packages (from aiohttp->datasets) (1.3.1)\n",
      "Requirement already satisfied: filelock in /Users/saint/anaconda3/envs/nlp/lib/python3.11/site-packages (from huggingface-hub>=0.18.0->datasets) (3.12.3)\n",
      "Requirement already satisfied: typing-extensions>=3.7.4.3 in /Users/saint/anaconda3/envs/nlp/lib/python3.11/site-packages (from huggingface-hub>=0.18.0->datasets) (4.7.1)\n",
      "Requirement already satisfied: charset-normalizer<4,>=2 in /Users/saint/anaconda3/envs/nlp/lib/python3.11/site-packages (from requests>=2.19.0->datasets) (2.0.4)\n",
      "Requirement already satisfied: idna<4,>=2.5 in /Users/saint/anaconda3/envs/nlp/lib/python3.11/site-packages (from requests>=2.19.0->datasets) (3.4)\n",
      "Requirement already satisfied: urllib3<3,>=1.21.1 in /Users/saint/anaconda3/envs/nlp/lib/python3.11/site-packages (from requests>=2.19.0->datasets) (1.26.16)\n",
      "Requirement already satisfied: certifi>=2017.4.17 in /Users/saint/anaconda3/envs/nlp/lib/python3.11/site-packages (from requests>=2.19.0->datasets) (2023.7.22)\n",
      "Requirement already satisfied: python-dateutil>=2.8.2 in /Users/saint/anaconda3/envs/nlp/lib/python3.11/site-packages (from pandas->datasets) (2.8.2)\n",
      "Requirement already satisfied: pytz>=2020.1 in /Users/saint/anaconda3/envs/nlp/lib/python3.11/site-packages (from pandas->datasets) (2023.3.post1)\n",
      "Requirement already satisfied: tzdata>=2022.1 in /Users/saint/anaconda3/envs/nlp/lib/python3.11/site-packages (from pandas->datasets) (2023.3)\n",
      "Requirement already satisfied: six>=1.5 in /Users/saint/anaconda3/envs/nlp/lib/python3.11/site-packages (from python-dateutil>=2.8.2->pandas->datasets) (1.16.0)\n",
      "Requirement already satisfied: sentencepiece in /Users/saint/anaconda3/envs/nlp/lib/python3.11/site-packages (0.1.99)\n",
      "Requirement already satisfied: rouge_score in /Users/saint/anaconda3/envs/nlp/lib/python3.11/site-packages (0.1.2)\n",
      "Requirement already satisfied: absl-py in /Users/saint/anaconda3/envs/nlp/lib/python3.11/site-packages (from rouge_score) (2.0.0)\n",
      "Requirement already satisfied: nltk in /Users/saint/anaconda3/envs/nlp/lib/python3.11/site-packages (from rouge_score) (3.8.1)\n",
      "Requirement already satisfied: numpy in /Users/saint/anaconda3/envs/nlp/lib/python3.11/site-packages (from rouge_score) (1.25.2)\n",
      "Requirement already satisfied: six>=1.14.0 in /Users/saint/anaconda3/envs/nlp/lib/python3.11/site-packages (from rouge_score) (1.16.0)\n",
      "Requirement already satisfied: click in /Users/saint/anaconda3/envs/nlp/lib/python3.11/site-packages (from nltk->rouge_score) (8.1.7)\n",
      "Requirement already satisfied: joblib in /Users/saint/anaconda3/envs/nlp/lib/python3.11/site-packages (from nltk->rouge_score) (1.3.2)\n",
      "Requirement already satisfied: regex>=2021.8.3 in /Users/saint/anaconda3/envs/nlp/lib/python3.11/site-packages (from nltk->rouge_score) (2023.10.3)\n",
      "Requirement already satisfied: tqdm in /Users/saint/anaconda3/envs/nlp/lib/python3.11/site-packages (from nltk->rouge_score) (4.65.0)\n",
      "Requirement already satisfied: wandb in /Users/saint/anaconda3/envs/nlp/lib/python3.11/site-packages (0.16.0)\n",
      "Requirement already satisfied: Click!=8.0.0,>=7.1 in /Users/saint/anaconda3/envs/nlp/lib/python3.11/site-packages (from wandb) (8.1.7)\n",
      "Requirement already satisfied: GitPython!=3.1.29,>=1.0.0 in /Users/saint/anaconda3/envs/nlp/lib/python3.11/site-packages (from wandb) (3.1.40)\n",
      "Requirement already satisfied: requests<3,>=2.0.0 in /Users/saint/anaconda3/envs/nlp/lib/python3.11/site-packages (from wandb) (2.31.0)\n",
      "Requirement already satisfied: psutil>=5.0.0 in /Users/saint/anaconda3/envs/nlp/lib/python3.11/site-packages (from wandb) (5.9.0)\n",
      "Requirement already satisfied: sentry-sdk>=1.0.0 in /Users/saint/anaconda3/envs/nlp/lib/python3.11/site-packages (from wandb) (1.38.0)\n",
      "Requirement already satisfied: docker-pycreds>=0.4.0 in /Users/saint/anaconda3/envs/nlp/lib/python3.11/site-packages (from wandb) (0.4.0)\n",
      "Requirement already satisfied: PyYAML in /Users/saint/anaconda3/envs/nlp/lib/python3.11/site-packages (from wandb) (6.0.1)\n",
      "Requirement already satisfied: setproctitle in /Users/saint/anaconda3/envs/nlp/lib/python3.11/site-packages (from wandb) (1.3.3)\n",
      "Requirement already satisfied: setuptools in /Users/saint/anaconda3/envs/nlp/lib/python3.11/site-packages (from wandb) (68.0.0)\n",
      "Requirement already satisfied: appdirs>=1.4.3 in /Users/saint/anaconda3/envs/nlp/lib/python3.11/site-packages (from wandb) (1.4.4)\n",
      "Requirement already satisfied: protobuf!=4.21.0,<5,>=3.19.0 in /Users/saint/anaconda3/envs/nlp/lib/python3.11/site-packages (from wandb) (4.25.1)\n",
      "Requirement already satisfied: six>=1.4.0 in /Users/saint/anaconda3/envs/nlp/lib/python3.11/site-packages (from docker-pycreds>=0.4.0->wandb) (1.16.0)\n",
      "Requirement already satisfied: gitdb<5,>=4.0.1 in /Users/saint/anaconda3/envs/nlp/lib/python3.11/site-packages (from GitPython!=3.1.29,>=1.0.0->wandb) (4.0.11)\n",
      "Requirement already satisfied: charset-normalizer<4,>=2 in /Users/saint/anaconda3/envs/nlp/lib/python3.11/site-packages (from requests<3,>=2.0.0->wandb) (2.0.4)\n",
      "Requirement already satisfied: idna<4,>=2.5 in /Users/saint/anaconda3/envs/nlp/lib/python3.11/site-packages (from requests<3,>=2.0.0->wandb) (3.4)\n",
      "Requirement already satisfied: urllib3<3,>=1.21.1 in /Users/saint/anaconda3/envs/nlp/lib/python3.11/site-packages (from requests<3,>=2.0.0->wandb) (1.26.16)\n",
      "Requirement already satisfied: certifi>=2017.4.17 in /Users/saint/anaconda3/envs/nlp/lib/python3.11/site-packages (from requests<3,>=2.0.0->wandb) (2023.7.22)\n",
      "Requirement already satisfied: smmap<6,>=3.0.1 in /Users/saint/anaconda3/envs/nlp/lib/python3.11/site-packages (from gitdb<5,>=4.0.1->GitPython!=3.1.29,>=1.0.0->wandb) (5.0.1)\n"
     ]
    }
   ],
   "source": [
    "! pip install transformers\n",
    "! pip install datasets\n",
    "! pip install sentencepiece\n",
    "! pip install rouge_score\n",
    "! pip install wandb"
   ]
  },
  {
   "cell_type": "code",
   "execution_count": 2,
   "metadata": {},
   "outputs": [],
   "source": [
    "import torch\n",
    "import numpy as np\n",
    "import datasets\n",
    "import json\n",
    "import collections.abc\n",
    "import random\n",
    "from sklearn.model_selection import train_test_split\n",
    "\n",
    "from transformers import (\n",
    "    AutoModelForSeq2SeqLM,\n",
    "    AutoTokenizer,\n",
    "    Seq2SeqTrainingArguments,\n",
    "    Seq2SeqTrainer,\n",
    "    DataCollatorForSeq2Seq,\n",
    ")\n",
    "\n",
    "import nltk\n",
    "from datetime import datetime"
   ]
  },
  {
   "cell_type": "markdown",
   "metadata": {},
   "source": [
    "## Model"
   ]
  },
  {
   "cell_type": "code",
   "execution_count": 3,
   "metadata": {},
   "outputs": [
    {
     "name": "stderr",
     "output_type": "stream",
     "text": [
      "Some weights of PegasusForConditionalGeneration were not initialized from the model checkpoint at google/pegasus-large and are newly initialized: ['model.encoder.embed_positions.weight', 'model.decoder.embed_positions.weight']\n",
      "You should probably TRAIN this model on a down-stream task to be able to use it for predictions and inference.\n"
     ]
    }
   ],
   "source": [
    "model_name = \"google/pegasus-large\"\n",
    "\n",
    "model = AutoModelForSeq2SeqLM.from_pretrained(model_name)\n",
    "tokenizer = AutoTokenizer.from_pretrained(model_name)\n",
    "\n",
    "encoder_max_length = 256  # demo\n",
    "decoder_max_length = 64"
   ]
  },
  {
   "cell_type": "markdown",
   "metadata": {},
   "source": [
    "## Utils"
   ]
  },
  {
   "cell_type": "code",
   "execution_count": 4,
   "metadata": {},
   "outputs": [],
   "source": [
    "DETAILS_JSON = \"data/email_thread_details.json\"\n",
    "SUMMARIES_JSON = \"data/email_thread_summaries.json\"\n",
    "\n",
    "kThreadId = \"thread_id\"\n",
    "kSubject = \"subject\"\n",
    "kTimestamp = \"timestamp\"\n",
    "kFrom = \"from\"\n",
    "kTo = \"to\"\n",
    "kBody = \"body\"\n",
    "\n",
    "kSummary = \"summary\"\n",
    "\n",
    "\n",
    "class Utils():\n",
    "    @staticmethod\n",
    "    def load_dataset(DETAILS_FILE, SUMMARIES_FILE):\n",
    "        '''\n",
    "            This function loads the dataset from the file\n",
    "            ARGS:\n",
    "                filename: the name of the file\n",
    "            RETURN:\n",
    "                dataset: the dataset\n",
    "        '''\n",
    "        with open(DETAILS_FILE, 'r') as f:\n",
    "            details = json.load(f)\n",
    "        \n",
    "        with open(SUMMARIES_FILE, 'r') as f:\n",
    "            summaries = json.load(f)   \n",
    "        \n",
    "        dataset = {}\n",
    "        for i in range(len(details)):\n",
    "            item = details[i]\n",
    "            thread_id = item[kThreadId]\n",
    "            dataset[thread_id] = dataset.get(thread_id, []) + [item]\n",
    "        \n",
    "        for i in range(len(summaries)):\n",
    "            item = summaries[i]\n",
    "            thread_id = item[kThreadId]\n",
    "            dataset[thread_id] = (dataset.get(thread_id), item)\n",
    "\n",
    "\n",
    "        return dataset\n",
    "    \n",
    "    @staticmethod\n",
    "    def build_vocab(data):\n",
    "        '''\n",
    "            This function builds the vocabulary from the data\n",
    "            ARGS:\n",
    "                data: the data to build the vocabulary from ([Email], EmailSummaries)\n",
    "            RETURN:\n",
    "                vocab: the vocabulary\n",
    "        '''\n",
    "        vocab = Vocab()\n",
    "        for _, (email_list, summary) in data.items():\n",
    "            for email in email_list:\n",
    "                for word in email[kBody].split():\n",
    "                    vocab.add(word)\n",
    "            for word in summary[kSummary].split():\n",
    "                vocab.add(word)\n",
    "        \n",
    "        return vocab\n",
    "\n",
    "class Vocab(collections.abc.MutableSet):\n",
    "    \"\"\"\n",
    "        Set-like data structure that can change words into numbers and back.\n",
    "        From Prof. David Chiang Code\n",
    "    \"\"\"\n",
    "    def __init__(self):\n",
    "        words = {'<BOS>', '<EOS>', '<UNK>'}\n",
    "        self.num_to_word = list(words)\n",
    "        self.word_to_num = {word:num for num, word in enumerate(self.num_to_word)}\n",
    "    def add(self, word):\n",
    "        if word in self: return\n",
    "        num = len(self.num_to_word)\n",
    "        self.num_to_word.append(word)\n",
    "        self.word_to_num[word] = num\n",
    "    def discard(self, word):\n",
    "        raise NotImplementedError()\n",
    "    def update(self, words):\n",
    "        self |= words\n",
    "    def __contains__(self, word):\n",
    "        return word in self.word_to_num\n",
    "    def __len__(self):\n",
    "        return len(self.num_to_word)\n",
    "    def __iter__(self):\n",
    "        return iter(self.num_to_word)\n",
    "\n",
    "    def numberize(self, word):\n",
    "        \"\"\"Convert a word into a number.\"\"\"\n",
    "        if word in self.word_to_num:\n",
    "            return self.word_to_num[word]\n",
    "        else:\n",
    "            return self.word_to_num['<UNK>']\n",
    "\n",
    "    def denumberize(self, num):\n",
    "        \"\"\"Convert a number into a word.\"\"\"\n",
    "        return self.num_to_word[num]"
   ]
  },
  {
   "cell_type": "markdown",
   "metadata": {},
   "source": [
    "## Data"
   ]
  },
  {
   "cell_type": "code",
   "execution_count": 5,
   "metadata": {},
   "outputs": [],
   "source": [
    "def batch_tokenize_preprocess(batch, tokenizer, max_source_length, max_target_length):\n",
    "    source = \" \".join([email[kBody] for email in batch['email_list']])\n",
    "    target = batch['summary'][kSummary]  \n",
    "    \n",
    "    source_tokenized = tokenizer(source, padding=\"max_length\", truncation=True, max_length=max_source_length)\n",
    "    target_tokenized = tokenizer(target, padding=\"max_length\", truncation=True, max_length=max_target_length)\n",
    "\n",
    "\n",
    "\n",
    "    source_tokenized = tokenizer(\n",
    "        source, padding=\"max_length\", truncation=True, max_length=max_source_length\n",
    "    )\n",
    "    \n",
    "    target_tokenized = tokenizer(\n",
    "        target, padding=\"max_length\", truncation=True, max_length=max_target_length\n",
    "    )\n",
    "\n",
    "    batch = {k: v for k, v in source_tokenized.items()}\n",
    "\n",
    "    batch[\"labels\"] = target_tokenized[\"input_ids\"]    \n",
    "    \n",
    "    # Ignore padding in the loss\n",
    "\n",
    "    # batch[\"labels\"] = [\n",
    "    #     [-100 if token == tokenizer.pad_token_id else token for token in l]\n",
    "    #     for l in target_tokenized[\"input_ids\"]\n",
    "    # ]\n",
    "    return batch\n"
   ]
  },
  {
   "cell_type": "code",
   "execution_count": 6,
   "metadata": {},
   "outputs": [],
   "source": [
    "dataset = Utils.load_dataset(DETAILS_JSON, SUMMARIES_JSON) # load the dataset\n",
    "\n",
    "data = list(dataset.items())\n",
    "random.shuffle(data)\n",
    "train, test = train_test_split(data, test_size=0.2, random_state=42)\n",
    "\n",
    "train = [(email_list, summary) for _, (email_list, summary) in train]\n",
    "test = [(email_list, summary) for _, (email_list, summary) in test]\n",
    "\n",
    "train_dataset = datasets.Dataset.from_dict({\n",
    "    'email_list': [email_list for email_list, _ in train],\n",
    "    'summary': [summary for _, summary in train]\n",
    "})\n",
    "\n",
    "test_dataset = datasets.Dataset.from_dict({\n",
    "    'email_list': [email_list for email_list, _ in test],\n",
    "    'summary': [summary for _, summary in test]\n",
    "})\n"
   ]
  },
  {
   "cell_type": "code",
   "execution_count": 7,
   "metadata": {},
   "outputs": [
    {
     "name": "stdout",
     "output_type": "stream",
     "text": [
      "email_list\n",
      "[{'body': \"Mark - \\n\\nGood suggestion.  I spoke to Scott Rebltiz who told me that important \\ndecisions are to made this week at OPIC concering the Gaza project.  I will \\nwork with Scott and John Hardy to make sure that our message is consistent \\nand helpful.  I will also work with Mac for a comprehensive update and \\nstrategy.\\n\\n-Chris \\n\\n\\n\\n\\n\\n\\nMark Schroeder@ECT\\n02/09/2000 06:35 AM\\nTo: Joe Hillings/Corp/Enron@ENRON, Chris Long/Corp/Enron@ENRON\\ncc: Steven J Kean/HOU/EES@EES, Mac \\nMcClelland/ENRON_DEVELOPMENT@ENRON_DEVELOPMENT \\n\\nSubject: Department of Energy Pre-departure Briefing w/ Asst. Secy. Goldwyn\\n\\nJoe?Chris - this covers some of my new turf.  We have, I am told, a power \\nproject in Gaza that we are working on.  It is probably early days, but \\nperhpas Mac mcClelland in Dubai can shed some light on whether we would want \\nto get that project on the Secretary of Energy's radar screen.   mcs \\n---------------------- Forwarded by Mark Schroeder/LON/ECT on 09/02/2000 \\n11:33 ---------------------------\\n   \\n\\tEnron Capital & Trade Resources Corp.\\n\\t\\n\\tFrom:  Scott <s-mccarthy@bciu.org>                           08/02/2000 22:00\\n\\t\\n\\nTo: mahn@usccmail.bms.com, calbee@dfintl.com, dean.allen@pareuro.com, \\nfalmeida_sikorsky@compuserve.com, emily.altman@msdw.com, \\njambler@ei.enron.com, ardilal@sji.pasanjor.com, jfarminton@west.raytheon.com, \\nrarmstro@submarinesystems.com, wmarnold@sepiv.shellus.com, \\njulius_asboth@raytheon.com, batay@ccgate.reci.com, taustell3@msn.com, \\nazevedom@winstim.com, michael_j_ball@mail.northgrum.com, \\njim.bambrick@farrell.com, hbarraza@stewart.com, marta.bascom@airtouch.com, \\nrogersbeall@compuserve.com, bill.beisswanger@ey.com, \\nGB191587@MSXSEPC.SHELL.COM, thane.benedict@chadbourne.com, eric.benn@bms.com, \\ncbennett@pfizer.com, bennett@pbworld.com, fberger@louisberger.com, \\neberk@icfkaiser.com, bethaje@texaco.com, mbey@chevron.com, \\nnbillotti@tcco.com, gbirutis@arinc.com, joe.bizzano@nrgenergy.com, \\nkblanchard@haythecurley.com, martha_blaxall@dai.com, blockri@winstim.com, \\njtbolden@cat.com, fmbonge@sepiv.shellus.com, carter.booth@chase.com, \\nkbosche@fioc.com, uwe.bott@gecapital.com, boydj@winstim.com, \\njboyd@sfdrill.com, rboyd@enron.com, bbradford@tda.gov, \\njbrand@telephonics.com, kevin_f_brennan@email.mobil.com, \\njesus_briceno@raytheon.com, conrad_brown@res.raytheon.com, \\nbrown@connellco.com, coresorces@aol.com, nburakow@icfkaiser.com, \\nreburgess@duke-energy.com, mburpoe@aol.com, harold_burson@bm.com, \\nkent_burton@ogden-energy.com, BurtonLD@bp.com, ljbuss@duke-energy.com, \\ntom.butler@chase.com, mitchell_s_butta@mail.northgrum.com, \\ncampbellj@winstim.com, margaret.h.campbell@bellatlantic.com, \\ndick.carano@fluordaniel.com, dante.caravaggio@jacobs.com, \\nnestor.carbonell@pepsico.com, charles_l_carpenter@mail.northgrum.com, \\nfernando.carrizosa@wackenhutcorp.com, solardc@bellatlantic.net, \\ncharles_caruso@merck.com, brian.casey@corporate.ge.com, \\nrcavey@americanstandard.com, chambej@md.ahp.com, chapmana@bp.com, \\ncoresorces@aol.com, rohit.chaudhry@chadbourne.com, \\narmando_chavez@agilent.com, stevechesebro@pennzoil.com, pccjr@energy-usa.com, \\nmichael_claes@bm.com, rclegg@bellhelicopter.textron.com, \\nmarvin_e_clifton@email.mobil.com, ned.cloonan@aig.com, wclossey@lga.att.com, \\ngalen.cobb@halliburton.com, mike_cochran@anadarko.com, stevec@hostpj.usa.com, \\nisabella.m.cointepas@sb.com, ecole@tamsconsultants.com, \\njean.l.cole@exxon.sprint.com, michael_coleman@parsons.com, rjcolgan@cat.com, \\nbarclay_collins@anadarko.com, stephanie.a.conaghan@chadbourne.com, \\ncconlon@tcco.com, grover@connellco.com, ted@connellco.com, \\nterry@connellco.com, jcook@saralee.com, dcooper@cromor.com, \\nsy_corenson@hp.com, robert_a_costa@res.raytheon.com, ron.t.covais@lmco.com, \\ncoxfj@texaco.com, james_s_cox@mail.northgrum.com, dcrosson@dc.edelman.com, \\nsusan_crowley@merck.com, fcummins@nacds.org, cunninghamj@epenergy.com, \\nscurley@haythecurley.com, darbym@ms.com, ian_davis@oxy.com, \\nnadavis@mail.hac.com, juan.deleon@jacobs.com, don.deline@halliburton.com, \\ndiane_demers@dai.com, henry_somerville@fwc.com, o-dogruer@bciu.org, \\nadolcimascolo@tamsconsultants.com, chuck.dominy@halliburton.com, \\nj-donald@bciu.org, cduffy@mailer.kmec.com, eduffy@skadden.com, \\nloretta.dunn@hughes.com, steve.dutton@comsat.com, catherine_dwyer@nyl.com, \\ndavid.j.earnshaw@sb.com, dedelman@edelman.com, redelman@edelman.com, \\nsaelbert@amoco.com, ellswp@pfizer.com, dewaem@pfizer.com, \\neverett_sally@bah.com, ralph_fairbanks@kmrpower.com, robert.fallon@chase.com, \\nlarryfarmer@halliburton.com, mfarrar@mail.arco.com, \\nsteve_farrar@guardian.com, afasciano@lucent.com, andrew.fawthrop@unocal.com, \\npaul_feldman@anadarko.com, mpfernandez-baca@duke-energy.com, \\ndfine@corp.sbc.com, louise.finnerty@pepsi.com, peter_finnerty@csx.com, \\npeter.fitzgerald@chadbourne.com, c_tanai_fleenor@parsons.com, \\nstephen.flett@aexp.com, George_A_Folsom@email.msn.com, fonseyp@texaco.com, \\nmartyforte@mindspring.com, jefox@mintz.com, bfree@chubb.com, \\norit.frenkel@corporate.ge.com, Howard.Frey@aig.com, \\ndouglas.m.fried@chadbourne.com, cfrost@forbes.com, ken_frydman@edelman.com, \\nsfuller@chubb.com, michael.gadbaw@corporate.ge.com, lsgaibor@compuserve.com, \\nmgale@warnaco.com, marykelley.k.gannon@bellatlantic.com, sgarber@sfdrill.com, \\ngard6942@mlb.com, robert_gardner@email.mobil.com, wgardner@chubb.com, \\ngaribaldic@sji.pasanjor.com, ken_gaulden@sealand.com, nomad68@earthlink.net, \\neugene.gay@cpmx.saic.com, dgeanacopolous@akingump.com, \\nlynn.gedanken@chadbourne.com, georgen@epenergy.com, \\nralph_gerson@guardian.com, peter.getsinger@db.com, sghilaga@nacds.org, \\nsghilaga@ultracom.net, gillespie@scowcroft.com, gillickj@winstim.com, \\njon_d_glassman@mail.northgrum.com, kgoddard@pw-inc.com, \\narlene_delapaz@md.northgrum.com, neil.golden@chadbourne.com, larry@pira.com, \\nenrique.l.gomez@lmco.com, randy.goode@sippican.com, \\nwilliam.greason@chadbourne.com, green_candy_a@cat.com, \\njames_e_green@email.mobil.com, sgreen@unocal.com, \\ndave.gribbin@halliburton.com, griffm@winstim.com, jgroberg@volt.com, \\ngrosswo@mail.northgrum.com, richard.guay@jacobs.com, k-gut@bciu.org, \\ndean.l.guttormson@exxon.sprint.com, robert_w_haines@email.mobil.com, \\njwhakkinen@marathonoil.com, bill.hale@exxon.com, hall2r@kochind.com, \\nwilliam_e_hall@parsons.com, kenneth.hansen@chadbourne.com, \\nkharbert@mailer.kmec.com, jhardy@ei.enron.com, harkinr@corpdc.utc.com, \\nbillritten@aol.com, scott.a.harris@lmco.com, hastied9@compuserve.com, \\nlhay@chevron.com, brian_healy@merck.com, hedgep@pfizer.com, \\nfernando.hegel@wackenhutcorp.com, neville_henry@anadarko.com, \\nlynn_azar@anadarko.com, mherber@mail.arco.com, heroldra@bp.com, \\nharry.hicks@ey.com, hillj2@bp.com, thill@dfintl.com, jhillin@enron.com, \\nlsulliv@enron.com, james_hilton@parsons.com, santiago_hinojosa@bm.com, \\nhirshr@israelemb.org, hitchcock@pbworld.com, \\nthomas.hohenthaner@chadbourne.com, Irene-hollerback@ogden-energy.com, \\nrichard_hook@anadarko.com, horn6945@mlb.com, shorsley@ti.com, \\nshorton@pbwt.com, jahoward@bechtel.com, peter.howell@citicorp.com, \\nhenry.hsiang@aig.com, lhudson@unocal.com, huntington_erin_b@lilly.com, \\nbichord@unocal.com, j_anthony_imler@merck.com, wmir@chevron.com, \\nashfaq@usa-intl.com, contact@usa-intl.com, ernest_r_jackson@raytheon.com, \\njago@oldworldind.com, james.l.jamerson@lmco.com, jamesch1@mail.northgrum.com, \\njarvisa@md.ahp.com, jjeffrey@dttus.com, mjichlin@louisberger.com, \\noakley.johnson@aig.com, lionel.johnson@citicorp.com, \\nkevin.b.jordan@chadbourne.com, paul.kaiser@nrgenergy.com, \\ngeorge_kappaz@kmrpower.com, rfolensbee@mailer.kmec.com, \\nal.kappelmann@libertymutual.com, rkarlgaard@forbes.com, \\ndickey_kathryn_m@lilly.com, patricia-katayama@dc.edelman.com, \\ndiana.keegan@aig.com, kelleyb@epenergy.com, john.r.kelly@exxon.sprint.com, \\nkathleenkell@earthlink.com, donald_s_kendall@res.raytheon.com, \\ntim.kernan@fluordaniel.com, Joyce.Choate@FLUORCORP.com, skerr@mail.arco.com, \\njkessler@porterwright.com, lk@lovainc.com, lovak@prodigy.net, \\nfking@bellhelicopter.textron.com, richard.g.kirkland@lmco.com, \\nhelena.klumpp@chadbourne.com, jknight@fioc.com, \\njoy_l_koch@mail.northgrum.com, rkochman@volt.com, mkoprulu@mfi-ny.com, \\npkorff@skadden.com, kostimv@texaco.com, ans.kristbergs@farrell-lines.com, \\nsandra_j_kristoff@newyorklife.com, Alex_Kulpecz@AZURIX.enron.com, \\nedward.kuncar@wackenhutcorp.com, jkuspa@mailer.kmec.com, \\nchristoph.ladanyi@gs.com, glandegger@pw-inc.com, rlarios@corp.sbc.com, \\nlaudienl@epenergy.com, lawrenjd@ix.netcom.com, \\ndavid_ledesma@AZURIX.enron.com, ed.lee@aig.com, leet@winstim.com, \\ndenyse.lefever@lmco.com, richard_lehfeldt@missionenergy.com, \\nllenfest@oracle.com, cel@energy-usa.com, john.libonati@owenscorning.com, \\njeff.lifur@chadbourne.com, duke.ligon@dvn.com, lynn_alleva@dai.com, \\njerry.d.lindstrom@lmco.com, juan_llovet@parsons.com, \\nadriana.i.griffith@parsons.com, loderw@winstim.com, wlor@chevron.com, \\nlosi@pbworld.com, andrew.loughlin@libertymutual.com, phil_luks@kmrpower.com, \\nrodney.j.macalister@usa.conoco.com, stuart.macdonald@chase.com, \\nmadden@farrell-lines.com, wmaddox@bellhelicopter.textron.com, \\nmariella.mahan@enron.com, michael.d.maher@exxon.com, paul.mandry@avon.com, \\nmarani@israelemb.org, cmarcenaro@louisberger.com, amarchetti@hess.com, \\ngary.c.marfin@usa.conoco.com, mmarino@tamsconsultants.com, \\ntrudy.marshall@nrgenergy.com, craig.martin@jacobs.com, \\njoseph.martin@chase.com, keith.martin@chadbourne.com, momartin@estee.com, \\npedro_martinez@raytheon.com, richard.mathews@avon.com, \\nbmay@bellhelicopter.textron.com, norman_c_mazurek@res.raytheon.com, \\nchemarie@monmouth.com, s-mccarthy@bciu.org, \\njim.mccarty@libertyinternational.com, jmcfarla@us.oracle.com, \\nBruce_C._McKay@CORP.CNG.COM, McLaughlin@pbworld.com, rmcphail@dttus.com, \\njames.g.melonas@bellatlantic.com, dgmengebier@cmsenergy.com, \\nsandy.merber@corporate.ge.com, michel@pbworld.com, don_mickelwait@dai.com, \\nmilburi@mail.northgrum.com, jrmiller2@west.raytheon.com, \\njohn_minihane@fwc.com, simeon_l_moats@email.mobil.com, \\nboyd.montgomery@unocal.com, cmoomjian@sfdrill.com, mmoore@acec.org, \\nmmorley@edelman.com, elambert.com@mindspring.com, stewart@stewart.com, \\nisabel_moya@dai.com, jmoyer@warnaco.com, rmulligan@chubb.com, \\nkevin.mulvey@aig.com, deborah.e.myers@sb.com, ken_nadolny@anadarko.com, \\njoyce_griffin@anadarko.com, tnanney@corp.sbc.com, naraf@winstim.com, \\nhernan.narea@chase.com, nathanh@winstim.com, r_d_nelson@email.mobil.com, \\njames.nelson@lmco.com, ted.nevins@aig.com, twnichol@oracle.com, \\nmichael_nocera@newyorklife.com, Rmnorthrup@cat.com, nosseira@ms.com, \\ndon_o'hare@sealand.com, olougga@mail.northgrum.com, brian.oneill@chase.com, \\noneillm@labs.wyeth.com, oneill@pbworld.com, john.b.o'sullivan@chadbourne.com, \\ntolic@icnpharm.com, charlie.oliver@fluordaniel.com, josborne@stewart.com, \\njeffrey_osborne@parsons.com, wayne.osterman@libertymutual.com, \\npaul.ostling@ey.com, bob.oswald@aexp.com, fpandith@mintz.com, \\nmpanic@icnpharm.com, robert.papas@corporate.ge.com, Nancy.Patton@parsons.com, \\nc-chris.pavlides@usa.conoco.com, jon.d.pender@sb.com, \\ngreg_pensabene@anadarko.com, rperez_sikorsky@compuserve.com, \\ncperry@fcacorp.com, speske@aol.com, phillip.peters@ey.com, BPeters@volt.com, \\nkaren.peterson@bms.com, daniel.c.petri@bellatlantic.com, fphelps@unocal.com, \\nbarbara.phillips@airtouch.com, ann_pickard@email.mobil.com, \\ngapickart@cmsenergy.com, pierrelouisl@winstim.com, bud.piland@mcdermott.com, \\nbmay@bellhelicopter.textron.com, joe_pinto@hp.com, jeanne_hoerter@merck.com, \\npollarb@corpdc.utc.com, dpolo@icfkaiser.com, fjp@symbolic.com, \\njody.powers@halliburton.com, george_p_pradas@email.mobil.com, \\npreissj@corpdc.utc.com, prieto@pbworld.com, lprosser@dttus.com, \\nkpuvak@acec.org, jrafuse@unocal.com, rragan@bechtel.com, \\nrod_j_ragan@parsons.com, draymond@acec.org, eregan@tamsconsultants.com, \\nReicheEA@bp.com, walt_reichert@hp.com, charles_o_richards@amoco.com, \\ntim.richards@corporate.ge.com, al_richey@anadarko.com, riverpw@texaco.com, \\njack_roadhouse@parsons.com, joseph.robertson@wackenhutcorp.com, \\nirobins@volt.com, damian.robinson@aexp.com, vrocca@louisberger.com, \\nlberger@louisberger.com, eric.rohtla@aig.com, mrollin@mail.arco.com, \\ndiana.roner@wackenhutcorp.com, rosaj@epenergy.com, kfrose@sepiv.shellus.com, \\nsteven.rosenberg@hbo.com, larry_rosenblatt@email.mobil.com, \\ngaryross@pira.com, Maria.Ruess@comsat.com, peter.ew.russell@chase.com, \\nsteve_rutkowski@anadarko.com, bill.ryzinski@nrgenergy.com, \\narthur.sackler@twi.com, esamara@worldspace.com, nsamara@worldspace.com, \\nantranig.sarkissian@citicorp.com, luis.sastre@lmco.com, \\njsatterwhite@sikorsky.com, nancysauer@pennzoil.com, rsaul@phrma.org, \\nrscharar@fcacorp.com, jeschmeltzer@pbwt.com, william.schmidt@chadbourne.com, \\npschnell@skadden.com, thomas.d.schoegler@lmco.com, rschofield@hess.com, \\nmarilyn.schorin@intl.pepsi.com, mschroeder@enron.com, \\npschuchter@mailer.kmec.com, aschwartz@pw-inc.com, bschweigel@oldworldind.com, \\nrobert.shapiro@chadbourne.com, alan.j.shepherd@mw.com, \\nmollie.shields@bms.com, larry_g_shockley@parsons.com, sbsi@chevron.com, \\nwilliam.h.siefken@lmco.com, kruskaia.sierra-escalante@chadbourne.com, \\nsilkenatj@winstim.com, ronald.singer@ae.ge.com, elliott.slade@db.com, \\ndenis_slavich@kmrpower.com, midges@ms.com, steve.smith@gecapital.com, \\nsandy.o'meara@gecapital.com, jack.w.snyder@lmco.com, solbera@texaco.com, \\nsolliea@texaco.com, francis.stankard@aexp.com, rystebbin@aol.com, \\nmstewart@dc.textron.com, pstirlin@us.oracle.com, dcarlson@mailer.kmec.com, \\nastraus@skadden.com, eugene.r.sullivan@chadbourne.com, \\nbill_sullivan@anadarko.com, mark.f.supko@lmco.com, sally.susman@aexp.com, \\ndavid.syphard@crssc.com, president@artleygroup.com, VTarallo@aol.com, \\ntarbels@pweh.com, stephen_s_teel@res.raytheon.com, arthur.thomas@ey.com, \\nc_nigel_thompson@merck.com, dick.thompson@bms.com, thorn@ei.enron.com, \\nbthornton@fwtxusa.org, james_e_thrash@parsons.com, p-tichansky@bciu.org, \\njim.e.tobin@aexp.com, john.tognino@nasdaq.com, luis.torres@chadbourne.com, \\nTownshME@bp.com, strendic@us.oracle.com, trevijm@texaco.com, \\njacktymann@aol.com, jtymann@worldspace.com, elizabeth.a.tyson@sb.com, \\nulrich@pbworld.com, urbans@eu1.bp.com, munnj1@bp.com, \\ngvandyke@vancoenergy.com, philip.vaughn@fluordaniel.com, \\nandy_veje@parsons.com, frank.verrastro@dvn.com, aracelia.vila@spcorp.com, \\njudith.a.vincent@usa.conoco.com, evis65677@aol.com, \\nvlachpa@mail.northgrum.com, chaim.wachsberger@chadbourne.com, \\njwalden@vancoenergy.com, peter_walters@guardian.com, \\naverhulst@worldnet.att.net, eward@skadden.com, \\nkenneth.j.warnock@bellatlantic.com, c-watson@bciu.org, \\nmweaver@fortworthchamber.com, paul.weber@chadbourne.com, \\nthomas_h_weese@ccgate.ueci.com, jwei@haythecurley.com, v-weil@bciu.org, \\njoel.a.weiss@lmco.com, dwestfa@enron.com, john_m_white@eo.raytheon.com, \\njwhitman@nacds.org, scott_whitney@ogden-energy.com, jim_whittaker@hp.com, \\nguenther.o.wilhelm@exxon.com, t-wilkes@bciu.org, cwilkison@worldspace.com, \\nron.will@nrgenergy.com, elizabeth.f.williamson@usa.conoco.com, \\ndwillkens@dfintl.com, scarbroughs_plum@usa.net, \\nDebra_Winchester@res.raytheon.com, cwindels@pfizer.com, frank.wisner@aig.com, \\nwisnoskik@epenergy.com, dwolff@louisberger.com, ctompkins@louisberger.com, \\nkwoodcock@aesc.com, sross@aesc.com, WoodsHR@bp.com, \\newright@west.raytheon.com, wrightp12@bp.com, fouquepa@bp.com, \\noyandle@itsa.org, yannif@labs.wyeth.com, cordelia_m._yoon@newyorklife.com, \\nlzak@mintz.com, ezsol@aol.com, lawrence.ziman@chadbourne.com, \\nczimmerman@dfintl.com, dzsebik_sikorsky@compuserve.com\\ncc:  \\n\\nSubject: Department of Energy Pre-departure Briefing w/ Asst. Secy. Goldwyn\\n\\n\\nTO:  BCIU Members\\nFROM: Scott McCarthy\\n  Director of Programs\\n  Ph: 212-490-0460, ext. 224\\n  Fx: 212-697-8526\\n\\nPRE-DEPARTURE BRIEFING\\n\\nBCIU and the U.S. Department of Energy are pleased to announce an industry\\nbriefing with:\\n\\nASSISTANT SECRETARY OF ENERGY DAVID GOLDWYN\\nIN PREPARATION FOR ENERGY SECRETARY BILL RICHARDSON'S\\nMIDDLE EAST TRIP\\n(EGYPT, ISRAEL, PALESTINIAN AUTHORITY,\\n KUWAIT, AND SAUDI ARABIA)\\n\\n\\nDATE: Thursday, February 17, 2000\\nTIME: 10:30 a.m. - 11:30 a.m.\\nPLACE: Department of Energy\\n  Room 7C016\\n  1000 Independence Avenue, S.W.\\n  Washington, DC 20036\\n\\n\\nSecretary of Energy Bill Richardson is visiting the Middle East February\\n19-26 where he will meet with officials in Egypt, Israel, the Palestinian\\nAuthority, Kuwait and Saudi Arabia.  He is expected to sign bilateral\\nScience and Technology Agreements (or annexes to existing agreements)\\nfocused on solar and renewable energy, advanced power systems, and/or\\nelectric vehicle programs with Egypt and Israel, as well as an Energy\\nCooperation Agreement with the Palestinian Authority.  He will meet the\\nleaderships of Kuwait and Saudi Arabia on international oil company\\ninvolvement in the upstream oil sector and other issues important to U.S.\\nindustry.\\n\\nBCIU invites you to join Department of Energy Assistant Secretary for\\nInternational Affairs David Goldwyn, Deputy Assistant Secretary Theresa\\nFariello, Special Assistant to Secretary Richardson for Policy Rachel King,\\nand Director for NIS, Russia and Middle East Affairs Len Coburn for an\\nindustry roundtable in preparation for this visit.  Companies are\\nencouraged to bring background material for the Secretary's use during the\\ntrip to this meeting if they have not been provided to the Department of\\nEnergy previously.\\n\\nIf you have any questions regarding this program, please contact Jeffrey\\nDonald at tel. (202) 775-6074, fax: (202) 775-6025; E-MAIL j-donald@bciu.org.\\n-------------------------------------------------------------\\nIf you would like to attend, please complete the form below and respond via\\nreply e-mail OR fax your reservation to (202) 775-6025.\\n\\nName:____________________ Title:__________________________\\n\\nSocial Security Number (for clearance into\\n the Department of Energy):______________________\\n\\nCompany:__________________________________________________\\n\\nAddress:__________________________________________________\\n\\nPhone:__________________   Fax:______________________\\n\\nEmail:___________________________________\\n\\nProgram number: 3750JD\\n\\n\\n\\n\\n\\n\", 'from': 'Chris Long', 'subject': 'Department of Energy Pre-departure Briefing w/ Asst. Secy.\\n Goldwyn', 'thread_id': 2103, 'timestamp': 950062980000, 'to': ['Mark Schroeder']}, {'body': 'The IPP in Gaza is progressing albeit somewhat behind schedule.  This \\ncombined cycle power plant is the first infrastructure development project in \\nGaza and the first by a major Western company anywhere in \"Palestine.\"  There \\nare several issues which should be addressed and may be raised during the \\nSecretary\\'s visit.\\n\\n1.  All equipment for the plant must transit Israel.  We have been assured by \\nthe Israelis that movement of the equipment will not be impeded as long as it \\nis on the list of equipment we provide them.  That said, there are countless \\nopportunities for equipment to be delayed in Israel awaiting clearance, \\nwhether on the list or not.  First power could be delayed indefinitely if the \\nIsraelis choose to do so for political, security, or other reasons.\\n\\n2.  Fuel for the plant, once operational, will also transit Israel.  Again, \\ndisruption of the fuel supply for any length of time will in effect pull the \\nplug on power in Gaza.  Gas from Egypt has been discussed; it remains to be \\nseen if that will be a reality anytime soon.\\n\\n3.  Although not officially from the Israeli government, we have been told \\nthat as soon as the first watt of power from the plant is produced, the \\nIsraelis will turn off supply of electricity to Gaza.  The current \\nconsumption is about 110MW.  The first phase of the plant will produce 40MW.  \\nThis appears to be the beginning of a power supply arrangement whereby Israel \\nsells Gaza electricity to make up the difference.  That electricity is likely \\nto be more expensive than that which the plant will supply; Enron could well \\nend up being blamed for the higher cost.\\n\\n4.  Water is another critical issue.  The Palestinians want their own supply \\nof fresh water which must necessarily be desalinated.  Israel is currently \\nselling water to Gaza; it is not in Israel\\'s best interest to lose this \\ncustomer, therefore she may attempt to delay a desalination project.\\n\\n5.  OPIC project funding is problematical.  Since they originally invited \\nEnron to take on this project, they should necessarily also be involved.  \\nLack of OPIC support could jeopardize other project financing and drive up \\ncosts.\\n\\n6.  The Israelis must also \"approve\" the environmental impact of the plant.  \\nThe plant will meet or exceed World Bank guidelines, more so when operating \\non gas.  While not a probem at this point, the Israelis could delay \\nconstruction/operation over environmental \"concerns.\"\\n\\nAndrew is the lead developer for this project and may have other issues for \\nconsideration.  Thanks.  Mac\\n---------------------- Forwarded by Mac McClelland/ENRON_DEVELOPMENT on \\n02/09/2000 08:28 PM ---------------------------\\nTo: Mark Schroeder/LON/ECT@ECT\\ncc: Joe Hillings/Corp/Enron@ENRON, Steven J Kean/HOU/EES@EES@ECT, Mac \\nMcClelland/ENRON_DEVELOPMENT@ENRON_DEVELOPMENT@ECT, Scott \\nReblitz/ENRON_DEVELOPMENT@ENRON_DEVELOPMENT, Lora Sullivan/Corp/Enron@ENRON \\n\\nSubject: Re: Department of Energy Pre-departure Briefing w/ Asst. Secy. \\nGoldwyn  \\n\\nMark - \\n\\nGood suggestion.  I spoke to Scott Rebltiz who told me that important \\ndecisions are to made this week at OPIC concering the Gaza project.  I will \\nwork with Scott and John Hardy to make sure that our message is consistent \\nand helpful.  I will also work with Mac for a comprehensive update and \\nstrategy.\\n\\n-Chris \\n\\n\\n\\n\\n\\nMark Schroeder@ECT\\n02/09/2000 06:35 AM\\nTo: Joe Hillings/Corp/Enron@ENRON, Chris Long/Corp/Enron@ENRON\\ncc: Steven J Kean/HOU/EES@EES, Mac \\nMcClelland/ENRON_DEVELOPMENT@ENRON_DEVELOPMENT \\n\\nSubject: Department of Energy Pre-departure Briefing w/ Asst. Secy. Goldwyn\\n\\nJoe?Chris - this covers some of my new turf.  We have, I am told, a power \\nproject in Gaza that we are working on.  It is probably early days, but \\nperhpas Mac mcClelland in Dubai can shed some light on whether we would want \\nto get that project on the Secretary of Energy\\'s radar screen.   mcs \\n---------------------- Forwarded by Mark Schroeder/LON/ECT on 09/02/2000 \\n11:33 ---------------------------\\n   \\n\\tEnron Capital & Trade Resources Corp.\\n\\t\\n\\tFrom:  Scott <s-mccarthy@bciu.org>                           08/02/2000 22:00\\n\\t\\n\\nTo: mahn@usccmail.bms.com, calbee@dfintl.com, dean.allen@pareuro.com, \\nfalmeida_sikorsky@compuserve.com, emily.altman@msdw.com, \\njambler@ei.enron.com, ardilal@sji.pasanjor.com, jfarminton@west.raytheon.com, \\nrarmstro@submarinesystems.com, wmarnold@sepiv.shellus.com, \\njulius_asboth@raytheon.com, batay@ccgate.reci.com, taustell3@msn.com, \\nazevedom@winstim.com, michael_j_ball@mail.northgrum.com, \\njim.bambrick@farrell.com, hbarraza@stewart.com, marta.bascom@airtouch.com, \\nrogersbeall@compuserve.com, bill.beisswanger@ey.com, \\nGB191587@MSXSEPC.SHELL.COM, thane.benedict@chadbourne.com, eric.benn@bms.com, \\ncbennett@pfizer.com, bennett@pbworld.com, fberger@louisberger.com, \\neberk@icfkaiser.com, bethaje@texaco.com, mbey@chevron.com, \\nnbillotti@tcco.com, gbirutis@arinc.com, joe.bizzano@nrgenergy.com, \\nkblanchard@haythecurley.com, martha_blaxall@dai.com, blockri@winstim.com, \\njtbolden@cat.com, fmbonge@sepiv.shellus.com, carter.booth@chase.com, \\nkbosche@fioc.com, uwe.bott@gecapital.com, boydj@winstim.com, \\njboyd@sfdrill.com, rboyd@enron.com, bbradford@tda.gov, \\njbrand@telephonics.com, kevin_f_brennan@email.mobil.com, \\njesus_briceno@raytheon.com, conrad_brown@res.raytheon.com, \\nbrown@connellco.com, coresorces@aol.com, nburakow@icfkaiser.com, \\nreburgess@duke-energy.com, mburpoe@aol.com, harold_burson@bm.com, \\nkent_burton@ogden-energy.com, BurtonLD@bp.com, ljbuss@duke-energy.com, \\ntom.butler@chase.com, mitchell_s_butta@mail.northgrum.com, \\ncampbellj@winstim.com, margaret.h.campbell@bellatlantic.com, \\ndick.carano@fluordaniel.com, dante.caravaggio@jacobs.com, \\nnestor.carbonell@pepsico.com, charles_l_carpenter@mail.northgrum.com, \\nfernando.carrizosa@wackenhutcorp.com, solardc@bellatlantic.net, \\ncharles_caruso@merck.com, brian.casey@corporate.ge.com, \\nrcavey@americanstandard.com, chambej@md.ahp.com, chapmana@bp.com, \\ncoresorces@aol.com, rohit.chaudhry@chadbourne.com, \\narmando_chavez@agilent.com, stevechesebro@pennzoil.com, pccjr@energy-usa.com, \\nmichael_claes@bm.com, rclegg@bellhelicopter.textron.com, \\nmarvin_e_clifton@email.mobil.com, ned.cloonan@aig.com, wclossey@lga.att.com, \\ngalen.cobb@halliburton.com, mike_cochran@anadarko.com, stevec@hostpj.usa.com, \\nisabella.m.cointepas@sb.com, ecole@tamsconsultants.com, \\njean.l.cole@exxon.sprint.com, michael_coleman@parsons.com, rjcolgan@cat.com, \\nbarclay_collins@anadarko.com, stephanie.a.conaghan@chadbourne.com, \\ncconlon@tcco.com, grover@connellco.com, ted@connellco.com, \\nterry@connellco.com, jcook@saralee.com, dcooper@cromor.com, \\nsy_corenson@hp.com, robert_a_costa@res.raytheon.com, ron.t.covais@lmco.com, \\ncoxfj@texaco.com, james_s_cox@mail.northgrum.com, dcrosson@dc.edelman.com, \\nsusan_crowley@merck.com, fcummins@nacds.org, cunninghamj@epenergy.com, \\nscurley@haythecurley.com, darbym@ms.com, ian_davis@oxy.com, \\nnadavis@mail.hac.com, juan.deleon@jacobs.com, don.deline@halliburton.com, \\ndiane_demers@dai.com, henry_somerville@fwc.com, o-dogruer@bciu.org, \\nadolcimascolo@tamsconsultants.com, chuck.dominy@halliburton.com, \\nj-donald@bciu.org, cduffy@mailer.kmec.com, eduffy@skadden.com, \\nloretta.dunn@hughes.com, steve.dutton@comsat.com, catherine_dwyer@nyl.com, \\ndavid.j.earnshaw@sb.com, dedelman@edelman.com, redelman@edelman.com, \\nsaelbert@amoco.com, ellswp@pfizer.com, dewaem@pfizer.com, \\neverett_sally@bah.com, ralph_fairbanks@kmrpower.com, robert.fallon@chase.com, \\nlarryfarmer@halliburton.com, mfarrar@mail.arco.com, \\nsteve_farrar@guardian.com, afasciano@lucent.com, andrew.fawthrop@unocal.com, \\npaul_feldman@anadarko.com, mpfernandez-baca@duke-energy.com, \\ndfine@corp.sbc.com, louise.finnerty@pepsi.com, peter_finnerty@csx.com, \\npeter.fitzgerald@chadbourne.com, c_tanai_fleenor@parsons.com, \\nstephen.flett@aexp.com, George_A_Folsom@email.msn.com, fonseyp@texaco.com, \\nmartyforte@mindspring.com, jefox@mintz.com, bfree@chubb.com, \\norit.frenkel@corporate.ge.com, Howard.Frey@aig.com, \\ndouglas.m.fried@chadbourne.com, cfrost@forbes.com, ken_frydman@edelman.com, \\nsfuller@chubb.com, michael.gadbaw@corporate.ge.com, lsgaibor@compuserve.com, \\nmgale@warnaco.com, marykelley.k.gannon@bellatlantic.com, sgarber@sfdrill.com, \\ngard6942@mlb.com, robert_gardner@email.mobil.com, wgardner@chubb.com, \\ngaribaldic@sji.pasanjor.com, ken_gaulden@sealand.com, nomad68@earthlink.net, \\neugene.gay@cpmx.saic.com, dgeanacopolous@akingump.com, \\nlynn.gedanken@chadbourne.com, georgen@epenergy.com, \\nralph_gerson@guardian.com, peter.getsinger@db.com, sghilaga@nacds.org, \\nsghilaga@ultracom.net, gillespie@scowcroft.com, gillickj@winstim.com, \\njon_d_glassman@mail.northgrum.com, kgoddard@pw-inc.com, \\narlene_delapaz@md.northgrum.com, neil.golden@chadbourne.com, larry@pira.com, \\nenrique.l.gomez@lmco.com, randy.goode@sippican.com, \\nwilliam.greason@chadbourne.com, green_candy_a@cat.com, \\njames_e_green@email.mobil.com, sgreen@unocal.com, \\ndave.gribbin@halliburton.com, griffm@winstim.com, jgroberg@volt.com, \\ngrosswo@mail.northgrum.com, richard.guay@jacobs.com, k-gut@bciu.org, \\ndean.l.guttormson@exxon.sprint.com, robert_w_haines@email.mobil.com, \\njwhakkinen@marathonoil.com, bill.hale@exxon.com, hall2r@kochind.com, \\nwilliam_e_hall@parsons.com, kenneth.hansen@chadbourne.com, \\nkharbert@mailer.kmec.com, jhardy@ei.enron.com, harkinr@corpdc.utc.com, \\nbillritten@aol.com, scott.a.harris@lmco.com, hastied9@compuserve.com, \\nlhay@chevron.com, brian_healy@merck.com, hedgep@pfizer.com, \\nfernando.hegel@wackenhutcorp.com, neville_henry@anadarko.com, \\nlynn_azar@anadarko.com, mherber@mail.arco.com, heroldra@bp.com, \\nharry.hicks@ey.com, hillj2@bp.com, thill@dfintl.com, jhillin@enron.com, \\nlsulliv@enron.com, james_hilton@parsons.com, santiago_hinojosa@bm.com, \\nhirshr@israelemb.org, hitchcock@pbworld.com, \\nthomas.hohenthaner@chadbourne.com, Irene-hollerback@ogden-energy.com, \\nrichard_hook@anadarko.com, horn6945@mlb.com, shorsley@ti.com, \\nshorton@pbwt.com, jahoward@bechtel.com, peter.howell@citicorp.com, \\nhenry.hsiang@aig.com, lhudson@unocal.com, huntington_erin_b@lilly.com, \\nbichord@unocal.com, j_anthony_imler@merck.com, wmir@chevron.com, \\nashfaq@usa-intl.com, contact@usa-intl.com, ernest_r_jackson@raytheon.com, \\njago@oldworldind.com, james.l.jamerson@lmco.com, jamesch1@mail.northgrum.com, \\njarvisa@md.ahp.com, jjeffrey@dttus.com, mjichlin@louisberger.com, \\noakley.johnson@aig.com, lionel.johnson@citicorp.com, \\nkevin.b.jordan@chadbourne.com, paul.kaiser@nrgenergy.com, \\ngeorge_kappaz@kmrpower.com, rfolensbee@mailer.kmec.com, \\nal.kappelmann@libertymutual.com, rkarlgaard@forbes.com, \\ndickey_kathryn_m@lilly.com, patricia-katayama@dc.edelman.com, \\ndiana.keegan@aig.com, kelleyb@epenergy.com, john.r.kelly@exxon.sprint.com, \\nkathleenkell@earthlink.com, donald_s_kendall@res.raytheon.com, \\ntim.kernan@fluordaniel.com, Joyce.Choate@FLUORCORP.com, skerr@mail.arco.com, \\njkessler@porterwright.com, lk@lovainc.com, lovak@prodigy.net, \\nfking@bellhelicopter.textron.com, richard.g.kirkland@lmco.com, \\nhelena.klumpp@chadbourne.com, jknight@fioc.com, \\njoy_l_koch@mail.northgrum.com, rkochman@volt.com, mkoprulu@mfi-ny.com, \\npkorff@skadden.com, kostimv@texaco.com, ans.kristbergs@farrell-lines.com, \\nsandra_j_kristoff@newyorklife.com, Alex_Kulpecz@AZURIX.enron.com, \\nedward.kuncar@wackenhutcorp.com, jkuspa@mailer.kmec.com, \\nchristoph.ladanyi@gs.com, glandegger@pw-inc.com, rlarios@corp.sbc.com, \\nlaudienl@epenergy.com, lawrenjd@ix.netcom.com, \\ndavid_ledesma@AZURIX.enron.com, ed.lee@aig.com, leet@winstim.com, \\ndenyse.lefever@lmco.com, richard_lehfeldt@missionenergy.com, \\nllenfest@oracle.com, cel@energy-usa.com, john.libonati@owenscorning.com, \\njeff.lifur@chadbourne.com, duke.ligon@dvn.com, lynn_alleva@dai.com, \\njerry.d.lindstrom@lmco.com, juan_llovet@parsons.com, \\nadriana.i.griffith@parsons.com, loderw@winstim.com, wlor@chevron.com, \\nlosi@pbworld.com, andrew.loughlin@libertymutual.com, phil_luks@kmrpower.com, \\nrodney.j.macalister@usa.conoco.com, stuart.macdonald@chase.com, \\nmadden@farrell-lines.com, wmaddox@bellhelicopter.textron.com, \\nmariella.mahan@enron.com, michael.d.maher@exxon.com, paul.mandry@avon.com, \\nmarani@israelemb.org, cmarcenaro@louisberger.com, amarchetti@hess.com, \\ngary.c.marfin@usa.conoco.com, mmarino@tamsconsultants.com, \\ntrudy.marshall@nrgenergy.com, craig.martin@jacobs.com, \\njoseph.martin@chase.com, keith.martin@chadbourne.com, momartin@estee.com, \\npedro_martinez@raytheon.com, richard.mathews@avon.com, \\nbmay@bellhelicopter.textron.com, norman_c_mazurek@res.raytheon.com, \\nchemarie@monmouth.com, s-mccarthy@bciu.org, \\njim.mccarty@libertyinternational.com, jmcfarla@us.oracle.com, \\nBruce_C._McKay@CORP.CNG.COM, McLaughlin@pbworld.com, rmcphail@dttus.com, \\njames.g.melonas@bellatlantic.com, dgmengebier@cmsenergy.com, \\nsandy.merber@corporate.ge.com, michel@pbworld.com, don_mickelwait@dai.com, \\nmilburi@mail.northgrum.com, jrmiller2@west.raytheon.com, \\njohn_minihane@fwc.com, simeon_l_moats@email.mobil.com, \\nboyd.montgomery@unocal.com, cmoomjian@sfdrill.com, mmoore@acec.org, \\nmmorley@edelman.com, elambert.com@mindspring.com, stewart@stewart.com, \\nisabel_moya@dai.com, jmoyer@warnaco.com, rmulligan@chubb.com, \\nkevin.mulvey@aig.com, deborah.e.myers@sb.com, ken_nadolny@anadarko.com, \\njoyce_griffin@anadarko.com, tnanney@corp.sbc.com, naraf@winstim.com, \\nhernan.narea@chase.com, nathanh@winstim.com, r_d_nelson@email.mobil.com, \\njames.nelson@lmco.com, ted.nevins@aig.com, twnichol@oracle.com, \\nmichael_nocera@newyorklife.com, Rmnorthrup@cat.com, nosseira@ms.com, \\ndon_o\\'hare@sealand.com, olougga@mail.northgrum.com, brian.oneill@chase.com, \\noneillm@labs.wyeth.com, oneill@pbworld.com, john.b.o\\'sullivan@chadbourne.com, \\ntolic@icnpharm.com, charlie.oliver@fluordaniel.com, josborne@stewart.com, \\njeffrey_osborne@parsons.com, wayne.osterman@libertymutual.com, \\npaul.ostling@ey.com, bob.oswald@aexp.com, fpandith@mintz.com, \\nmpanic@icnpharm.com, robert.papas@corporate.ge.com, Nancy.Patton@parsons.com, \\nc-chris.pavlides@usa.conoco.com, jon.d.pender@sb.com, \\ngreg_pensabene@anadarko.com, rperez_sikorsky@compuserve.com, \\ncperry@fcacorp.com, speske@aol.com, phillip.peters@ey.com, BPeters@volt.com, \\nkaren.peterson@bms.com, daniel.c.petri@bellatlantic.com, fphelps@unocal.com, \\nbarbara.phillips@airtouch.com, ann_pickard@email.mobil.com, \\ngapickart@cmsenergy.com, pierrelouisl@winstim.com, bud.piland@mcdermott.com, \\nbmay@bellhelicopter.textron.com, joe_pinto@hp.com, jeanne_hoerter@merck.com, \\npollarb@corpdc.utc.com, dpolo@icfkaiser.com, fjp@symbolic.com, \\njody.powers@halliburton.com, george_p_pradas@email.mobil.com, \\npreissj@corpdc.utc.com, prieto@pbworld.com, lprosser@dttus.com, \\nkpuvak@acec.org, jrafuse@unocal.com, rragan@bechtel.com, \\nrod_j_ragan@parsons.com, draymond@acec.org, eregan@tamsconsultants.com, \\nReicheEA@bp.com, walt_reichert@hp.com, charles_o_richards@amoco.com, \\ntim.richards@corporate.ge.com, al_richey@anadarko.com, riverpw@texaco.com, \\njack_roadhouse@parsons.com, joseph.robertson@wackenhutcorp.com, \\nirobins@volt.com, damian.robinson@aexp.com, vrocca@louisberger.com, \\nlberger@louisberger.com, eric.rohtla@aig.com, mrollin@mail.arco.com, \\ndiana.roner@wackenhutcorp.com, rosaj@epenergy.com, kfrose@sepiv.shellus.com, \\nsteven.rosenberg@hbo.com, larry_rosenblatt@email.mobil.com, \\ngaryross@pira.com, Maria.Ruess@comsat.com, peter.ew.russell@chase.com, \\nsteve_rutkowski@anadarko.com, bill.ryzinski@nrgenergy.com, \\narthur.sackler@twi.com, esamara@worldspace.com, nsamara@worldspace.com, \\nantranig.sarkissian@citicorp.com, luis.sastre@lmco.com, \\njsatterwhite@sikorsky.com, nancysauer@pennzoil.com, rsaul@phrma.org, \\nrscharar@fcacorp.com, jeschmeltzer@pbwt.com, william.schmidt@chadbourne.com, \\npschnell@skadden.com, thomas.d.schoegler@lmco.com, rschofield@hess.com, \\nmarilyn.schorin@intl.pepsi.com, mschroeder@enron.com, \\npschuchter@mailer.kmec.com, aschwartz@pw-inc.com, bschweigel@oldworldind.com, \\nrobert.shapiro@chadbourne.com, alan.j.shepherd@mw.com, \\nmollie.shields@bms.com, larry_g_shockley@parsons.com, sbsi@chevron.com, \\nwilliam.h.siefken@lmco.com, kruskaia.sierra-escalante@chadbourne.com, \\nsilkenatj@winstim.com, ronald.singer@ae.ge.com, elliott.slade@db.com, \\ndenis_slavich@kmrpower.com, midges@ms.com, steve.smith@gecapital.com, \\nsandy.o\\'meara@gecapital.com, jack.w.snyder@lmco.com, solbera@texaco.com, \\nsolliea@texaco.com, francis.stankard@aexp.com, rystebbin@aol.com, \\nmstewart@dc.textron.com, pstirlin@us.oracle.com, dcarlson@mailer.kmec.com, \\nastraus@skadden.com, eugene.r.sullivan@chadbourne.com, \\nbill_sullivan@anadarko.com, mark.f.supko@lmco.com, sally.susman@aexp.com, \\ndavid.syphard@crssc.com, president@artleygroup.com, VTarallo@aol.com, \\ntarbels@pweh.com, stephen_s_teel@res.raytheon.com, arthur.thomas@ey.com, \\nc_nigel_thompson@merck.com, dick.thompson@bms.com, thorn@ei.enron.com, \\nbthornton@fwtxusa.org, james_e_thrash@parsons.com, p-tichansky@bciu.org, \\njim.e.tobin@aexp.com, john.tognino@nasdaq.com, luis.torres@chadbourne.com, \\nTownshME@bp.com, strendic@us.oracle.com, trevijm@texaco.com, \\njacktymann@aol.com, jtymann@worldspace.com, elizabeth.a.tyson@sb.com, \\nulrich@pbworld.com, urbans@eu1.bp.com, munnj1@bp.com, \\ngvandyke@vancoenergy.com, philip.vaughn@fluordaniel.com, \\nandy_veje@parsons.com, frank.verrastro@dvn.com, aracelia.vila@spcorp.com, \\njudith.a.vincent@usa.conoco.com, evis65677@aol.com, \\nvlachpa@mail.northgrum.com, chaim.wachsberger@chadbourne.com, \\njwalden@vancoenergy.com, peter_walters@guardian.com, \\naverhulst@worldnet.att.net, eward@skadden.com, \\nkenneth.j.warnock@bellatlantic.com, c-watson@bciu.org, \\nmweaver@fortworthchamber.com, paul.weber@chadbourne.com, \\nthomas_h_weese@ccgate.ueci.com, jwei@haythecurley.com, v-weil@bciu.org, \\njoel.a.weiss@lmco.com, dwestfa@enron.com, john_m_white@eo.raytheon.com, \\njwhitman@nacds.org, scott_whitney@ogden-energy.com, jim_whittaker@hp.com, \\nguenther.o.wilhelm@exxon.com, t-wilkes@bciu.org, cwilkison@worldspace.com, \\nron.will@nrgenergy.com, elizabeth.f.williamson@usa.conoco.com, \\ndwillkens@dfintl.com, scarbroughs_plum@usa.net, \\nDebra_Winchester@res.raytheon.com, cwindels@pfizer.com, frank.wisner@aig.com, \\nwisnoskik@epenergy.com, dwolff@louisberger.com, ctompkins@louisberger.com, \\nkwoodcock@aesc.com, sross@aesc.com, WoodsHR@bp.com, \\newright@west.raytheon.com, wrightp12@bp.com, fouquepa@bp.com, \\noyandle@itsa.org, yannif@labs.wyeth.com, cordelia_m._yoon@newyorklife.com, \\nlzak@mintz.com, ezsol@aol.com, lawrence.ziman@chadbourne.com, \\nczimmerman@dfintl.com, dzsebik_sikorsky@compuserve.com\\ncc:  \\n\\nSubject: Department of Energy Pre-departure Briefing w/ Asst. Secy. Goldwyn\\n\\n\\nTO:  BCIU Members\\nFROM: Scott McCarthy\\n  Director of Programs\\n  Ph: 212-490-0460, ext. 224\\n  Fx: 212-697-8526\\n\\nPRE-DEPARTURE BRIEFING\\n\\nBCIU and the U.S. Department of Energy are pleased to announce an industry\\nbriefing with:\\n\\nASSISTANT SECRETARY OF ENERGY DAVID GOLDWYN\\nIN PREPARATION FOR ENERGY SECRETARY BILL RICHARDSON\\'S\\nMIDDLE EAST TRIP\\n(EGYPT, ISRAEL, PALESTINIAN AUTHORITY,\\n KUWAIT, AND SAUDI ARABIA)\\n\\n\\nDATE: Thursday, February 17, 2000\\nTIME: 10:30 a.m. - 11:30 a.m.\\nPLACE: Department of Energy\\n  Room 7C016\\n  1000 Independence Avenue, S.W.\\n  Washington, DC 20036\\n\\n\\nSecretary of Energy Bill Richardson is visiting the Middle East February\\n19-26 where he will meet with officials in Egypt, Israel, the Palestinian\\nAuthority, Kuwait and Saudi Arabia.  He is expected to sign bilateral\\nScience and Technology Agreements (or annexes to existing agreements)\\nfocused on solar and renewable energy, advanced power systems, and/or\\nelectric vehicle programs with Egypt and Israel, as well as an Energy\\nCooperation Agreement with the Palestinian Authority.  He will meet the\\nleaderships of Kuwait and Saudi Arabia on international oil company\\ninvolvement in the upstream oil sector and other issues important to U.S.\\nindustry.\\n\\nBCIU invites you to join Department of Energy Assistant Secretary for\\nInternational Affairs David Goldwyn, Deputy Assistant Secretary Theresa\\nFariello, Special Assistant to Secretary Richardson for Policy Rachel King,\\nand Director for NIS, Russia and Middle East Affairs Len Coburn for an\\nindustry roundtable in preparation for this visit.  Companies are\\nencouraged to bring background material for the Secretary\\'s use during the\\ntrip to this meeting if they have not been provided to the Department of\\nEnergy previously.\\n\\nIf you have any questions regarding this program, please contact Jeffrey\\nDonald at tel. (202) 775-6074, fax: (202) 775-6025; E-MAIL j-donald@bciu.org.\\n-------------------------------------------------------------\\nIf you would like to attend, please complete the form below and respond via\\nreply e-mail OR fax your reservation to (202) 775-6025.\\n\\nName:____________________ Title:__________________________\\n\\nSocial Security Number (for clearance into\\n the Department of Energy):______________________\\n\\nCompany:__________________________________________________\\n\\nAddress:__________________________________________________\\n\\nPhone:__________________   Fax:______________________\\n\\nEmail:___________________________________\\n\\nProgram number: 3750JD\\n\\n\\n\\n\\n\\n\\n\\n', 'from': 'Mac McClelland', 'subject': 'Department of Energy Pre-departure Briefing w/ Asst. Secy.\\n Goldwyn', 'thread_id': 2103, 'timestamp': 950064900000, 'to': ['Mark Schroeder@ECT', 'Joe Hillings@ENRON', 'Steven J Kean@EES', 'Scott Reblitz', 'Lora Sullivan@ENRON', 'Chris Long@ENRON']}, {'body': 'mac-\\n\\ni have a slightly different view on your point #4.  the israelis are actually \\npushing for a palestinian water project as it will greatly strengthen the \\nisraeli position in the land settlement discussions in the peace talks.  the \\nPNA is saying that they need more land in the west bank in order to gain more \\naccess to aquifers under the land.  the isaelis want a desal project for the \\nPNA so that they can claim that the PNA has a larger water base, and thus \\ndoes not need to have more land for access to more water.  the issue is that \\nthere is not practical way in which gaza generated water can efficiently \\nreach the west bank, thus a water project in gaza should really be a moot \\npoint in this discussion, although it will not be due to the lack of \\nrationale to their discussions.\\n\\ni think that it is worth pointing out that the US consulate and embassy in \\nisrael have been helpful to us.  from the macro level, there needs to be more \\nproactive cooperation between the PNA and GOI on this project (due to the \\nlogistical and technical reasons that mac pointed out below).  furthermore, \\nit it worth noting that the PNA need to be more willing to adapt their \\nstandards to be more in line with large international transactions, as the \\nlocal process that they wish to cling to is very cumbersome, and will not \\nbenefit the PNA by attracting large scale foreign investment.\\n\\nplease let me know if you wish to discuss this further.\\n\\nandrew\\n\\n\\n   \\n\\tEnron International\\n\\t\\n\\tFrom:  Mac McClelland                           02/09/2000 10:55 AM\\n\\t\\n\\nTo: Mark Schroeder@ECT, Joe Hillings@ENRON, Steven J Kean@EES, Scott \\nReblitz/ENRON_DEVELOPMENT@ENRON_DEVELOPMENT, Lora Sullivan@ENRON, Chris \\nLong@ENRON\\ncc: Rick Bergsieker/ENRON_DEVELOPMENT@ENRON_DEVELOPMENT, Andrew \\nMakk/ENRON_DEVELOPMENT@ENRON_DEVELOPMENT, Jeffrey \\nHammad/ENRON_DEVELOPMENT@ENRON_DEVELOPMENT, Terence H \\nThorn/ENRON_DEVELOPMENT@ENRON_DEVELOPMENT, mlanoce@enron.com @ \\nENRON_DEVELOPMENT \\n\\nSubject: Re: Department of Energy Pre-departure Briefing w/ Asst. Secy. \\nGoldwyn\\n\\nThe IPP in Gaza is progressing albeit somewhat behind schedule.  This \\ncombined cycle power plant is the first infrastructure development project in \\nGaza and the first by a major Western company anywhere in \"Palestine.\"  There \\nare several issues which should be addressed and may be raised during the \\nSecretary\\'s visit.\\n\\n1.  All equipment for the plant must transit Israel.  We have been assured by \\nthe Israelis that movement of the equipment will not be impeded as long as it \\nis on the list of equipment we provide them.  That said, there are countless \\nopportunities for equipment to be delayed in Israel awaiting clearance, \\nwhether on the list or not.  First power could be delayed indefinitely if the \\nIsraelis choose to do so for political, security, or other reasons.\\n\\n2.  Fuel for the plant, once operational, will also transit Israel.  Again, \\ndisruption of the fuel supply for any length of time will in effect pull the \\nplug on power in Gaza.  Gas from Egypt has been discussed; it remains to be \\nseen if that will be a reality anytime soon.\\n\\n3.  Although not officially from the Israeli government, we have been told \\nthat as soon as the first watt of power from the plant is produced, the \\nIsraelis will turn off supply of electricity to Gaza.  The current \\nconsumption is about 110MW.  The first phase of the plant will produce 40MW.  \\nThis appears to be the beginning of a power supply arrangement whereby Israel \\nsells Gaza electricity to make up the difference.  That electricity is likely \\nto be more expensive than that which the plant will supply; Enron could well \\nend up being blamed for the higher cost.\\n\\n4.  Water is another critical issue.  The Palestinians want their own supply \\nof fresh water which must necessarily be desalinated.  Israel is currently \\nselling water to Gaza; it is not in Israel\\'s best interest to lose this \\ncustomer, therefore she may attempt to delay a desalination project.\\n\\n5.  OPIC project funding is problematical.  Since they originally invited \\nEnron to take on this project, they should necessarily also be involved.  \\nLack of OPIC support could jeopardize other project financing and drive up \\ncosts.\\n\\n6.  The Israelis must also \"approve\" the environmental impact of the plant.  \\nThe plant will meet or exceed World Bank guidelines, more so when operating \\non gas.  While not a probem at this point, the Israelis could delay \\nconstruction/operation over environmental \"concerns.\"\\n\\nAndrew is the lead developer for this project and may have other issues for \\nconsideration.  Thanks.  Mac\\n---------------------- Forwarded by Mac McClelland/ENRON_DEVELOPMENT on \\n02/09/2000 08:28 PM ---------------------------\\nTo: Mark Schroeder/LON/ECT@ECT\\ncc: Joe Hillings/Corp/Enron@ENRON, Steven J Kean/HOU/EES@EES@ECT, Mac \\nMcClelland/ENRON_DEVELOPMENT@ENRON_DEVELOPMENT@ECT, Scott \\nReblitz/ENRON_DEVELOPMENT@ENRON_DEVELOPMENT, Lora Sullivan/Corp/Enron@ENRON \\n\\nSubject: Re: Department of Energy Pre-departure Briefing w/ Asst. Secy. \\nGoldwyn  \\n\\nMark - \\n\\nGood suggestion.  I spoke to Scott Rebltiz who told me that important \\ndecisions are to made this week at OPIC concering the Gaza project.  I will \\nwork with Scott and John Hardy to make sure that our message is consistent \\nand helpful.  I will also work with Mac for a comprehensive update and \\nstrategy.\\n\\n-Chris \\n\\n\\n\\n\\n\\nMark Schroeder@ECT\\n02/09/2000 06:35 AM\\nTo: Joe Hillings/Corp/Enron@ENRON, Chris Long/Corp/Enron@ENRON\\ncc: Steven J Kean/HOU/EES@EES, Mac \\nMcClelland/ENRON_DEVELOPMENT@ENRON_DEVELOPMENT \\n\\nSubject: Department of Energy Pre-departure Briefing w/ Asst. Secy. Goldwyn\\n\\nJoe?Chris - this covers some of my new turf.  We have, I am told, a power \\nproject in Gaza that we are working on.  It is probably early days, but \\nperhpas Mac mcClelland in Dubai can shed some light on whether we would want \\nto get that project on the Secretary of Energy\\'s radar screen.   mcs \\n---------------------- Forwarded by Mark Schroeder/LON/ECT on 09/02/2000 \\n11:33 ---------------------------\\n   \\n\\tEnron Capital & Trade Resources Corp.\\n\\t\\n\\tFrom:  Scott <s-mccarthy@bciu.org>                           08/02/2000 22:00\\n\\t\\n\\nTo: mahn@usccmail.bms.com, calbee@dfintl.com, dean.allen@pareuro.com, \\nfalmeida_sikorsky@compuserve.com, emily.altman@msdw.com, \\njambler@ei.enron.com, ardilal@sji.pasanjor.com, jfarminton@west.raytheon.com, \\nrarmstro@submarinesystems.com, wmarnold@sepiv.shellus.com, \\njulius_asboth@raytheon.com, batay@ccgate.reci.com, taustell3@msn.com, \\nazevedom@winstim.com, michael_j_ball@mail.northgrum.com, \\njim.bambrick@farrell.com, hbarraza@stewart.com, marta.bascom@airtouch.com, \\nrogersbeall@compuserve.com, bill.beisswanger@ey.com, \\nGB191587@MSXSEPC.SHELL.COM, thane.benedict@chadbourne.com, eric.benn@bms.com, \\ncbennett@pfizer.com, bennett@pbworld.com, fberger@louisberger.com, \\neberk@icfkaiser.com, bethaje@texaco.com, mbey@chevron.com, \\nnbillotti@tcco.com, gbirutis@arinc.com, joe.bizzano@nrgenergy.com, \\nkblanchard@haythecurley.com, martha_blaxall@dai.com, blockri@winstim.com, \\njtbolden@cat.com, fmbonge@sepiv.shellus.com, carter.booth@chase.com, \\nkbosche@fioc.com, uwe.bott@gecapital.com, boydj@winstim.com, \\njboyd@sfdrill.com, rboyd@enron.com, bbradford@tda.gov, \\njbrand@telephonics.com, kevin_f_brennan@email.mobil.com, \\njesus_briceno@raytheon.com, conrad_brown@res.raytheon.com, \\nbrown@connellco.com, coresorces@aol.com, nburakow@icfkaiser.com, \\nreburgess@duke-energy.com, mburpoe@aol.com, harold_burson@bm.com, \\nkent_burton@ogden-energy.com, BurtonLD@bp.com, ljbuss@duke-energy.com, \\ntom.butler@chase.com, mitchell_s_butta@mail.northgrum.com, \\ncampbellj@winstim.com, margaret.h.campbell@bellatlantic.com, \\ndick.carano@fluordaniel.com, dante.caravaggio@jacobs.com, \\nnestor.carbonell@pepsico.com, charles_l_carpenter@mail.northgrum.com, \\nfernando.carrizosa@wackenhutcorp.com, solardc@bellatlantic.net, \\ncharles_caruso@merck.com, brian.casey@corporate.ge.com, \\nrcavey@americanstandard.com, chambej@md.ahp.com, chapmana@bp.com, \\ncoresorces@aol.com, rohit.chaudhry@chadbourne.com, \\narmando_chavez@agilent.com, stevechesebro@pennzoil.com, pccjr@energy-usa.com, \\nmichael_claes@bm.com, rclegg@bellhelicopter.textron.com, \\nmarvin_e_clifton@email.mobil.com, ned.cloonan@aig.com, wclossey@lga.att.com, \\ngalen.cobb@halliburton.com, mike_cochran@anadarko.com, stevec@hostpj.usa.com, \\nisabella.m.cointepas@sb.com, ecole@tamsconsultants.com, \\njean.l.cole@exxon.sprint.com, michael_coleman@parsons.com, rjcolgan@cat.com, \\nbarclay_collins@anadarko.com, stephanie.a.conaghan@chadbourne.com, \\ncconlon@tcco.com, grover@connellco.com, ted@connellco.com, \\nterry@connellco.com, jcook@saralee.com, dcooper@cromor.com, \\nsy_corenson@hp.com, robert_a_costa@res.raytheon.com, ron.t.covais@lmco.com, \\ncoxfj@texaco.com, james_s_cox@mail.northgrum.com, dcrosson@dc.edelman.com, \\nsusan_crowley@merck.com, fcummins@nacds.org, cunninghamj@epenergy.com, \\nscurley@haythecurley.com, darbym@ms.com, ian_davis@oxy.com, \\nnadavis@mail.hac.com, juan.deleon@jacobs.com, don.deline@halliburton.com, \\ndiane_demers@dai.com, henry_somerville@fwc.com, o-dogruer@bciu.org, \\nadolcimascolo@tamsconsultants.com, chuck.dominy@halliburton.com, \\nj-donald@bciu.org, cduffy@mailer.kmec.com, eduffy@skadden.com, \\nloretta.dunn@hughes.com, steve.dutton@comsat.com, catherine_dwyer@nyl.com, \\ndavid.j.earnshaw@sb.com, dedelman@edelman.com, redelman@edelman.com, \\nsaelbert@amoco.com, ellswp@pfizer.com, dewaem@pfizer.com, \\neverett_sally@bah.com, ralph_fairbanks@kmrpower.com, robert.fallon@chase.com, \\nlarryfarmer@halliburton.com, mfarrar@mail.arco.com, \\nsteve_farrar@guardian.com, afasciano@lucent.com, andrew.fawthrop@unocal.com, \\npaul_feldman@anadarko.com, mpfernandez-baca@duke-energy.com, \\ndfine@corp.sbc.com, louise.finnerty@pepsi.com, peter_finnerty@csx.com, \\npeter.fitzgerald@chadbourne.com, c_tanai_fleenor@parsons.com, \\nstephen.flett@aexp.com, George_A_Folsom@email.msn.com, fonseyp@texaco.com, \\nmartyforte@mindspring.com, jefox@mintz.com, bfree@chubb.com, \\norit.frenkel@corporate.ge.com, Howard.Frey@aig.com, \\ndouglas.m.fried@chadbourne.com, cfrost@forbes.com, ken_frydman@edelman.com, \\nsfuller@chubb.com, michael.gadbaw@corporate.ge.com, lsgaibor@compuserve.com, \\nmgale@warnaco.com, marykelley.k.gannon@bellatlantic.com, sgarber@sfdrill.com, \\ngard6942@mlb.com, robert_gardner@email.mobil.com, wgardner@chubb.com, \\ngaribaldic@sji.pasanjor.com, ken_gaulden@sealand.com, nomad68@earthlink.net, \\neugene.gay@cpmx.saic.com, dgeanacopolous@akingump.com, \\nlynn.gedanken@chadbourne.com, georgen@epenergy.com, \\nralph_gerson@guardian.com, peter.getsinger@db.com, sghilaga@nacds.org, \\nsghilaga@ultracom.net, gillespie@scowcroft.com, gillickj@winstim.com, \\njon_d_glassman@mail.northgrum.com, kgoddard@pw-inc.com, \\narlene_delapaz@md.northgrum.com, neil.golden@chadbourne.com, larry@pira.com, \\nenrique.l.gomez@lmco.com, randy.goode@sippican.com, \\nwilliam.greason@chadbourne.com, green_candy_a@cat.com, \\njames_e_green@email.mobil.com, sgreen@unocal.com, \\ndave.gribbin@halliburton.com, griffm@winstim.com, jgroberg@volt.com, \\ngrosswo@mail.northgrum.com, richard.guay@jacobs.com, k-gut@bciu.org, \\ndean.l.guttormson@exxon.sprint.com, robert_w_haines@email.mobil.com, \\njwhakkinen@marathonoil.com, bill.hale@exxon.com, hall2r@kochind.com, \\nwilliam_e_hall@parsons.com, kenneth.hansen@chadbourne.com, \\nkharbert@mailer.kmec.com, jhardy@ei.enron.com, harkinr@corpdc.utc.com, \\nbillritten@aol.com, scott.a.harris@lmco.com, hastied9@compuserve.com, \\nlhay@chevron.com, brian_healy@merck.com, hedgep@pfizer.com, \\nfernando.hegel@wackenhutcorp.com, neville_henry@anadarko.com, \\nlynn_azar@anadarko.com, mherber@mail.arco.com, heroldra@bp.com, \\nharry.hicks@ey.com, hillj2@bp.com, thill@dfintl.com, jhillin@enron.com, \\nlsulliv@enron.com, james_hilton@parsons.com, santiago_hinojosa@bm.com, \\nhirshr@israelemb.org, hitchcock@pbworld.com, \\nthomas.hohenthaner@chadbourne.com, Irene-hollerback@ogden-energy.com, \\nrichard_hook@anadarko.com, horn6945@mlb.com, shorsley@ti.com, \\nshorton@pbwt.com, jahoward@bechtel.com, peter.howell@citicorp.com, \\nhenry.hsiang@aig.com, lhudson@unocal.com, huntington_erin_b@lilly.com, \\nbichord@unocal.com, j_anthony_imler@merck.com, wmir@chevron.com, \\nashfaq@usa-intl.com, contact@usa-intl.com, ernest_r_jackson@raytheon.com, \\njago@oldworldind.com, james.l.jamerson@lmco.com, jamesch1@mail.northgrum.com, \\njarvisa@md.ahp.com, jjeffrey@dttus.com, mjichlin@louisberger.com, \\noakley.johnson@aig.com, lionel.johnson@citicorp.com, \\nkevin.b.jordan@chadbourne.com, paul.kaiser@nrgenergy.com, \\ngeorge_kappaz@kmrpower.com, rfolensbee@mailer.kmec.com, \\nal.kappelmann@libertymutual.com, rkarlgaard@forbes.com, \\ndickey_kathryn_m@lilly.com, patricia-katayama@dc.edelman.com, \\ndiana.keegan@aig.com, kelleyb@epenergy.com, john.r.kelly@exxon.sprint.com, \\nkathleenkell@earthlink.com, donald_s_kendall@res.raytheon.com, \\ntim.kernan@fluordaniel.com, Joyce.Choate@FLUORCORP.com, skerr@mail.arco.com, \\njkessler@porterwright.com, lk@lovainc.com, lovak@prodigy.net, \\nfking@bellhelicopter.textron.com, richard.g.kirkland@lmco.com, \\nhelena.klumpp@chadbourne.com, jknight@fioc.com, \\njoy_l_koch@mail.northgrum.com, rkochman@volt.com, mkoprulu@mfi-ny.com, \\npkorff@skadden.com, kostimv@texaco.com, ans.kristbergs@farrell-lines.com, \\nsandra_j_kristoff@newyorklife.com, Alex_Kulpecz@AZURIX.enron.com, \\nedward.kuncar@wackenhutcorp.com, jkuspa@mailer.kmec.com, \\nchristoph.ladanyi@gs.com, glandegger@pw-inc.com, rlarios@corp.sbc.com, \\nlaudienl@epenergy.com, lawrenjd@ix.netcom.com, \\ndavid_ledesma@AZURIX.enron.com, ed.lee@aig.com, leet@winstim.com, \\ndenyse.lefever@lmco.com, richard_lehfeldt@missionenergy.com, \\nllenfest@oracle.com, cel@energy-usa.com, john.libonati@owenscorning.com, \\njeff.lifur@chadbourne.com, duke.ligon@dvn.com, lynn_alleva@dai.com, \\njerry.d.lindstrom@lmco.com, juan_llovet@parsons.com, \\nadriana.i.griffith@parsons.com, loderw@winstim.com, wlor@chevron.com, \\nlosi@pbworld.com, andrew.loughlin@libertymutual.com, phil_luks@kmrpower.com, \\nrodney.j.macalister@usa.conoco.com, stuart.macdonald@chase.com, \\nmadden@farrell-lines.com, wmaddox@bellhelicopter.textron.com, \\nmariella.mahan@enron.com, michael.d.maher@exxon.com, paul.mandry@avon.com, \\nmarani@israelemb.org, cmarcenaro@louisberger.com, amarchetti@hess.com, \\ngary.c.marfin@usa.conoco.com, mmarino@tamsconsultants.com, \\ntrudy.marshall@nrgenergy.com, craig.martin@jacobs.com, \\njoseph.martin@chase.com, keith.martin@chadbourne.com, momartin@estee.com, \\npedro_martinez@raytheon.com, richard.mathews@avon.com, \\nbmay@bellhelicopter.textron.com, norman_c_mazurek@res.raytheon.com, \\nchemarie@monmouth.com, s-mccarthy@bciu.org, \\njim.mccarty@libertyinternational.com, jmcfarla@us.oracle.com, \\nBruce_C._McKay@CORP.CNG.COM, McLaughlin@pbworld.com, rmcphail@dttus.com, \\njames.g.melonas@bellatlantic.com, dgmengebier@cmsenergy.com, \\nsandy.merber@corporate.ge.com, michel@pbworld.com, don_mickelwait@dai.com, \\nmilburi@mail.northgrum.com, jrmiller2@west.raytheon.com, \\njohn_minihane@fwc.com, simeon_l_moats@email.mobil.com, \\nboyd.montgomery@unocal.com, cmoomjian@sfdrill.com, mmoore@acec.org, \\nmmorley@edelman.com, elambert.com@mindspring.com, stewart@stewart.com, \\nisabel_moya@dai.com, jmoyer@warnaco.com, rmulligan@chubb.com, \\nkevin.mulvey@aig.com, deborah.e.myers@sb.com, ken_nadolny@anadarko.com, \\njoyce_griffin@anadarko.com, tnanney@corp.sbc.com, naraf@winstim.com, \\nhernan.narea@chase.com, nathanh@winstim.com, r_d_nelson@email.mobil.com, \\njames.nelson@lmco.com, ted.nevins@aig.com, twnichol@oracle.com, \\nmichael_nocera@newyorklife.com, Rmnorthrup@cat.com, nosseira@ms.com, \\ndon_o\\'hare@sealand.com, olougga@mail.northgrum.com, brian.oneill@chase.com, \\noneillm@labs.wyeth.com, oneill@pbworld.com, john.b.o\\'sullivan@chadbourne.com, \\ntolic@icnpharm.com, charlie.oliver@fluordaniel.com, josborne@stewart.com, \\njeffrey_osborne@parsons.com, wayne.osterman@libertymutual.com, \\npaul.ostling@ey.com, bob.oswald@aexp.com, fpandith@mintz.com, \\nmpanic@icnpharm.com, robert.papas@corporate.ge.com, Nancy.Patton@parsons.com, \\nc-chris.pavlides@usa.conoco.com, jon.d.pender@sb.com, \\ngreg_pensabene@anadarko.com, rperez_sikorsky@compuserve.com, \\ncperry@fcacorp.com, speske@aol.com, phillip.peters@ey.com, BPeters@volt.com, \\nkaren.peterson@bms.com, daniel.c.petri@bellatlantic.com, fphelps@unocal.com, \\nbarbara.phillips@airtouch.com, ann_pickard@email.mobil.com, \\ngapickart@cmsenergy.com, pierrelouisl@winstim.com, bud.piland@mcdermott.com, \\nbmay@bellhelicopter.textron.com, joe_pinto@hp.com, jeanne_hoerter@merck.com, \\npollarb@corpdc.utc.com, dpolo@icfkaiser.com, fjp@symbolic.com, \\njody.powers@halliburton.com, george_p_pradas@email.mobil.com, \\npreissj@corpdc.utc.com, prieto@pbworld.com, lprosser@dttus.com, \\nkpuvak@acec.org, jrafuse@unocal.com, rragan@bechtel.com, \\nrod_j_ragan@parsons.com, draymond@acec.org, eregan@tamsconsultants.com, \\nReicheEA@bp.com, walt_reichert@hp.com, charles_o_richards@amoco.com, \\ntim.richards@corporate.ge.com, al_richey@anadarko.com, riverpw@texaco.com, \\njack_roadhouse@parsons.com, joseph.robertson@wackenhutcorp.com, \\nirobins@volt.com, damian.robinson@aexp.com, vrocca@louisberger.com, \\nlberger@louisberger.com, eric.rohtla@aig.com, mrollin@mail.arco.com, \\ndiana.roner@wackenhutcorp.com, rosaj@epenergy.com, kfrose@sepiv.shellus.com, \\nsteven.rosenberg@hbo.com, larry_rosenblatt@email.mobil.com, \\ngaryross@pira.com, Maria.Ruess@comsat.com, peter.ew.russell@chase.com, \\nsteve_rutkowski@anadarko.com, bill.ryzinski@nrgenergy.com, \\narthur.sackler@twi.com, esamara@worldspace.com, nsamara@worldspace.com, \\nantranig.sarkissian@citicorp.com, luis.sastre@lmco.com, \\njsatterwhite@sikorsky.com, nancysauer@pennzoil.com, rsaul@phrma.org, \\nrscharar@fcacorp.com, jeschmeltzer@pbwt.com, william.schmidt@chadbourne.com, \\npschnell@skadden.com, thomas.d.schoegler@lmco.com, rschofield@hess.com, \\nmarilyn.schorin@intl.pepsi.com, mschroeder@enron.com, \\npschuchter@mailer.kmec.com, aschwartz@pw-inc.com, bschweigel@oldworldind.com, \\nrobert.shapiro@chadbourne.com, alan.j.shepherd@mw.com, \\nmollie.shields@bms.com, larry_g_shockley@parsons.com, sbsi@chevron.com, \\nwilliam.h.siefken@lmco.com, kruskaia.sierra-escalante@chadbourne.com, \\nsilkenatj@winstim.com, ronald.singer@ae.ge.com, elliott.slade@db.com, \\ndenis_slavich@kmrpower.com, midges@ms.com, steve.smith@gecapital.com, \\nsandy.o\\'meara@gecapital.com, jack.w.snyder@lmco.com, solbera@texaco.com, \\nsolliea@texaco.com, francis.stankard@aexp.com, rystebbin@aol.com, \\nmstewart@dc.textron.com, pstirlin@us.oracle.com, dcarlson@mailer.kmec.com, \\nastraus@skadden.com, eugene.r.sullivan@chadbourne.com, \\nbill_sullivan@anadarko.com, mark.f.supko@lmco.com, sally.susman@aexp.com, \\ndavid.syphard@crssc.com, president@artleygroup.com, VTarallo@aol.com, \\ntarbels@pweh.com, stephen_s_teel@res.raytheon.com, arthur.thomas@ey.com, \\nc_nigel_thompson@merck.com, dick.thompson@bms.com, thorn@ei.enron.com, \\nbthornton@fwtxusa.org, james_e_thrash@parsons.com, p-tichansky@bciu.org, \\njim.e.tobin@aexp.com, john.tognino@nasdaq.com, luis.torres@chadbourne.com, \\nTownshME@bp.com, strendic@us.oracle.com, trevijm@texaco.com, \\njacktymann@aol.com, jtymann@worldspace.com, elizabeth.a.tyson@sb.com, \\nulrich@pbworld.com, urbans@eu1.bp.com, munnj1@bp.com, \\ngvandyke@vancoenergy.com, philip.vaughn@fluordaniel.com, \\nandy_veje@parsons.com, frank.verrastro@dvn.com, aracelia.vila@spcorp.com, \\njudith.a.vincent@usa.conoco.com, evis65677@aol.com, \\nvlachpa@mail.northgrum.com, chaim.wachsberger@chadbourne.com, \\njwalden@vancoenergy.com, peter_walters@guardian.com, \\naverhulst@worldnet.att.net, eward@skadden.com, \\nkenneth.j.warnock@bellatlantic.com, c-watson@bciu.org, \\nmweaver@fortworthchamber.com, paul.weber@chadbourne.com, \\nthomas_h_weese@ccgate.ueci.com, jwei@haythecurley.com, v-weil@bciu.org, \\njoel.a.weiss@lmco.com, dwestfa@enron.com, john_m_white@eo.raytheon.com, \\njwhitman@nacds.org, scott_whitney@ogden-energy.com, jim_whittaker@hp.com, \\nguenther.o.wilhelm@exxon.com, t-wilkes@bciu.org, cwilkison@worldspace.com, \\nron.will@nrgenergy.com, elizabeth.f.williamson@usa.conoco.com, \\ndwillkens@dfintl.com, scarbroughs_plum@usa.net, \\nDebra_Winchester@res.raytheon.com, cwindels@pfizer.com, frank.wisner@aig.com, \\nwisnoskik@epenergy.com, dwolff@louisberger.com, ctompkins@louisberger.com, \\nkwoodcock@aesc.com, sross@aesc.com, WoodsHR@bp.com, \\newright@west.raytheon.com, wrightp12@bp.com, fouquepa@bp.com, \\noyandle@itsa.org, yannif@labs.wyeth.com, cordelia_m._yoon@newyorklife.com, \\nlzak@mintz.com, ezsol@aol.com, lawrence.ziman@chadbourne.com, \\nczimmerman@dfintl.com, dzsebik_sikorsky@compuserve.com\\ncc:  \\n\\nSubject: Department of Energy Pre-departure Briefing w/ Asst. Secy. Goldwyn\\n\\n\\nTO:  BCIU Members\\nFROM: Scott McCarthy\\n  Director of Programs\\n  Ph: 212-490-0460, ext. 224\\n  Fx: 212-697-8526\\n\\nPRE-DEPARTURE BRIEFING\\n\\nBCIU and the U.S. Department of Energy are pleased to announce an industry\\nbriefing with:\\n\\nASSISTANT SECRETARY OF ENERGY DAVID GOLDWYN\\nIN PREPARATION FOR ENERGY SECRETARY BILL RICHARDSON\\'S\\nMIDDLE EAST TRIP\\n(EGYPT, ISRAEL, PALESTINIAN AUTHORITY,\\n KUWAIT, AND SAUDI ARABIA)\\n\\n\\nDATE: Thursday, February 17, 2000\\nTIME: 10:30 a.m. - 11:30 a.m.\\nPLACE: Department of Energy\\n  Room 7C016\\n  1000 Independence Avenue, S.W.\\n  Washington, DC 20036\\n\\n\\nSecretary of Energy Bill Richardson is visiting the Middle East February\\n19-26 where he will meet with officials in Egypt, Israel, the Palestinian\\nAuthority, Kuwait and Saudi Arabia.  He is expected to sign bilateral\\nScience and Technology Agreements (or annexes to existing agreements)\\nfocused on solar and renewable energy, advanced power systems, and/or\\nelectric vehicle programs with Egypt and Israel, as well as an Energy\\nCooperation Agreement with the Palestinian Authority.  He will meet the\\nleaderships of Kuwait and Saudi Arabia on international oil company\\ninvolvement in the upstream oil sector and other issues important to U.S.\\nindustry.\\n\\nBCIU invites you to join Department of Energy Assistant Secretary for\\nInternational Affairs David Goldwyn, Deputy Assistant Secretary Theresa\\nFariello, Special Assistant to Secretary Richardson for Policy Rachel King,\\nand Director for NIS, Russia and Middle East Affairs Len Coburn for an\\nindustry roundtable in preparation for this visit.  Companies are\\nencouraged to bring background material for the Secretary\\'s use during the\\ntrip to this meeting if they have not been provided to the Department of\\nEnergy previously.\\n\\nIf you have any questions regarding this program, please contact Jeffrey\\nDonald at tel. (202) 775-6074, fax: (202) 775-6025; E-MAIL j-donald@bciu.org.\\n-------------------------------------------------------------\\nIf you would like to attend, please complete the form below and respond via\\nreply e-mail OR fax your reservation to (202) 775-6025.\\n\\nName:____________________ Title:__________________________\\n\\nSocial Security Number (for clearance into\\n the Department of Energy):______________________\\n\\nCompany:__________________________________________________\\n\\nAddress:__________________________________________________\\n\\nPhone:__________________   Fax:______________________\\n\\nEmail:___________________________________\\n\\nProgram number: 3750JD\\n\\n\\n\\n\\n\\n\\n\\n\\n\\n\\n', 'from': 'Andrew Makk', 'subject': 'Department of Energy Pre-departure Briefing w/ Asst. Secy.\\n Goldwyn', 'thread_id': 2103, 'timestamp': 950065380000, 'to': ['Mac McClelland']}, {'body': 'Gentlemen:  as you may have heard, I am assuming responsibility for heading \\nup the government/regulatory affairs efforts beyond my current turf of Europe \\nto include Africa, Asia, Australia.  This is why I generated an early e-mail \\non the Gaza project.  I am now trying to meet with my new team members, and \\nclients/customers in the organisation.  I am headed to Houston on Sunday, for \\n3 days of meetings, and first week of March begin a journey that will take me \\nto most parts of East Asia/Australia.  Any suggestions on how (where) we get \\ntogether, and do you think it is a high priority, or not urgent.  It is not \\nthat I am looking to avoid a trip, but e-mails like those below suggest that \\nI can be kept well-informed without flying somewhere just to say \"hello\".  I \\nknow Mac is in Dubai.  I can fly there, or you can come to London (or are \\nthere others I should also meet in Dubai?).  Andrew - where are you based?  \\nIf in Dubai, then does it make sense for me to come to you?  Sooner rather \\nthan later, or no urgency?  If in Houston, should we try to meet next week?  \\nOr are you in still some other location?  Your thoughts/views are \\nappreciated.  thanks  mcs\\n\\n\\n\\nAndrew Makk@ENRON_DEVELOPMENT\\n\\n09/02/2000 17:03\\n\\nTo: Mac McClelland/ENRON_DEVELOPMENT@ENRON_DEVELOPMENT\\ncc: Mark Schroeder@ECT, Joe Hillings@ENRON, Steven J Kean@EES, Scott \\nReblitz/ENRON_DEVELOPMENT@ENRON_DEVELOPMENT, Lora Sullivan@ENRON, Chris \\nLong@ENRON, Rick Bergsieker/ENRON_DEVELOPMENT@ENRON_DEVELOPMENT, Jeffrey \\nHammad/ENRON_DEVELOPMENT@ENRON_DEVELOPMENT, Terence H \\nThorn/ENRON_DEVELOPMENT@ENRON_DEVELOPMENT, mlanoce@enron.com @ \\nENRON_DEVELOPMENT \\n\\nSubject: Re: Department of Energy Pre-departure Briefing w/ Asst. Secy. \\nGoldwyn  \\n\\nmac-\\n\\ni have a slightly different view on your point #4.  the israelis are actually \\npushing for a palestinian water project as it will greatly strengthen the \\nisraeli position in the land settlement discussions in the peace talks.  the \\nPNA is saying that they need more land in the west bank in order to gain more \\naccess to aquifers under the land.  the isaelis want a desal project for the \\nPNA so that they can claim that the PNA has a larger water base, and thus \\ndoes not need to have more land for access to more water.  the issue is that \\nthere is not practical way in which gaza generated water can efficiently \\nreach the west bank, thus a water project in gaza should really be a moot \\npoint in this discussion, although it will not be due to the lack of \\nrationale to their discussions.\\n\\ni think that it is worth pointing out that the US consulate and embassy in \\nisrael have been helpful to us.  from the macro level, there needs to be more \\nproactive cooperation between the PNA and GOI on this project (due to the \\nlogistical and technical reasons that mac pointed out below).  furthermore, \\nit it worth noting that the PNA need to be more willing to adapt their \\nstandards to be more in line with large international transactions, as the \\nlocal process that they wish to cling to is very cumbersome, and will not \\nbenefit the PNA by attracting large scale foreign investment.\\n\\nplease let me know if you wish to discuss this further.\\n\\nandrew\\n\\n\\n   \\n\\tEnron International\\n\\t\\n\\tFrom:  Mac McClelland                           02/09/2000 10:55 AM\\n\\t\\n\\nTo: Mark Schroeder@ECT, Joe Hillings@ENRON, Steven J Kean@EES, Scott \\nReblitz/ENRON_DEVELOPMENT@ENRON_DEVELOPMENT, Lora Sullivan@ENRON, Chris \\nLong@ENRON\\ncc: Rick Bergsieker/ENRON_DEVELOPMENT@ENRON_DEVELOPMENT, Andrew \\nMakk/ENRON_DEVELOPMENT@ENRON_DEVELOPMENT, Jeffrey \\nHammad/ENRON_DEVELOPMENT@ENRON_DEVELOPMENT, Terence H \\nThorn/ENRON_DEVELOPMENT@ENRON_DEVELOPMENT, mlanoce@enron.com @ \\nENRON_DEVELOPMENT \\n\\nSubject: Re: Department of Energy Pre-departure Briefing w/ Asst. Secy. \\nGoldwyn\\n\\nThe IPP in Gaza is progressing albeit somewhat behind schedule.  This \\ncombined cycle power plant is the first infrastructure development project in \\nGaza and the first by a major Western company anywhere in \"Palestine.\"  There \\nare several issues which should be addressed and may be raised during the \\nSecretary\\'s visit.\\n\\n1.  All equipment for the plant must transit Israel.  We have been assured by \\nthe Israelis that movement of the equipment will not be impeded as long as it \\nis on the list of equipment we provide them.  That said, there are countless \\nopportunities for equipment to be delayed in Israel awaiting clearance, \\nwhether on the list or not.  First power could be delayed indefinitely if the \\nIsraelis choose to do so for political, security, or other reasons.\\n\\n2.  Fuel for the plant, once operational, will also transit Israel.  Again, \\ndisruption of the fuel supply for any length of time will in effect pull the \\nplug on power in Gaza.  Gas from Egypt has been discussed; it remains to be \\nseen if that will be a reality anytime soon.\\n\\n3.  Although not officially from the Israeli government, we have been told \\nthat as soon as the first watt of power from the plant is produced, the \\nIsraelis will turn off supply of electricity to Gaza.  The current \\nconsumption is about 110MW.  The first phase of the plant will produce 40MW.  \\nThis appears to be the beginning of a power supply arrangement whereby Israel \\nsells Gaza electricity to make up the difference.  That electricity is likely \\nto be more expensive than that which the plant will supply; Enron could well \\nend up being blamed for the higher cost.\\n\\n4.  Water is another critical issue.  The Palestinians want their own supply \\nof fresh water which must necessarily be desalinated.  Israel is currently \\nselling water to Gaza; it is not in Israel\\'s best interest to lose this \\ncustomer, therefore she may attempt to delay a desalination project.\\n\\n5.  OPIC project funding is problematical.  Since they originally invited \\nEnron to take on this project, they should necessarily also be involved.  \\nLack of OPIC support could jeopardize other project financing and drive up \\ncosts.\\n\\n6.  The Israelis must also \"approve\" the environmental impact of the plant.  \\nThe plant will meet or exceed World Bank guidelines, more so when operating \\non gas.  While not a probem at this point, the Israelis could delay \\nconstruction/operation over environmental \"concerns.\"\\n\\nAndrew is the lead developer for this project and may have other issues for \\nconsideration.  Thanks.  Mac\\n---------------------- Forwarded by Mac McClelland/ENRON_DEVELOPMENT on \\n02/09/2000 08:28 PM ---------------------------\\nTo: Mark Schroeder/LON/ECT@ECT\\ncc: Joe Hillings/Corp/Enron@ENRON, Steven J Kean/HOU/EES@EES@ECT, Mac \\nMcClelland/ENRON_DEVELOPMENT@ENRON_DEVELOPMENT@ECT, Scott \\nReblitz/ENRON_DEVELOPMENT@ENRON_DEVELOPMENT, Lora Sullivan/Corp/Enron@ENRON \\n\\nSubject: Re: Department of Energy Pre-departure Briefing w/ Asst. Secy. \\nGoldwyn  \\n\\nMark - \\n\\nGood suggestion.  I spoke to Scott Rebltiz who told me that important \\ndecisions are to made this week at OPIC concering the Gaza project.  I will \\nwork with Scott and John Hardy to make sure that our message is consistent \\nand helpful.  I will also work with Mac for a comprehensive update and \\nstrategy.\\n\\n-Chris \\n\\n\\n\\n\\n\\nMark Schroeder@ECT\\n02/09/2000 06:35 AM\\nTo: Joe Hillings/Corp/Enron@ENRON, Chris Long/Corp/Enron@ENRON\\ncc: Steven J Kean/HOU/EES@EES, Mac \\nMcClelland/ENRON_DEVELOPMENT@ENRON_DEVELOPMENT \\n\\nSubject: Department of Energy Pre-departure Briefing w/ Asst. Secy. Goldwyn\\n\\nJoe?Chris - this covers some of my new turf.  We have, I am told, a power \\nproject in Gaza that we are working on.  It is probably early days, but \\nperhpas Mac mcClelland in Dubai can shed some light on whether we would want \\nto get that project on the Secretary of Energy\\'s radar screen.   mcs \\n---------------------- Forwarded by Mark Schroeder/LON/ECT on 09/02/2000 \\n11:33 ---------------------------\\n   \\n\\tEnron Capital & Trade Resources Corp.\\n\\t\\n\\tFrom:  Scott <s-mccarthy@bciu.org>                           08/02/2000 22:00\\n\\t\\n\\nTo: mahn@usccmail.bms.com, calbee@dfintl.com, dean.allen@pareuro.com, \\nfalmeida_sikorsky@compuserve.com, emily.altman@msdw.com, \\njambler@ei.enron.com, ardilal@sji.pasanjor.com, jfarminton@west.raytheon.com, \\nrarmstro@submarinesystems.com, wmarnold@sepiv.shellus.com, \\njulius_asboth@raytheon.com, batay@ccgate.reci.com, taustell3@msn.com, \\nazevedom@winstim.com, michael_j_ball@mail.northgrum.com, \\njim.bambrick@farrell.com, hbarraza@stewart.com, marta.bascom@airtouch.com, \\nrogersbeall@compuserve.com, bill.beisswanger@ey.com, \\nGB191587@MSXSEPC.SHELL.COM, thane.benedict@chadbourne.com, eric.benn@bms.com, \\ncbennett@pfizer.com, bennett@pbworld.com, fberger@louisberger.com, \\neberk@icfkaiser.com, bethaje@texaco.com, mbey@chevron.com, \\nnbillotti@tcco.com, gbirutis@arinc.com, joe.bizzano@nrgenergy.com, \\nkblanchard@haythecurley.com, martha_blaxall@dai.com, blockri@winstim.com, \\njtbolden@cat.com, fmbonge@sepiv.shellus.com, carter.booth@chase.com, \\nkbosche@fioc.com, uwe.bott@gecapital.com, boydj@winstim.com, \\njboyd@sfdrill.com, rboyd@enron.com, bbradford@tda.gov, \\njbrand@telephonics.com, kevin_f_brennan@email.mobil.com, \\njesus_briceno@raytheon.com, conrad_brown@res.raytheon.com, \\nbrown@connellco.com, coresorces@aol.com, nburakow@icfkaiser.com, \\nreburgess@duke-energy.com, mburpoe@aol.com, harold_burson@bm.com, \\nkent_burton@ogden-energy.com, BurtonLD@bp.com, ljbuss@duke-energy.com, \\ntom.butler@chase.com, mitchell_s_butta@mail.northgrum.com, \\ncampbellj@winstim.com, margaret.h.campbell@bellatlantic.com, \\ndick.carano@fluordaniel.com, dante.caravaggio@jacobs.com, \\nnestor.carbonell@pepsico.com, charles_l_carpenter@mail.northgrum.com, \\nfernando.carrizosa@wackenhutcorp.com, solardc@bellatlantic.net, \\ncharles_caruso@merck.com, brian.casey@corporate.ge.com, \\nrcavey@americanstandard.com, chambej@md.ahp.com, chapmana@bp.com, \\ncoresorces@aol.com, rohit.chaudhry@chadbourne.com, \\narmando_chavez@agilent.com, stevechesebro@pennzoil.com, pccjr@energy-usa.com, \\nmichael_claes@bm.com, rclegg@bellhelicopter.textron.com, \\nmarvin_e_clifton@email.mobil.com, ned.cloonan@aig.com, wclossey@lga.att.com, \\ngalen.cobb@halliburton.com, mike_cochran@anadarko.com, stevec@hostpj.usa.com, \\nisabella.m.cointepas@sb.com, ecole@tamsconsultants.com, \\njean.l.cole@exxon.sprint.com, michael_coleman@parsons.com, rjcolgan@cat.com, \\nbarclay_collins@anadarko.com, stephanie.a.conaghan@chadbourne.com, \\ncconlon@tcco.com, grover@connellco.com, ted@connellco.com, \\nterry@connellco.com, jcook@saralee.com, dcooper@cromor.com, \\nsy_corenson@hp.com, robert_a_costa@res.raytheon.com, ron.t.covais@lmco.com, \\ncoxfj@texaco.com, james_s_cox@mail.northgrum.com, dcrosson@dc.edelman.com, \\nsusan_crowley@merck.com, fcummins@nacds.org, cunninghamj@epenergy.com, \\nscurley@haythecurley.com, darbym@ms.com, ian_davis@oxy.com, \\nnadavis@mail.hac.com, juan.deleon@jacobs.com, don.deline@halliburton.com, \\ndiane_demers@dai.com, henry_somerville@fwc.com, o-dogruer@bciu.org, \\nadolcimascolo@tamsconsultants.com, chuck.dominy@halliburton.com, \\nj-donald@bciu.org, cduffy@mailer.kmec.com, eduffy@skadden.com, \\nloretta.dunn@hughes.com, steve.dutton@comsat.com, catherine_dwyer@nyl.com, \\ndavid.j.earnshaw@sb.com, dedelman@edelman.com, redelman@edelman.com, \\nsaelbert@amoco.com, ellswp@pfizer.com, dewaem@pfizer.com, \\neverett_sally@bah.com, ralph_fairbanks@kmrpower.com, robert.fallon@chase.com, \\nlarryfarmer@halliburton.com, mfarrar@mail.arco.com, \\nsteve_farrar@guardian.com, afasciano@lucent.com, andrew.fawthrop@unocal.com, \\npaul_feldman@anadarko.com, mpfernandez-baca@duke-energy.com, \\ndfine@corp.sbc.com, louise.finnerty@pepsi.com, peter_finnerty@csx.com, \\npeter.fitzgerald@chadbourne.com, c_tanai_fleenor@parsons.com, \\nstephen.flett@aexp.com, George_A_Folsom@email.msn.com, fonseyp@texaco.com, \\nmartyforte@mindspring.com, jefox@mintz.com, bfree@chubb.com, \\norit.frenkel@corporate.ge.com, Howard.Frey@aig.com, \\ndouglas.m.fried@chadbourne.com, cfrost@forbes.com, ken_frydman@edelman.com, \\nsfuller@chubb.com, michael.gadbaw@corporate.ge.com, lsgaibor@compuserve.com, \\nmgale@warnaco.com, marykelley.k.gannon@bellatlantic.com, sgarber@sfdrill.com, \\ngard6942@mlb.com, robert_gardner@email.mobil.com, wgardner@chubb.com, \\ngaribaldic@sji.pasanjor.com, ken_gaulden@sealand.com, nomad68@earthlink.net, \\neugene.gay@cpmx.saic.com, dgeanacopolous@akingump.com, \\nlynn.gedanken@chadbourne.com, georgen@epenergy.com, \\nralph_gerson@guardian.com, peter.getsinger@db.com, sghilaga@nacds.org, \\nsghilaga@ultracom.net, gillespie@scowcroft.com, gillickj@winstim.com, \\njon_d_glassman@mail.northgrum.com, kgoddard@pw-inc.com, \\narlene_delapaz@md.northgrum.com, neil.golden@chadbourne.com, larry@pira.com, \\nenrique.l.gomez@lmco.com, randy.goode@sippican.com, \\nwilliam.greason@chadbourne.com, green_candy_a@cat.com, \\njames_e_green@email.mobil.com, sgreen@unocal.com, \\ndave.gribbin@halliburton.com, griffm@winstim.com, jgroberg@volt.com, \\ngrosswo@mail.northgrum.com, richard.guay@jacobs.com, k-gut@bciu.org, \\ndean.l.guttormson@exxon.sprint.com, robert_w_haines@email.mobil.com, \\njwhakkinen@marathonoil.com, bill.hale@exxon.com, hall2r@kochind.com, \\nwilliam_e_hall@parsons.com, kenneth.hansen@chadbourne.com, \\nkharbert@mailer.kmec.com, jhardy@ei.enron.com, harkinr@corpdc.utc.com, \\nbillritten@aol.com, scott.a.harris@lmco.com, hastied9@compuserve.com, \\nlhay@chevron.com, brian_healy@merck.com, hedgep@pfizer.com, \\nfernando.hegel@wackenhutcorp.com, neville_henry@anadarko.com, \\nlynn_azar@anadarko.com, mherber@mail.arco.com, heroldra@bp.com, \\nharry.hicks@ey.com, hillj2@bp.com, thill@dfintl.com, jhillin@enron.com, \\nlsulliv@enron.com, james_hilton@parsons.com, santiago_hinojosa@bm.com, \\nhirshr@israelemb.org, hitchcock@pbworld.com, \\nthomas.hohenthaner@chadbourne.com, Irene-hollerback@ogden-energy.com, \\nrichard_hook@anadarko.com, horn6945@mlb.com, shorsley@ti.com, \\nshorton@pbwt.com, jahoward@bechtel.com, peter.howell@citicorp.com, \\nhenry.hsiang@aig.com, lhudson@unocal.com, huntington_erin_b@lilly.com, \\nbichord@unocal.com, j_anthony_imler@merck.com, wmir@chevron.com, \\nashfaq@usa-intl.com, contact@usa-intl.com, ernest_r_jackson@raytheon.com, \\njago@oldworldind.com, james.l.jamerson@lmco.com, jamesch1@mail.northgrum.com, \\njarvisa@md.ahp.com, jjeffrey@dttus.com, mjichlin@louisberger.com, \\noakley.johnson@aig.com, lionel.johnson@citicorp.com, \\nkevin.b.jordan@chadbourne.com, paul.kaiser@nrgenergy.com, \\ngeorge_kappaz@kmrpower.com, rfolensbee@mailer.kmec.com, \\nal.kappelmann@libertymutual.com, rkarlgaard@forbes.com, \\ndickey_kathryn_m@lilly.com, patricia-katayama@dc.edelman.com, \\ndiana.keegan@aig.com, kelleyb@epenergy.com, john.r.kelly@exxon.sprint.com, \\nkathleenkell@earthlink.com, donald_s_kendall@res.raytheon.com, \\ntim.kernan@fluordaniel.com, Joyce.Choate@FLUORCORP.com, skerr@mail.arco.com, \\njkessler@porterwright.com, lk@lovainc.com, lovak@prodigy.net, \\nfking@bellhelicopter.textron.com, richard.g.kirkland@lmco.com, \\nhelena.klumpp@chadbourne.com, jknight@fioc.com, \\njoy_l_koch@mail.northgrum.com, rkochman@volt.com, mkoprulu@mfi-ny.com, \\npkorff@skadden.com, kostimv@texaco.com, ans.kristbergs@farrell-lines.com, \\nsandra_j_kristoff@newyorklife.com, Alex_Kulpecz@AZURIX.enron.com, \\nedward.kuncar@wackenhutcorp.com, jkuspa@mailer.kmec.com, \\nchristoph.ladanyi@gs.com, glandegger@pw-inc.com, rlarios@corp.sbc.com, \\nlaudienl@epenergy.com, lawrenjd@ix.netcom.com, \\ndavid_ledesma@AZURIX.enron.com, ed.lee@aig.com, leet@winstim.com, \\ndenyse.lefever@lmco.com, richard_lehfeldt@missionenergy.com, \\nllenfest@oracle.com, cel@energy-usa.com, john.libonati@owenscorning.com, \\njeff.lifur@chadbourne.com, duke.ligon@dvn.com, lynn_alleva@dai.com, \\njerry.d.lindstrom@lmco.com, juan_llovet@parsons.com, \\nadriana.i.griffith@parsons.com, loderw@winstim.com, wlor@chevron.com, \\nlosi@pbworld.com, andrew.loughlin@libertymutual.com, phil_luks@kmrpower.com, \\nrodney.j.macalister@usa.conoco.com, stuart.macdonald@chase.com, \\nmadden@farrell-lines.com, wmaddox@bellhelicopter.textron.com, \\nmariella.mahan@enron.com, michael.d.maher@exxon.com, paul.mandry@avon.com, \\nmarani@israelemb.org, cmarcenaro@louisberger.com, amarchetti@hess.com, \\ngary.c.marfin@usa.conoco.com, mmarino@tamsconsultants.com, \\ntrudy.marshall@nrgenergy.com, craig.martin@jacobs.com, \\njoseph.martin@chase.com, keith.martin@chadbourne.com, momartin@estee.com, \\npedro_martinez@raytheon.com, richard.mathews@avon.com, \\nbmay@bellhelicopter.textron.com, norman_c_mazurek@res.raytheon.com, \\nchemarie@monmouth.com, s-mccarthy@bciu.org, \\njim.mccarty@libertyinternational.com, jmcfarla@us.oracle.com, \\nBruce_C._McKay@CORP.CNG.COM, McLaughlin@pbworld.com, rmcphail@dttus.com, \\njames.g.melonas@bellatlantic.com, dgmengebier@cmsenergy.com, \\nsandy.merber@corporate.ge.com, michel@pbworld.com, don_mickelwait@dai.com, \\nmilburi@mail.northgrum.com, jrmiller2@west.raytheon.com, \\njohn_minihane@fwc.com, simeon_l_moats@email.mobil.com, \\nboyd.montgomery@unocal.com, cmoomjian@sfdrill.com, mmoore@acec.org, \\nmmorley@edelman.com, elambert.com@mindspring.com, stewart@stewart.com, \\nisabel_moya@dai.com, jmoyer@warnaco.com, rmulligan@chubb.com, \\nkevin.mulvey@aig.com, deborah.e.myers@sb.com, ken_nadolny@anadarko.com, \\njoyce_griffin@anadarko.com, tnanney@corp.sbc.com, naraf@winstim.com, \\nhernan.narea@chase.com, nathanh@winstim.com, r_d_nelson@email.mobil.com, \\njames.nelson@lmco.com, ted.nevins@aig.com, twnichol@oracle.com, \\nmichael_nocera@newyorklife.com, Rmnorthrup@cat.com, nosseira@ms.com, \\ndon_o\\'hare@sealand.com, olougga@mail.northgrum.com, brian.oneill@chase.com, \\noneillm@labs.wyeth.com, oneill@pbworld.com, john.b.o\\'sullivan@chadbourne.com, \\ntolic@icnpharm.com, charlie.oliver@fluordaniel.com, josborne@stewart.com, \\njeffrey_osborne@parsons.com, wayne.osterman@libertymutual.com, \\npaul.ostling@ey.com, bob.oswald@aexp.com, fpandith@mintz.com, \\nmpanic@icnpharm.com, robert.papas@corporate.ge.com, Nancy.Patton@parsons.com, \\nc-chris.pavlides@usa.conoco.com, jon.d.pender@sb.com, \\ngreg_pensabene@anadarko.com, rperez_sikorsky@compuserve.com, \\ncperry@fcacorp.com, speske@aol.com, phillip.peters@ey.com, BPeters@volt.com, \\nkaren.peterson@bms.com, daniel.c.petri@bellatlantic.com, fphelps@unocal.com, \\nbarbara.phillips@airtouch.com, ann_pickard@email.mobil.com, \\ngapickart@cmsenergy.com, pierrelouisl@winstim.com, bud.piland@mcdermott.com, \\nbmay@bellhelicopter.textron.com, joe_pinto@hp.com, jeanne_hoerter@merck.com, \\npollarb@corpdc.utc.com, dpolo@icfkaiser.com, fjp@symbolic.com, \\njody.powers@halliburton.com, george_p_pradas@email.mobil.com, \\npreissj@corpdc.utc.com, prieto@pbworld.com, lprosser@dttus.com, \\nkpuvak@acec.org, jrafuse@unocal.com, rragan@bechtel.com, \\nrod_j_ragan@parsons.com, draymond@acec.org, eregan@tamsconsultants.com, \\nReicheEA@bp.com, walt_reichert@hp.com, charles_o_richards@amoco.com, \\ntim.richards@corporate.ge.com, al_richey@anadarko.com, riverpw@texaco.com, \\njack_roadhouse@parsons.com, joseph.robertson@wackenhutcorp.com, \\nirobins@volt.com, damian.robinson@aexp.com, vrocca@louisberger.com, \\nlberger@louisberger.com, eric.rohtla@aig.com, mrollin@mail.arco.com, \\ndiana.roner@wackenhutcorp.com, rosaj@epenergy.com, kfrose@sepiv.shellus.com, \\nsteven.rosenberg@hbo.com, larry_rosenblatt@email.mobil.com, \\ngaryross@pira.com, Maria.Ruess@comsat.com, peter.ew.russell@chase.com, \\nsteve_rutkowski@anadarko.com, bill.ryzinski@nrgenergy.com, \\narthur.sackler@twi.com, esamara@worldspace.com, nsamara@worldspace.com, \\nantranig.sarkissian@citicorp.com, luis.sastre@lmco.com, \\njsatterwhite@sikorsky.com, nancysauer@pennzoil.com, rsaul@phrma.org, \\nrscharar@fcacorp.com, jeschmeltzer@pbwt.com, william.schmidt@chadbourne.com, \\npschnell@skadden.com, thomas.d.schoegler@lmco.com, rschofield@hess.com, \\nmarilyn.schorin@intl.pepsi.com, mschroeder@enron.com, \\npschuchter@mailer.kmec.com, aschwartz@pw-inc.com, bschweigel@oldworldind.com, \\nrobert.shapiro@chadbourne.com, alan.j.shepherd@mw.com, \\nmollie.shields@bms.com, larry_g_shockley@parsons.com, sbsi@chevron.com, \\nwilliam.h.siefken@lmco.com, kruskaia.sierra-escalante@chadbourne.com, \\nsilkenatj@winstim.com, ronald.singer@ae.ge.com, elliott.slade@db.com, \\ndenis_slavich@kmrpower.com, midges@ms.com, steve.smith@gecapital.com, \\nsandy.o\\'meara@gecapital.com, jack.w.snyder@lmco.com, solbera@texaco.com, \\nsolliea@texaco.com, francis.stankard@aexp.com, rystebbin@aol.com, \\nmstewart@dc.textron.com, pstirlin@us.oracle.com, dcarlson@mailer.kmec.com, \\nastraus@skadden.com, eugene.r.sullivan@chadbourne.com, \\nbill_sullivan@anadarko.com, mark.f.supko@lmco.com, sally.susman@aexp.com, \\ndavid.syphard@crssc.com, president@artleygroup.com, VTarallo@aol.com, \\ntarbels@pweh.com, stephen_s_teel@res.raytheon.com, arthur.thomas@ey.com, \\nc_nigel_thompson@merck.com, dick.thompson@bms.com, thorn@ei.enron.com, \\nbthornton@fwtxusa.org, james_e_thrash@parsons.com, p-tichansky@bciu.org, \\njim.e.tobin@aexp.com, john.tognino@nasdaq.com, luis.torres@chadbourne.com, \\nTownshME@bp.com, strendic@us.oracle.com, trevijm@texaco.com, \\njacktymann@aol.com, jtymann@worldspace.com, elizabeth.a.tyson@sb.com, \\nulrich@pbworld.com, urbans@eu1.bp.com, munnj1@bp.com, \\ngvandyke@vancoenergy.com, philip.vaughn@fluordaniel.com, \\nandy_veje@parsons.com, frank.verrastro@dvn.com, aracelia.vila@spcorp.com, \\njudith.a.vincent@usa.conoco.com, evis65677@aol.com, \\nvlachpa@mail.northgrum.com, chaim.wachsberger@chadbourne.com, \\njwalden@vancoenergy.com, peter_walters@guardian.com, \\naverhulst@worldnet.att.net, eward@skadden.com, \\nkenneth.j.warnock@bellatlantic.com, c-watson@bciu.org, \\nmweaver@fortworthchamber.com, paul.weber@chadbourne.com, \\nthomas_h_weese@ccgate.ueci.com, jwei@haythecurley.com, v-weil@bciu.org, \\njoel.a.weiss@lmco.com, dwestfa@enron.com, john_m_white@eo.raytheon.com, \\njwhitman@nacds.org, scott_whitney@ogden-energy.com, jim_whittaker@hp.com, \\nguenther.o.wilhelm@exxon.com, t-wilkes@bciu.org, cwilkison@worldspace.com, \\nron.will@nrgenergy.com, elizabeth.f.williamson@usa.conoco.com, \\ndwillkens@dfintl.com, scarbroughs_plum@usa.net, \\nDebra_Winchester@res.raytheon.com, cwindels@pfizer.com, frank.wisner@aig.com, \\nwisnoskik@epenergy.com, dwolff@louisberger.com, ctompkins@louisberger.com, \\nkwoodcock@aesc.com, sross@aesc.com, WoodsHR@bp.com, \\newright@west.raytheon.com, wrightp12@bp.com, fouquepa@bp.com, \\noyandle@itsa.org, yannif@labs.wyeth.com, cordelia_m._yoon@newyorklife.com, \\nlzak@mintz.com, ezsol@aol.com, lawrence.ziman@chadbourne.com, \\nczimmerman@dfintl.com, dzsebik_sikorsky@compuserve.com\\ncc:  \\n\\nSubject: Department of Energy Pre-departure Briefing w/ Asst. Secy. Goldwyn\\n\\n\\nTO:  BCIU Members\\nFROM: Scott McCarthy\\n  Director of Programs\\n  Ph: 212-490-0460, ext. 224\\n  Fx: 212-697-8526\\n\\nPRE-DEPARTURE BRIEFING\\n\\nBCIU and the U.S. Department of Energy are pleased to announce an industry\\nbriefing with:\\n\\nASSISTANT SECRETARY OF ENERGY DAVID GOLDWYN\\nIN PREPARATION FOR ENERGY SECRETARY BILL RICHARDSON\\'S\\nMIDDLE EAST TRIP\\n(EGYPT, ISRAEL, PALESTINIAN AUTHORITY,\\n KUWAIT, AND SAUDI ARABIA)\\n\\n\\nDATE: Thursday, February 17, 2000\\nTIME: 10:30 a.m. - 11:30 a.m.\\nPLACE: Department of Energy\\n  Room 7C016\\n  1000 Independence Avenue, S.W.\\n  Washington, DC 20036\\n\\n\\nSecretary of Energy Bill Richardson is visiting the Middle East February\\n19-26 where he will meet with officials in Egypt, Israel, the Palestinian\\nAuthority, Kuwait and Saudi Arabia.  He is expected to sign bilateral\\nScience and Technology Agreements (or annexes to existing agreements)\\nfocused on solar and renewable energy, advanced power systems, and/or\\nelectric vehicle programs with Egypt and Israel, as well as an Energy\\nCooperation Agreement with the Palestinian Authority.  He will meet the\\nleaderships of Kuwait and Saudi Arabia on international oil company\\ninvolvement in the upstream oil sector and other issues important to U.S.\\nindustry.\\n\\nBCIU invites you to join Department of Energy Assistant Secretary for\\nInternational Affairs David Goldwyn, Deputy Assistant Secretary Theresa\\nFariello, Special Assistant to Secretary Richardson for Policy Rachel King,\\nand Director for NIS, Russia and Middle East Affairs Len Coburn for an\\nindustry roundtable in preparation for this visit.  Companies are\\nencouraged to bring background material for the Secretary\\'s use during the\\ntrip to this meeting if they have not been provided to the Department of\\nEnergy previously.\\n\\nIf you have any questions regarding this program, please contact Jeffrey\\nDonald at tel. (202) 775-6074, fax: (202) 775-6025; E-MAIL j-donald@bciu.org.\\n-------------------------------------------------------------\\nIf you would like to attend, please complete the form below and respond via\\nreply e-mail OR fax your reservation to (202) 775-6025.\\n\\nName:____________________ Title:__________________________\\n\\nSocial Security Number (for clearance into\\n the Department of Energy):______________________\\n\\nCompany:__________________________________________________\\n\\nAddress:__________________________________________________\\n\\nPhone:__________________   Fax:______________________\\n\\nEmail:___________________________________\\n\\nProgram number: 3750JD\\n\\n\\n\\n\\n\\n\\n\\n\\n\\n\\n\\n\\n\\n', 'from': 'Mark Schroeder', 'subject': 'Department of Energy Pre-departure Briefing w/ Asst. Secy.\\n Goldwyn', 'thread_id': 2103, 'timestamp': 950164680000, 'to': ['Andrew Makk', 'Mac McClelland']}]\n",
      "summary\n",
      "{'summary': \"The email announces a pre-departure briefing with Assistant Secretary of Energy David Goldwyn in preparation for Energy Secretary Bill Richardson's Middle East trip. The trip will include visits to Egypt, Israel, the Palestinian Authority, Kuwait, and Saudi Arabia. Secretary Richardson will sign bilateral agreements focused on solar and renewable energy, advanced power systems, and electric vehicle programs. The briefing will be held on February 17, 2000, at the Department of Energy in Washington, DC. Attendees are encouraged to bring background material for the Secretary's use during the trip.\", 'thread_id': 2103}\n"
     ]
    }
   ],
   "source": [
    "for k, v in train_dataset[0].items():\n",
    "    print(k)\n",
    "    print(v)"
   ]
  },
  {
   "cell_type": "code",
   "execution_count": 8,
   "metadata": {},
   "outputs": [
    {
     "data": {
      "application/vnd.jupyter.widget-view+json": {
       "model_id": "61618df5152347c98a4975ee8a85c737",
       "version_major": 2,
       "version_minor": 0
      },
      "text/plain": [
       "Map:   0%|          | 0/3333 [00:00<?, ? examples/s]"
      ]
     },
     "metadata": {},
     "output_type": "display_data"
    }
   ],
   "source": [
    "train_data = train_dataset.map(\n",
    "    lambda batch: batch_tokenize_preprocess(batch, tokenizer, encoder_max_length, decoder_max_length),\n",
    "    batched=False,\n",
    "    batch_size=8,\n",
    "    remove_columns=[\"email_list\", \"summary\"],\n",
    ")"
   ]
  },
  {
   "cell_type": "markdown",
   "metadata": {},
   "source": [
    "## Training"
   ]
  },
  {
   "cell_type": "markdown",
   "metadata": {},
   "source": [
    "### Metrics"
   ]
  },
  {
   "cell_type": "code",
   "execution_count": 9,
   "metadata": {},
   "outputs": [
    {
     "name": "stderr",
     "output_type": "stream",
     "text": [
      "/var/folders/lc/vx0lyr050d78snsr7_18kdsr0000gn/T/ipykernel_11701/4242988070.py:5: FutureWarning: load_metric is deprecated and will be removed in the next major version of datasets. Use 'evaluate.load' instead, from the new library 🤗 Evaluate: https://huggingface.co/docs/evaluate\n",
      "  metric = datasets.load_metric(\"rouge\")\n"
     ]
    }
   ],
   "source": [
    "# Borrowed from https://github.com/huggingface/transformers/blob/master/examples/seq2seq/run_summarization.py\n",
    "\n",
    "nltk.download(\"punkt\", quiet=True)\n",
    "\n",
    "metric = datasets.load_metric(\"rouge\")\n",
    "\n",
    "\n",
    "def postprocess_text(preds, labels):\n",
    "    preds = [pred.strip() for pred in preds]\n",
    "    labels = [label.strip() for label in labels]\n",
    "\n",
    "    # rougeLSum expects newline after each sentence\n",
    "    preds = [\"\\n\".join(nltk.sent_tokenize(pred)) for pred in preds]\n",
    "    labels = [\"\\n\".join(nltk.sent_tokenize(label)) for label in labels]\n",
    "\n",
    "    return preds, labels\n",
    "\n",
    "\n",
    "def compute_metrics(eval_preds):\n",
    "    preds, labels = eval_preds\n",
    "    if isinstance(preds, tuple):\n",
    "        preds = preds[0]\n",
    "    decoded_preds = tokenizer.batch_decode(preds, skip_special_tokens=True)\n",
    "    # Replace -100 in the labels as we can't decode them.\n",
    "    labels = np.where(labels != -100, labels, tokenizer.pad_token_id)\n",
    "    decoded_labels = tokenizer.batch_decode(labels, skip_special_tokens=True)\n",
    "\n",
    "    # Some simple post-processing\n",
    "    decoded_preds, decoded_labels = postprocess_text(decoded_preds, decoded_labels)\n",
    "\n",
    "    result = metric.compute(\n",
    "        predictions=decoded_preds, references=decoded_labels, use_stemmer=True\n",
    "    )\n",
    "    # Extract a few results from ROUGE\n",
    "    result = {key: value.mid.fmeasure * 100 for key, value in result.items()}\n",
    "\n",
    "    prediction_lens = [\n",
    "        np.count_nonzero(pred != tokenizer.pad_token_id) for pred in preds\n",
    "    ]\n",
    "    result[\"gen_len\"] = np.mean(prediction_lens)\n",
    "    result = {k: round(v, 4) for k, v in result.items()}\n",
    "    return result"
   ]
  },
  {
   "cell_type": "code",
   "execution_count": 10,
   "metadata": {},
   "outputs": [],
   "source": [
    "# training_args = Seq2SeqTrainingArguments(\n",
    "#     output_dir=\"results\",\n",
    "#     num_train_epochs=1,  # demo\n",
    "#     do_train=True,\n",
    "#     do_eval=True,\n",
    "#     per_device_train_batch_size=4,  # demo\n",
    "#     per_device_eval_batch_size=4,\n",
    "#     learning_rate=3e-05,\n",
    "#     warmup_steps=500,\n",
    "#     weight_decay=0.1,\n",
    "#     label_smoothing_factor=0.1,\n",
    "#     predict_with_generate=True,\n",
    "#     logging_dir=\"logs\",\n",
    "#     logging_steps=50,\n",
    "#     save_total_limit=3,\n",
    "# )\n",
    "\n",
    "data_collator = DataCollatorForSeq2Seq(tokenizer, model=model)\n",
    "\n",
    "# trainer = Seq2SeqTrainer(\n",
    "#     model=model,\n",
    "#     args=training_args,\n",
    "#     data_collator=data_collator,\n",
    "#     train_dataset=train,\n",
    "#     eval_dataset=test,\n",
    "#     tokenizer=tokenizer,\n",
    "#     compute_metrics=compute_metrics,\n",
    "# )"
   ]
  },
  {
   "cell_type": "code",
   "execution_count": 11,
   "metadata": {},
   "outputs": [
    {
     "name": "stderr",
     "output_type": "stream",
     "text": [
      "huggingface/tokenizers: The current process just got forked, after parallelism has already been used. Disabling parallelism to avoid deadlocks...\n",
      "To disable this warning, you can either:\n",
      "\t- Avoid using `tokenizers` before the fork if possible\n",
      "\t- Explicitly set the environment variable TOKENIZERS_PARALLELISM=(true | false)\n",
      "huggingface/tokenizers: The current process just got forked, after parallelism has already been used. Disabling parallelism to avoid deadlocks...\n",
      "To disable this warning, you can either:\n",
      "\t- Avoid using `tokenizers` before the fork if possible\n",
      "\t- Explicitly set the environment variable TOKENIZERS_PARALLELISM=(true | false)\n"
     ]
    }
   ],
   "source": [
    "training_args = Seq2SeqTrainingArguments(\n",
    "    output_dir=\"results\",\n",
    "    evaluation_strategy=\"epoch\",\n",
    "    learning_rate=2e-5,\n",
    "    per_device_train_batch_size=16,\n",
    "    per_device_eval_batch_size=16,\n",
    "    weight_decay=0.01,\n",
    "    save_total_limit=3,\n",
    "    num_train_epochs=4,\n",
    "    predict_with_generate=True,\n",
    ")\n",
    "\n",
    "trainer = Seq2SeqTrainer(\n",
    "    model=model,\n",
    "    args=training_args,\n",
    "    train_dataset=train_data,\n",
    "    eval_dataset=test_dataset,\n",
    "    tokenizer=tokenizer,\n",
    "    data_collator=data_collator,\n",
    "    compute_metrics=compute_metrics,\n",
    ")"
   ]
  },
  {
   "cell_type": "code",
   "execution_count": 12,
   "metadata": {},
   "outputs": [
    {
     "name": "stderr",
     "output_type": "stream",
     "text": [
      "Failed to detect the name of this notebook, you can set it manually with the WANDB_NOTEBOOK_NAME environment variable to enable code saving.\n",
      "huggingface/tokenizers: The current process just got forked, after parallelism has already been used. Disabling parallelism to avoid deadlocks...\n",
      "To disable this warning, you can either:\n",
      "\t- Avoid using `tokenizers` before the fork if possible\n",
      "\t- Explicitly set the environment variable TOKENIZERS_PARALLELISM=(true | false)\n",
      "huggingface/tokenizers: The current process just got forked, after parallelism has already been used. Disabling parallelism to avoid deadlocks...\n",
      "To disable this warning, you can either:\n",
      "\t- Avoid using `tokenizers` before the fork if possible\n",
      "\t- Explicitly set the environment variable TOKENIZERS_PARALLELISM=(true | false)\n",
      "\u001b[34m\u001b[1mwandb\u001b[0m: Currently logged in as: \u001b[33msvntii\u001b[0m. Use \u001b[1m`wandb login --relogin`\u001b[0m to force relogin\n",
      "huggingface/tokenizers: The current process just got forked, after parallelism has already been used. Disabling parallelism to avoid deadlocks...\n",
      "To disable this warning, you can either:\n",
      "\t- Avoid using `tokenizers` before the fork if possible\n",
      "\t- Explicitly set the environment variable TOKENIZERS_PARALLELISM=(true | false)\n",
      "huggingface/tokenizers: The current process just got forked, after parallelism has already been used. Disabling parallelism to avoid deadlocks...\n",
      "To disable this warning, you can either:\n",
      "\t- Avoid using `tokenizers` before the fork if possible\n",
      "\t- Explicitly set the environment variable TOKENIZERS_PARALLELISM=(true | false)\n"
     ]
    },
    {
     "data": {
      "text/html": [
       "Tracking run with wandb version 0.16.0"
      ],
      "text/plain": [
       "<IPython.core.display.HTML object>"
      ]
     },
     "metadata": {},
     "output_type": "display_data"
    },
    {
     "data": {
      "text/html": [
       "Run data is saved locally in <code>/Users/saint/Desktop/school/NLP/nlp-summarizer/wandb/run-20231203_184045-d9lvirma</code>"
      ],
      "text/plain": [
       "<IPython.core.display.HTML object>"
      ]
     },
     "metadata": {},
     "output_type": "display_data"
    },
    {
     "data": {
      "text/html": [
       "Syncing run <strong><a href='https://wandb.ai/svntii/huggingface/runs/d9lvirma' target=\"_blank\">atomic-feather-3</a></strong> to <a href='https://wandb.ai/svntii/huggingface' target=\"_blank\">Weights & Biases</a> (<a href='https://wandb.me/run' target=\"_blank\">docs</a>)<br/>"
      ],
      "text/plain": [
       "<IPython.core.display.HTML object>"
      ]
     },
     "metadata": {},
     "output_type": "display_data"
    },
    {
     "data": {
      "text/html": [
       " View project at <a href='https://wandb.ai/svntii/huggingface' target=\"_blank\">https://wandb.ai/svntii/huggingface</a>"
      ],
      "text/plain": [
       "<IPython.core.display.HTML object>"
      ]
     },
     "metadata": {},
     "output_type": "display_data"
    },
    {
     "data": {
      "text/html": [
       " View run at <a href='https://wandb.ai/svntii/huggingface/runs/d9lvirma' target=\"_blank\">https://wandb.ai/svntii/huggingface/runs/d9lvirma</a>"
      ],
      "text/plain": [
       "<IPython.core.display.HTML object>"
      ]
     },
     "metadata": {},
     "output_type": "display_data"
    },
    {
     "data": {
      "application/vnd.jupyter.widget-view+json": {
       "model_id": "46ecad7241cf4027947b5b13526fbaa3",
       "version_major": 2,
       "version_minor": 0
      },
      "text/plain": [
       "  0%|          | 0/836 [00:00<?, ?it/s]"
      ]
     },
     "metadata": {},
     "output_type": "display_data"
    },
    {
     "name": "stderr",
     "output_type": "stream",
     "text": [
      "You're using a PegasusTokenizerFast tokenizer. Please note that with a fast tokenizer, using the `__call__` method is faster than using a method to encode the text followed by a call to the `pad` method to get a padded encoding.\n"
     ]
    },
    {
     "ename": "",
     "evalue": "",
     "output_type": "error",
     "traceback": [
      "\u001b[1;31mThe Kernel crashed while executing code in the the current cell or a previous cell. Please review the code in the cell(s) to identify a possible cause of the failure. Click <a href='https://aka.ms/vscodeJupyterKernelCrash'>here</a> for more info. View Jupyter <a href='command:jupyter.viewOutput'>log</a> for further details."
     ]
    }
   ],
   "source": [
    "trainer.train()"
   ]
  },
  {
   "cell_type": "markdown",
   "metadata": {},
   "source": []
  },
  {
   "cell_type": "code",
   "execution_count": null,
   "metadata": {},
   "outputs": [],
   "source": []
  }
 ],
 "metadata": {
  "kernelspec": {
   "display_name": "Python 3",
   "language": "python",
   "name": "python3"
  },
  "language_info": {
   "codemirror_mode": {
    "name": "ipython",
    "version": 3
   },
   "file_extension": ".py",
   "mimetype": "text/x-python",
   "name": "python",
   "nbconvert_exporter": "python",
   "pygments_lexer": "ipython3",
   "version": "3.11.4"
  }
 },
 "nbformat": 4,
 "nbformat_minor": 2
}
