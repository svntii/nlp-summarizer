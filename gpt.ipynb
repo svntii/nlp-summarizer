{
 "cells": [
  {
   "cell_type": "code",
   "execution_count": 5,
   "metadata": {},
   "outputs": [
    {
     "name": "stdout",
     "output_type": "stream",
     "text": [
      "Requirement already satisfied: openai in /Users/saint/anaconda3/envs/nlp/lib/python3.11/site-packages (1.3.7)\n",
      "Requirement already satisfied: anyio<4,>=3.5.0 in /Users/saint/anaconda3/envs/nlp/lib/python3.11/site-packages (from openai) (3.7.1)\n",
      "Requirement already satisfied: distro<2,>=1.7.0 in /Users/saint/anaconda3/envs/nlp/lib/python3.11/site-packages (from openai) (1.8.0)\n",
      "Requirement already satisfied: httpx<1,>=0.23.0 in /Users/saint/anaconda3/envs/nlp/lib/python3.11/site-packages (from openai) (0.25.2)\n",
      "Requirement already satisfied: pydantic<3,>=1.9.0 in /Users/saint/anaconda3/envs/nlp/lib/python3.11/site-packages (from openai) (2.5.2)\n",
      "Requirement already satisfied: sniffio in /Users/saint/anaconda3/envs/nlp/lib/python3.11/site-packages (from openai) (1.3.0)\n",
      "Requirement already satisfied: tqdm>4 in /Users/saint/anaconda3/envs/nlp/lib/python3.11/site-packages (from openai) (4.65.0)\n",
      "Requirement already satisfied: typing-extensions<5,>=4.5 in /Users/saint/anaconda3/envs/nlp/lib/python3.11/site-packages (from openai) (4.7.1)\n",
      "Requirement already satisfied: idna>=2.8 in /Users/saint/anaconda3/envs/nlp/lib/python3.11/site-packages (from anyio<4,>=3.5.0->openai) (3.4)\n",
      "Requirement already satisfied: certifi in /Users/saint/anaconda3/envs/nlp/lib/python3.11/site-packages (from httpx<1,>=0.23.0->openai) (2023.7.22)\n",
      "Requirement already satisfied: httpcore==1.* in /Users/saint/anaconda3/envs/nlp/lib/python3.11/site-packages (from httpx<1,>=0.23.0->openai) (1.0.2)\n",
      "Requirement already satisfied: h11<0.15,>=0.13 in /Users/saint/anaconda3/envs/nlp/lib/python3.11/site-packages (from httpcore==1.*->httpx<1,>=0.23.0->openai) (0.14.0)\n",
      "Requirement already satisfied: annotated-types>=0.4.0 in /Users/saint/anaconda3/envs/nlp/lib/python3.11/site-packages (from pydantic<3,>=1.9.0->openai) (0.6.0)\n",
      "Requirement already satisfied: pydantic-core==2.14.5 in /Users/saint/anaconda3/envs/nlp/lib/python3.11/site-packages (from pydantic<3,>=1.9.0->openai) (2.14.5)\n",
      "Requirement already satisfied: python-dotenv in /Users/saint/anaconda3/envs/nlp/lib/python3.11/site-packages (1.0.0)\n"
     ]
    }
   ],
   "source": [
    "! pip3 install openai\n",
    "! pip3 install python-dotenv"
   ]
  },
  {
   "cell_type": "code",
   "execution_count": 30,
   "metadata": {},
   "outputs": [
    {
     "data": {
      "text/plain": [
       "True"
      ]
     },
     "execution_count": 30,
     "metadata": {},
     "output_type": "execute_result"
    }
   ],
   "source": [
    "import openai\n",
    "from openai import OpenAI\n",
    "import os\n",
    "from dotenv import load_dotenv\n",
    "from datasets import load_dataset\n",
    "\n",
    "load_dotenv()\n"
   ]
  },
  {
   "cell_type": "code",
   "execution_count": 43,
   "metadata": {},
   "outputs": [],
   "source": [
    "class emailGPT:\n",
    "    def __init__(self, api_key=os.getenv(\"OPENAI_API_KEY\"), model=\"gpt-3.5-turbo\"):\n",
    "        self.api_key = api_key\n",
    "        self.client = OpenAI(api_key=api_key)\n",
    "        self.model = model\n",
    "\n",
    "    def summarize_gpt(self, email, max_tokens=50):\n",
    "        prompt = \"Summarize this email thread. Be concise, and try to capture the essence of the email without copying or repeating yourself.\\n\\nEmail:\"\n",
    "        final_prompt = prompt + email\n",
    "        return self.generate_response(final_prompt, max_tokens)\n",
    "    \n",
    "    def produce_subject_gpt(self, email, max_tokens=50):\n",
    "        prompt = \"Produce a subject line for this email thread. Be concise, and try to capture the essence of the email without copying or repeating yourself.\\n\\nEmail:\"\n",
    "        final_prompt = prompt + email\n",
    "        return self.generate_response(final_prompt, max_tokens)\n",
    "\n",
    "    def generate_response(self, prompt, max_tokens=50):\n",
    "        \n",
    "\n",
    "        try:\n",
    "            response = self.client.chat.completions.create(\n",
    "                model=self.model,\n",
    "                messages=[prompt],\n",
    "                max_tokens=max_tokens,\n",
    "                temperature=0.7,\n",
    "            )\n",
    "            return response.choices[0].text.strip()\n",
    "\n",
    "        except Exception as e:\n",
    "            print(f\"Error :{e}\")\n",
    "            return None"
   ]
  },
  {
   "cell_type": "code",
   "execution_count": 44,
   "metadata": {},
   "outputs": [],
   "source": [
    "agent = emailGPT()"
   ]
  },
  {
   "cell_type": "code",
   "execution_count": 45,
   "metadata": {},
   "outputs": [],
   "source": [
    "d = load_dataset(\"sidhq/email-thread-summary\")\n",
    "\n",
    "text = d[\"train\"][0]['thread'][\"messages\"][0][\"body\"]"
   ]
  },
  {
   "cell_type": "code",
   "execution_count": 46,
   "metadata": {},
   "outputs": [
    {
     "name": "stdout",
     "output_type": "stream",
     "text": [
      "Error :Error code: 429 - {'error': {'message': 'You exceeded your current quota, please check your plan and billing details.', 'type': 'insufficient_quota', 'param': None, 'code': 'insufficient_quota'}}\n"
     ]
    }
   ],
   "source": [
    "agent.summarize_gpt(\"text\")"
   ]
  },
  {
   "cell_type": "code",
   "execution_count": null,
   "metadata": {},
   "outputs": [],
   "source": []
  }
 ],
 "metadata": {
  "kernelspec": {
   "display_name": "Python 3",
   "language": "python",
   "name": "python3"
  },
  "language_info": {
   "codemirror_mode": {
    "name": "ipython",
    "version": 3
   },
   "file_extension": ".py",
   "mimetype": "text/x-python",
   "name": "python",
   "nbconvert_exporter": "python",
   "pygments_lexer": "ipython3",
   "version": "3.11.4"
  }
 },
 "nbformat": 4,
 "nbformat_minor": 2
}
